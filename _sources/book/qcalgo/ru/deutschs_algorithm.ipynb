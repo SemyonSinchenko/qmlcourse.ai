{
 "cells": [
  {
   "cell_type": "markdown",
   "id": "6a51faff",
   "metadata": {},
   "source": [
    "(deutschs_algorithm)=\n",
    "\n",
    "# Алгоритм Дойча\n",
    "\n",
    "Автор(ы):\n",
    "\n",
    "- [Ширкин Сергей](https://github.com/SergeiShirkin)\n",
    "\n",
    "\n",
    "**Алгоритм Дойча** (в английском варианте -- **Deutsch's algorithm**) -- это один из первых алгоритмов, показавших, что квантовый компьютер может решать задачи особым способом, отличающимся как от алгоритмов классического компьютера, так и от интуиции и здравого смысла человека. При этом такое решение может занимать меньшее количество шагов.\n",
    "\n",
    "Нужно прежде всего сказать, что алгоритм Дойча не имеет практического применения в силу своей предельной простоты, зато является простейшим примером, с помощью которого можно понять, в чем состоит отличие квантовых алгоритмов от классических. Данный алгоритм был предложен в 1985 году, когда квантовых компьютеров еще не было, а практически он был реализован в 1998 году на 2-кубитном квантовом компьютере, работавшем на принципах ядерно-магнитного резонанса.\n",
    "\n",
    "```{admonition} Дэвид Дойч\n",
    "Помимо занятий теоретической физикой в Оксфордском университете, Дэвид Дойч -- автор книг \"Структура реальности\" и \"Начало бесконечности\", в которых он популярно излагает идеи квантовых вычислений с точки зрения многомировой интерпретеции (сторонником которой является) и философствует о будущем науки и человечества. Так что можно сказать, что работа алгоритма, согласно замыслу создателя, производится в параллельных вселенных. Так это или нет, пока проверить невозможно, но вычисления работают, и это главное.\n",
    "```\n",
    "\n",
    "Итак, в чем состоит задача, которую решает алгоритм? Представьте, что у вас есть функция, которая представляет собой \"черный ящик\", принимающий на вход число из множества $\\{0, 1\\}$. Функция неким образом обрабатывает входное значение и возвращает число из этого же множества, то есть либо $0$, либо $1$. Нам известно, что эта функция принадлежит либо к классу сбалансированных функций, либо к классу константных функций (которые мы также можем называть несбалансированными). Задача алгоритма -- установить, к какому классу принадлежит функция.\n",
    "\n",
    "Рассмотрим все варианты этих двух классов. Всего их четыре, то есть по две функции в каждом классе. Начнем с несбалансированных:\n",
    "\n",
    "- $f_1(x) = 0$\n",
    "\n",
    "Это функция, всегда возвращающая $0$, независимо от входного значения. Для нее справедливы выражения:\n",
    "\n",
    "$$\n",
    "f_1(0) = 0\n",
    "$$\n",
    "$$\n",
    "f_1(1) = 0\n",
    "$$\n",
    "\n",
    "- $f_2(x) = 1$\n",
    "\n",
    "Такая функция всегда возвращает $1$, то есть верно следующее:\n",
    "\n",
    "$$\n",
    "f_2(0) = 1\n",
    "$$\n",
    "$$\n",
    "f_2(1) = 1\n",
    "$$\n",
    "\n",
    "Ну а теперь посмотрим на сбалансированные функции. Для них характерно то, что они могут возвращать как $0$, так и $1$. В этом и заключается \"баланс\".\n",
    "\n",
    "- $f_3(x) = x$\n",
    "\n",
    "Это тождественная функция, которая ничего не делает с входным значением. Для нее справедливо следующее:\n",
    "\n",
    "$$\n",
    "f_3(0) = 0\n",
    "$$\n",
    "$$\n",
    "f_3(1) = 1\n",
    "$$\n",
    "\n",
    "- $f_4(x) = \\overline{x}$\n",
    "\n",
    "А вот эта функция инвертирует входное значение, то есть возвращает не то число, которое было подано на вход, а другое:\n",
    "\n",
    "$$\n",
    "f_4(0) = 1\n",
    "$$\n",
    "$$\n",
    "f_4(1) = 0\n",
    "$$\n",
    "\n",
    "Классический компьютер справляется с задачей за два шага. Например, нам дана некоторая функция-\"черный ящик\", и мы должны установить, сбалансирована ли она. На первом шаге мы отправляем в функцию входное значение $0$. Допустим, мы получили на выходе также $0$. Мы можем сказать, что данная функция -- либо $f_1$ (константная функция, всегда возвращающая $0$), либо $f_3$ (сбалансированная функция, не меняющая входное значение). Для окончательного решения мы должны сделать еще один шаг -- отправить в функцию значение $1$. Если при этом мы получим опять $0$, то это функция $f_1$, а если получили на выходе $1$, то искомая функция -- $f_3$.\n",
    "\n",
    "Способа, с помощью которого на классическом компьютере можно за одно действие установить, сбалансирована функция или нет, не существует. И здесь свое преимущество показывает квантовый компьютер: он может установить класс функции за одно действие.\n",
    "\n",
    "Для начала рассмотрим простейшую схему, с помощью которой можно отправлять число на вход и получать ответ от черного ящика:\n",
    "\n",
    "```{figure} /_static/qcalgo/ru/deutschs_algorithm/scheme_1.png\n",
    ":name: scheme_1\n",
    ":width: 400px\n",
    "\n",
    "Схема 1\n",
    "```\n",
    "\n",
    "$U_f$ на данной схеме -- это неизвестная функция (ее также часто называют \"оракул\"), являющаяся унитарным оператором. Обратите внимание, что в квантовой схеме используются два кубита. Это нужно для того, чтобы информация, с которой работает квантовый компьютер, не стиралась. В квантовом компьютере важно, чтобы все действия с кубитами (кроме операции измерения) были обратимыми, а для этого информация должна сохраняться. В верхнем кубите будет записано входное значение, а в нижнем -- выходное значение функции. Таким образом, входное значение не будет перезаписано значением, которое вернет функция.\n",
    "\n",
    "Но нам важно будет не только сохранить значение $|x\\rangle$, но также и не разрушить $|y\\rangle$. Так как кубит $y$ очевидно имеет некоторое изначальное значение, мы не можем его просто перезаписать тем числом, которое выдаст функция $f(x)$. Здесь на помощь приходит операция исключающее ИЛИ - $XOR$ (также ее можно называть сложением по модулю 2), обозначенная на схеме как $\\oplus$. В процессе работы черный ящик $U_f$ не только находит значение $f(x)$, но и применяет исключающее ИЛИ к значениям $y$ и $f(x)$.\n",
    "\n",
    "Операции $XOR$ соответствует такая таблица истинности:\n",
    "\n",
    "|  a  |  b  | a XOR b |\n",
    "| :-: | :-: | :-----: |\n",
    "|  0  |  0  |    0    |\n",
    "|  0  |  1  |    1    |\n",
    "|  1  |  0  |    1    |\n",
    "|  1  |  1  |    0    |\n",
    "\n",
    "Операция $XOR$ хороша для нас тем, что она не разрушает значение $|y\\rangle$, так как является обратимой. Убедиться в этом можно, проверив тождество:\n",
    "\n",
    "$$\n",
    "(a \\oplus b) \\oplus b = a\n",
    "$$\n",
    "\n",
    "_Схема 1_ пока что не дает преимущества по сравнению с классическим компьютером, но мы можем ее немного усовершенствовать:\n",
    "\n",
    "```{figure} /_static/qcalgo/ru/deutschs_algorithm/scheme_2.png\n",
    ":name: scheme_2\n",
    ":width: 500px\n",
    "\n",
    "Схема 2\n",
    "```\n",
    "\n",
    "В новой схеме оба кубита вначале будут находиться в состоянии $|0\\rangle$. Затем мы применим к верхнему кубиту оператор Адамара, а к нижнему -- гейт $X$, а затем так же, как и к верхнему, оператор Адамара. Тем самым мы приведем оба кубита в состояние суперпозиции перед тем, как они попадут на вход функции $U_f$.\n",
    "Верхний кубит будет находиться в такой суперпозиции:\n",
    "\n",
    "$$\n",
    "|x\\rangle = \\frac{1}{\\sqrt{2}}|0\\rangle + \\frac{1}{\\sqrt{2}}|1\\rangle,\n",
    "$$\n",
    "\n",
    "а нижний - в такой:\n",
    "\n",
    "$$\n",
    "|y\\rangle = \\frac{1}{\\sqrt{2}}|0\\rangle - \\frac{1}{\\sqrt{2}}|1\\rangle.\n",
    "$$\n",
    "\n",
    "Если рассмотреть это как систему $|\\psi\\rangle$, состоящую из двух кубитов, то она будет выглядеть так:\n",
    "\n",
    "$$\n",
    "|\\psi\\rangle = \\frac{1}{2}(|0\\rangle + |1\\rangle)(|0\\rangle - |1\\rangle)\n",
    "$$\n",
    "\n",
    "Сразу после $U_f$ система будет находиться в состоянии:\n",
    "\n",
    "$$|\\psi\\rangle = \\frac{1}{2}(|0\\rangle + |1\\rangle)(|0 \\oplus f(x)\\rangle - |1 \\oplus f(x)\\rangle)\n",
    "$$\n",
    "\n",
    "После того, как $U_f$ отрабатывает, нижний кубит, как это ни странно, уже нас не интересует, так что к нему операции больше не применяются, и его измерение также не производится.\n",
    "\n",
    "Дело в том, что ответ на вопрос о том, сбалансирована функция $f(x)$ или нет, будет нами получен из верхнего кубита после того, как на него подействует оператор Адамара и будет произведено измерение. В том случае, если функция сбалансирована, результат измерения верхнего кубита будет равен $1$, а если несбалансированна -- $0$.\n",
    "\n",
    "Разберемся подробнее, почему это происходит. Рассмотрим все возможные $f(x)$, которые могут находиться в черном ящике:\n",
    "\n",
    "- $f(x) = f_1$\n",
    "\n",
    "В этом случае $f(x)$ всегда принимает значение $0$, и система кубитов будет выглядеть так:\n",
    "\n",
    "$$\n",
    "|\\psi\\rangle = \\frac{1}{2}(|0\\rangle + |1\\rangle)(|0\\rangle - |1\\rangle) = \\frac{1}{2}(|00\\rangle - |01\\rangle + |10\\rangle - |11\\rangle)\n",
    "$$\n",
    "\n",
    "- $f(x) = f_2$\n",
    "\n",
    "$f(x)$ будет равно $1$ независимо от аргумента. Используя таблицу истинности XOR, легко убедиться, что во второй скобке $|0\\rangle$ и $|1\\rangle$ поменяются местами, но если вынести минус за скобку, то мы можем его не учитывать, так общий фазовый множитель (-1 в данном случае) для системы не имеет значения:\n",
    "\n",
    "$$\n",
    "|\\psi\\rangle = \\frac{1}{2}(|0\\rangle + |1\\rangle)(|1\\rangle - |0\\rangle) = -\\frac{1}{2}(|0\\rangle + |1\\rangle)(|0\\rangle - |1\\rangle) = -\\frac{1}{2}(|00\\rangle - |01\\rangle + |10\\rangle - |11\\rangle)\n",
    "$$\n",
    "\n",
    "Видно, что при применении функций $f_1$ и $f_2$, являющихся несбалансированными, мы получаем фактически одно и тоже состояние. Если после этого применить к первому кубиту оператор Адамара, то после измерения мы получим значение $0$.\n",
    "\n",
    "Рассмотрим теперь сбалансированные функции $f_3$ и $f_4$.\n",
    "\n",
    "- $f(x) = f_3$\n",
    "\n",
    "Здесь ситуация сложнее, так как $f(x)$ будет зависеть от состояния первого кубита. Поэтому мы раскроем скобки, а значения функции подставим позже:\n",
    "\n",
    "$\n",
    "|\\psi\\rangle = \\frac{1}{2}(|0\\rangle + |1\\rangle)(|0 \\oplus f(x)\\rangle - |1 \\oplus f(x)\\rangle) =\n",
    "\\frac{1}{2}(|0\\rangle |0 \\oplus f(x)\\rangle - |0\\rangle |1 \\oplus f(x)\\rangle + |1\\rangle |0 \\oplus f(x)\\rangle - |1\\rangle |1 \\oplus f(x)\\rangle)=$\n",
    "\n",
    "$\n",
    "=\\frac{1}{2}(|0\\rangle |0 \\oplus 0\\rangle - |0\\rangle |1 \\oplus 0\\rangle + |1\\rangle |0 \\oplus 1\\rangle - |1\\rangle |1 \\oplus 1\\rangle) =\n",
    "\\frac{1}{2}(|00\\rangle - |01\\rangle + |11\\rangle - |10\\rangle) =$\n",
    "\n",
    "$\n",
    "=\\frac{1}{2}(|00\\rangle - |01\\rangle - |10\\rangle + |11\\rangle) = \\frac{1}{2}(|0\\rangle - |1\\rangle)(|0\\rangle - |1\\rangle)$\n",
    "\n",
    "Видно, что первый кубит поменял свое состояние - теперь он в суперпозиции $\\frac{1}{\\sqrt{2}}(|0\\rangle - |1\\rangle)$, так что далее к нему можно применить оператор Адамара, после которого он перейдет в состояние $|1\\rangle$.\n",
    "\n",
    "- $f(x) = f_4$\n",
    "\n",
    "Здесь будет похожая ситуация:\n",
    "\n",
    "$\n",
    "|\\psi\\rangle = \\frac{1}{2}(|0\\rangle + |1\\rangle)(|0 \\oplus f(x)\\rangle - |1 \\oplus f(x)\\rangle) =\n",
    "\\frac{1}{2}(|0\\rangle |0 \\oplus f(x)\\rangle - |0\\rangle |1 \\oplus f(x)\\rangle + |1\\rangle |0 \\oplus f(x)\\rangle - |1\\rangle |1 \\oplus f(x)\\rangle)=$\n",
    "\n",
    "$\n",
    "=\\frac{1}{2}(|0\\rangle |0 \\oplus 1\\rangle - |0\\rangle |1 \\oplus 1\\rangle + |1\\rangle |0 \\oplus 0\\rangle - |1\\rangle |1 \\oplus 0\\rangle) =\n",
    "\\frac{1}{2}(|01\\rangle - |00\\rangle + |10\\rangle - |11\\rangle) =$\n",
    "\n",
    "$\n",
    "=-\\frac{1}{2}(|00\\rangle - |01\\rangle + |11\\rangle - |10\\rangle) =-\\frac{1}{2}(|0\\rangle - |1\\rangle)(|0\\rangle - |1\\rangle)$\n",
    "\n",
    "Получили то же состояние $|\\psi\\rangle$, что и для $f_3$, с точностью до фазового множителя. Соответственно, здесь первый кубит после применения оператора Адамара также будет измерен с результатом $1$.\n",
    "\n",
    "Теперь можно получить более компактную формулу, которая подходит для всех четырех функций:\n",
    "\n",
    "$$\n",
    "|\\psi\\rangle = \\frac{1}{2}((-1)^{f(0)}|0\\rangle + (-1)^{f(1)}|1\\rangle)(|0\\rangle - |1\\rangle)\n",
    "$$\n",
    "\n",
    "```{admonition} Задание\n",
    "С помощью квантовых операторов попробуйте создать $U_f$ для всех четырех $f(x)$.\n",
    "\n",
    "Задание рекомендуется сделать до прочтения программистской части по алгоритму Дойча, так как там содержится ответ.\n",
    "```\n",
    "\n",
    "## Алгоритм Дойча в коде\n",
    "\n",
    "Запрограммируем алгоритм с помощью библиотеки PennyLane. Предполагается, что функция, находящаяся в черном ящике, изначально присутствует, но для учебного примера создадим также и ее, точнее, все ее четыре варианта. Для того, чтобы нам не сразу было известно, какая из этих функций анализируется алгоритмом (иначе будет неинтересно), будем использовать случайный выбор функции.\n",
    "\n",
    "Импортируем все необходимые библиотеки и модули, а также создадим квантовое устройство-симулятор, рассчитанное на схему из двух кубитов:"
   ]
  },
  {
   "cell_type": "code",
   "execution_count": 1,
   "id": "4644032d",
   "metadata": {},
   "outputs": [],
   "source": [
    "import pennylane as qml\n",
    "from pennylane import numpy as np\n",
    "\n",
    "dev = qml.device(\"default.qubit\", shots=1, wires=2)"
   ]
  },
  {
   "cell_type": "markdown",
   "id": "402378da",
   "metadata": {},
   "source": [
    "Теперь создадим функции для черного ящика. Обратите внимание, что здесь уже учтено сложение по модулю $2$ результата функции с состоянием второго кубита:"
   ]
  },
  {
   "cell_type": "code",
   "execution_count": 2,
   "id": "9b94b0af",
   "metadata": {},
   "outputs": [],
   "source": [
    "def f1():\n",
    "    pass\n",
    "\n",
    "def f2():\n",
    "    qml.PauliX(wires=[1])\n",
    "\n",
    "def f3():\n",
    "    qml.CNOT(wires=[0, 1])\n",
    "\n",
    "def f4():\n",
    "    qml.PauliX(wires=0)\n",
    "    qml.CNOT(wires=[0, 1])\n",
    "    qml.PauliX(wires=0)"
   ]
  },
  {
   "cell_type": "markdown",
   "id": "b2f12569",
   "metadata": {},
   "source": [
    "Создадим словарь с функциями и их названиями:"
   ]
  },
  {
   "cell_type": "code",
   "execution_count": 3,
   "id": "a12733e8",
   "metadata": {},
   "outputs": [],
   "source": [
    "black_boxes_dict = {\"f1\": f1, \"f2\": f2, \"f3\": f3, \"f4\": f4}"
   ]
  },
  {
   "cell_type": "markdown",
   "id": "393c7446",
   "metadata": {},
   "source": [
    "А вот таким образом мы будем случайно выбирать название функции для черного ящика:"
   ]
  },
  {
   "cell_type": "code",
   "execution_count": 4,
   "id": "fc33fb4e",
   "metadata": {},
   "outputs": [],
   "source": [
    "def random_black_box(black_boxes_dict):\n",
    "    black_boxes_dict_list_keys = list(black_boxes_dict.keys())\n",
    "    n = np.random.randint(0, len(black_boxes_dict_list_keys))\n",
    "\n",
    "    return black_boxes_dict_list_keys[n]"
   ]
  },
  {
   "cell_type": "markdown",
   "id": "fa752d02",
   "metadata": {},
   "source": [
    "А теперь самое важное -- сам алгоритм Дойча:"
   ]
  },
  {
   "cell_type": "code",
   "execution_count": 5,
   "id": "e32e67c0",
   "metadata": {},
   "outputs": [],
   "source": [
    "@qml.qnode(dev, interface=None)\n",
    "def circuit(black_box_name):\n",
    "    qml.Hadamard(wires=0)\n",
    "    qml.PauliX(wires=1)\n",
    "    qml.Hadamard(wires=1)\n",
    "\n",
    "    black_boxes_dict[black_box_name]()\n",
    "    qml.Hadamard(wires=0)\n",
    "\n",
    "    return qml.sample(qml.PauliZ([0]))"
   ]
  },
  {
   "cell_type": "markdown",
   "id": "c86c5640",
   "metadata": {},
   "source": [
    "Итак, подготовительные действия завершены, можно приступать к демонстрации работы алгоритма.\n",
    "\n",
    "Выберем случайным образом функцию:"
   ]
  },
  {
   "cell_type": "code",
   "execution_count": 6,
   "id": "84b14a6f",
   "metadata": {},
   "outputs": [],
   "source": [
    "black_box_name = random_black_box(black_boxes_dict)"
   ]
  },
  {
   "cell_type": "markdown",
   "id": "b08f5294",
   "metadata": {},
   "source": [
    "А затем запустим алгоритм Дойча и выведем результат его работы. Собственное значение $1$ оператора $Z$ будет соответствовать состоянию $|0\\rangle$ (функция несбалансированная), а собственное значение $-1$ -- состоянию $|1\\rangle$ (функция сбалансирована):"
   ]
  },
  {
   "cell_type": "code",
   "execution_count": 7,
   "id": "e77b6912",
   "metadata": {},
   "outputs": [
    {
     "name": "stdout",
     "output_type": "stream",
     "text": [
      "1\n"
     ]
    }
   ],
   "source": [
    "result = circuit(black_box_name)\n",
    "print(result)"
   ]
  },
  {
   "cell_type": "markdown",
   "id": "fe35580f",
   "metadata": {},
   "source": [
    "Проверим, насколько правильно сработал алгоритм. Для этого посмотрим на функцию из черного ящика:"
   ]
  },
  {
   "cell_type": "code",
   "execution_count": 8,
   "id": "914b56bf",
   "metadata": {},
   "outputs": [
    {
     "name": "stdout",
     "output_type": "stream",
     "text": [
      "f1\n"
     ]
    }
   ],
   "source": [
    "print(black_box_name)"
   ]
  },
  {
   "cell_type": "markdown",
   "id": "bc0ad7c5",
   "metadata": {},
   "source": [
    "Также посмотрим, как выглядит квантовая схема:"
   ]
  },
  {
   "cell_type": "code",
   "execution_count": 9,
   "id": "3ea323e6",
   "metadata": {},
   "outputs": [
    {
     "data": {
      "image/png": "[encoded data removed]",
      "text/plain": [
       "<Figure size 500x300 with 1 Axes>"
      ]
     },
     "metadata": {
      "filenames": {
       "image/png": "/home/runner/work/qmlcourse/qmlcourse/qmlcourse/_build/jupyter_execute/book/qcalgo/ru/deutschs_algorithm_17_0.png"
      }
     },
     "output_type": "display_data"
    }
   ],
   "source": [
    "qml.drawer.use_style(\"default\")\n",
    "fig, ax = qml.draw_mpl(circuit)(black_box_name)\n",
    "fig.show()"
   ]
  },
  {
   "cell_type": "markdown",
   "id": "fa8ba9c9",
   "metadata": {},
   "source": [
    "На примере алгоритма Дойча мы видим, что уже двухкубитная схема дает прирост скорости в два раза. Если же увеличивать количество входных параметров (как в аналогичном алгоритме [Дойча-Йожи](https://ru.wikipedia.org/wiki/Алгоритм_Дойча_—_Йожи)), то ускорение будет экспоненциальным.\n",
    "\n",
    "Для специалистов, занимающихся искусственным интеллектом, алгоритм может быть интересен тем, что не просто решает задачу нахождения некоторого значения, действуя как калькулятор, а дает возможность определить скрытую функцию. Это похоже на задачи машинного обучения, когда дата сайентист, производя математические манипуляции с данными, в итоге получает модель (фактически -- функцию), описывающую связь признаков с целевой переменной. Таким образом, интерес специалистов ИИ к квантовым вычислениям, вполне понятен, как и перспективы квантовых вычислений в этой области."
   ]
  }
 ],
 "metadata": {
  "jupytext": {
   "formats": "md:myst",
   "text_representation": {
    "extension": ".md",
    "format_name": "myst"
   }
  },
  "kernelspec": {
   "display_name": "Python 3",
   "language": "python",
   "name": "python3"
  },
  "language_info": {
   "codemirror_mode": {
    "name": "ipython",
    "version": 3
   },
   "file_extension": ".py",
   "mimetype": "text/x-python",
   "name": "python",
   "nbconvert_exporter": "python",
   "pygments_lexer": "ipython3",
   "version": "3.8.17"
  },
  "source_map": [
   11,
   223,
   228,
   232,
   246,
   250,
   252,
   256,
   262,
   266,
   277,
   283,
   285,
   289,
   292,
   296,
   298,
   302,
   306
  ]
 },
 "nbformat": 4,
 "nbformat_minor": 5
}