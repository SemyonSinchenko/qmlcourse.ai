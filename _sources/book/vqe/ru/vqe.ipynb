{
 "cells": [
  {
   "cell_type": "markdown",
   "id": "58794dc0",
   "metadata": {},
   "source": [
    "(vqe)=\n",
    "\n",
    "# Variational Quantum Eigensolver\n",
    "\n",
    "Автор(ы):\n",
    "\n",
    "- [Синченко Семен](https://github.com/SemyonSinchenko)\n",
    "\n",
    "\n",
    "В этой лекции рассмотрим такой классный и очень перспективный алгоритм как `Variational Quantum Eigensolver`. Это алгоритм создан для аппроксимационного решения задачи о собственных значениях матриц. Но, как помним, к этой задаче [можно свести](../../problems2qml/ru/np2ising.md) большое число реально интересных задач, например, _NP_-трудные [задачи комбинаторной оптимизации](../../problems/ru/copt.md). Также к решению проблемы о собственных значениях спиновых систем [сводятся](../../problems2qml/ru/jordanwigner.md) задачи квантовой химии, которые [обсуждались](../../problems/ru/quantchembasic.md) в отдельной лекции.\n",
    "\n",
    "Задача о собственных значениях, на решение которой направлен рассматриваемый алгоритм [обсуждалась](../../problems2qml/ru/eigenvals.md) ранее, поэтому не будем на ней останавливаться подробно.\n",
    "\n",
    "## VQE\n",
    "\n",
    "Теперь давайте посмотрим, как эта задача связана с квантовым компьютером, а также как ее можно свести к градиентному спуску в пространстве параметров `VQE`, содержащей лишь гейты вращения. Напомню, что наличие лишь гейтов вращения [позволяет эффективно считать градиенты](../../grads/ru/gradients.md).\n",
    "\n",
    "### Собственные значения как результат измерения\n",
    "\n",
    "Итак, есть эрмитова матрица, для которой хотим найти минимальное собственное значение. То есть сделать примерно то, что делает `ARPACK` или **VMC**, но на квантовом компьютере.\n",
    "\n",
    "```{note}\n",
    "Если матрица $A$ не эрмитова, то всегда можно ее дополнить до эрмитовой. Поэтому далее, без потери общности, будем считать эту матрицу именно эрмитовой. Меж тем не будем рассматривать как именно это делать, пока достаточно знать что это возможно.\n",
    "```\n",
    "\n",
    "Из первых лекций помним, что любое измерение квантового оператора в каком-то состоянии [есть проекция этого состояния на пространство его собственных векторов](../../qc/ru/qubit.html#id31), а результатом измерения [является одно из его собственных значений](../../qc/ru/qubit.html#id25). При этом распределение вероятностей получения этих собственных значений определяется волновой функцией $\\ket{\\Psi}$ измеряемого состояния. А значит, то, какое собственное значение получим, будет определяться тем, какое состояние приготовим! Более того, минимальное значение энергии, или минимальное собственное значение в терминах этой задачи является наиболее вероятным результатом измерения основного состояния. Напомним, что результат измерения оператора $\\hat{A}$ в состоянии $\\ket{\\Psi}$ записывается так:\n",
    "\n",
    "$$\n",
    "e = \\bra{\\Psi}\\hat{A}\\ket{\\Psi}\n",
    "$$\n",
    "\n",
    "А, как помним из [лекции по параметризованным квантовым схемам](../../vqc/ru/vqc.md), приготовленное состояние задается собственно самой схемой (еще говорят _ansatz_), а также набором ее классических параметров, которые варьируются в процессе обучения.\n",
    "\n",
    "Так приходим к алгоритму `VQE` -- **V**ariational **Q**uantum **E**igensolver:\n",
    "\n",
    "1. выбираем _ansatz_ -- параметризованный оператор $\\hat{B}(q)$, который представляет из себя последовательность гейтов вращения; вектор $q$ -- это вектор из действительных чисел -- параметров;\n",
    "2. генерируем случайные начальные параметры $q_0$;\n",
    "3. цикл обучения, повторяем $n$ раз:\n",
    "   1. готовим состояние $\\ket{\\Psi} = \\hat{B}(q_n)\\ket{0}$;\n",
    "   2. измеряем $e = \\bra{\\Psi}\\hat{A}\\ket{\\Psi}$;\n",
    "   3. вычисляем градиент $g = \\frac{\\partial{e}}{\\partial{q}}$;\n",
    "   4. обновляем параметры $q_{n+1} = q_n - \\alpha g$;\n",
    "4. результатом обучения являются:\n",
    "   - набор параметров $q$ такой, что $\\hat{B}(q)\\ket{0}$ является вектором, близким к первому собственному вектору $\\hat{A}$;\n",
    "   - результат измерения $e$, близкий к первому собственному значению $\\hat{A}$.\n",
    "\n",
    "## Интуиция алгоритма\n",
    "\n",
    "Если вспомнить подход [**VMC**](../../problems2qml/ru/eigenvals.html#id11) для решения задачи о собственных значениях, то там использовался _trial wave function_ -- некоторое, параметризированное кодирование состояния в его вероятность. С некоторой долей условности можно рассматривать _ansatz_ в **VQE** как квантовый аналог классических _trial wave functions_. Только вместо семплирования при помощи методов Монте-Карло, условно говоря, сэмплируем из реальной волновой функции, когда считаем математическое ожидание результата измерения. Как [помним из первой лекции](../../qc/ru/qubit.html#id31) измерение есть проекция на один из собственных векторов, то есть можно рассматривать это как выбор сэмпла из пространства всех собственных векторов. Причем для определения вероятности используется состояние после применения параметризированного _ansatz_.\n",
    "\n",
    "## Пример\n",
    "\n",
    "Решим простую задачку с тривиальной моделью Изинга, который [рассматривали](../../problems/ru/ising.html#numpy) в посвященной этому лекции. Будем использовать тот же код:"
   ]
  },
  {
   "cell_type": "code",
   "execution_count": 1,
   "id": "c9b0c486",
   "metadata": {},
   "outputs": [],
   "source": [
    "import numpy as np\n",
    "from scipy import sparse\n",
    "from scipy.sparse import linalg as sl\n",
    "\n",
    "def sigmaz_k(k: int, n: int) -> (sparse.csr_matrix):\n",
    "    left_part = sparse.eye(2 ** k)\n",
    "    right_part = sparse.eye(2 ** (n - 1 - k))\n",
    "\n",
    "    return sparse.kron(\n",
    "        sparse.kron(\n",
    "            left_part,\n",
    "            sparse.csr_matrix(np.array([[1, 0,], [0, -1,],]))\n",
    "        ),\n",
    "        right_part\n",
    "    )\n",
    "\n",
    "def ising(j: float, h: float, n: int) -> (sparse.csr_matrix):\n",
    "    res = sparse.csr_matrix((2 ** n, 2 ** n), dtype=np.complex64)\n",
    "\n",
    "    for i in range(n - 1):\n",
    "        res += j * sigmaz_k(i, n) * sigmaz_k(i + 1, n)\n",
    "        res -= h * sigmaz_k(i, n)\n",
    "\n",
    "    res -= h * sigmaz_k(n - 1, n)\n",
    "\n",
    "    return res"
   ]
  },
  {
   "cell_type": "markdown",
   "id": "4f910dd0",
   "metadata": {},
   "source": [
    "Создадим оператор со значениями $j=1.0, h=2.0$:"
   ]
  },
  {
   "cell_type": "code",
   "execution_count": 2,
   "id": "a8d28377",
   "metadata": {},
   "outputs": [],
   "source": [
    "op = sparse.coo_matrix(ising(j=1.0, h=2.0, n=10))"
   ]
  },
  {
   "cell_type": "markdown",
   "id": "34056441",
   "metadata": {},
   "source": [
    "### Ansatz\n",
    "\n",
    "Воспользуемся относительно простым вариантом кодирования с использование $CNOT$ и нескольких слоев.\n",
    "\n",
    "```{note}\n",
    "Более подробно причина выбора именно такого кодирования, а также подробности внутренней реализации на `PennyLane` рассматривается в практической лекции по **VQE**.\n",
    "```"
   ]
  },
  {
   "cell_type": "code",
   "execution_count": 3,
   "id": "52b5a8d9",
   "metadata": {},
   "outputs": [
    {
     "name": "stdout",
     "output_type": "stream",
     "text": [
      "Result for random weights: -0.9343\n"
     ]
    }
   ],
   "source": [
    "import pennylane as qml\n",
    "\n",
    "N_SPINS = 10\n",
    "N_LAYERS = 2\n",
    "\n",
    "device = qml.device(\"default.qubit\", wires=N_SPINS)\n",
    "ham = qml.SparseHamiltonian(op, wires=list(range(N_SPINS)), id=\"Hamiltonian\")\n",
    "\n",
    "def layer(params):\n",
    "    for i in range(N_SPINS):\n",
    "        qml.RY(params[i][0], wires=i)\n",
    "        qml.RZ(params[i][1], wires=i)\n",
    "\n",
    "    for i in range(N_SPINS - 1):\n",
    "        qml.CZ(wires=[i, i + 1])\n",
    "\n",
    "@qml.qnode(device, diff_method=\"parameter-shift\")\n",
    "def feed_forward(params):\n",
    "    for k in range(N_LAYERS):\n",
    "        layer(params[k])\n",
    "\n",
    "    for i in range(N_SPINS):\n",
    "        qml.RY(params[-1][i][0], wires=i)\n",
    "        qml.RZ(params[-1][i][1], wires=i)\n",
    "\n",
    "    return qml.expval(ham)\n",
    "\n",
    "params = tuple(\n",
    "    tuple(\n",
    "        (\n",
    "            np.random.rand() * 2 * np.pi,\n",
    "            np.random.rand() * 2 * np.pi,\n",
    "        )\n",
    "        for _ in range(N_SPINS)\n",
    "    )\n",
    "    for _ in range(N_LAYERS)\n",
    ")\n",
    "\n",
    "print(f\"Result for random weights: {feed_forward(params):.4f}\")"
   ]
  },
  {
   "cell_type": "markdown",
   "id": "864d1d60",
   "metadata": {},
   "source": [
    "### Обучение\n",
    "\n",
    "Возьмем точное решение из [лекции по модели Изинга](../../problems/ru/ising.html#numpy):"
   ]
  },
  {
   "cell_type": "code",
   "execution_count": 4,
   "id": "753b8d09",
   "metadata": {},
   "outputs": [],
   "source": [
    "exact = -11.0"
   ]
  },
  {
   "cell_type": "markdown",
   "id": "fe3626a8",
   "metadata": {},
   "source": [
    "Запустим обучение и посмотрим, как оно сходится:"
   ]
  },
  {
   "cell_type": "code",
   "execution_count": 5,
   "id": "f90f3e7e",
   "metadata": {},
   "outputs": [
    {
     "name": "stderr",
     "output_type": "stream",
     "text": [
      "/home/runner/work/qmlcourse/qmlcourse/.venv/lib/python3.8/site-packages/pennylane/_grad.py:95: UserWarning: Starting with PennyLane v0.21.0, when using Autograd, inputs have to explicitly specify requires_grad=True (or the argnum argument must be passed) in order for trainable parameters to be identified.\n",
      "  warnings.warn(\n"
     ]
    },
    {
     "data": {
      "image/png": "[encoded data removed]",
      "text/plain": [
       "<Figure size 720x576 with 1 Axes>"
      ]
     },
     "metadata": {
      "filenames": {
       "image/png": "/home/runner/work/qmlcourse/qmlcourse/qmlcourse/_build/jupyter_execute/book/vqe/ru/vqe_9_1.png"
      },
      "image/png": {
       "height": 479,
       "width": 614
      },
      "needs_background": "light"
     },
     "output_type": "display_data"
    }
   ],
   "source": [
    "import matplotlib.pyplot as plt\n",
    "%config InlineBackend.figure_format = \"retina\"\n",
    "\n",
    "opt = qml.MomentumOptimizer()\n",
    "\n",
    "energy = [\n",
    "    feed_forward(params),\n",
    "]\n",
    "\n",
    "for epoch in range(60):\n",
    "    params, e = opt.step_and_cost(feed_forward, params)\n",
    "    energy.append(e)\n",
    "\n",
    "plt.figure(figsize=(10, 8))\n",
    "plt.plot(np.arange(len(energy)), energy, \".-\", label=\"Energy by epochs\")\n",
    "plt.hlines(\n",
    "    exact,\n",
    "    0,\n",
    "    len(energy),\n",
    "    color=\"red\",\n",
    "    label=\"Exact solution\",\n",
    ")\n",
    "plt.xlabel(\"Epoch\")\n",
    "plt.ylabel(\"Energy\")\n",
    "plt.legend()\n",
    "plt.show()"
   ]
  },
  {
   "cell_type": "markdown",
   "id": "79467ebe",
   "metadata": {},
   "source": [
    "## Заключение\n",
    "\n",
    "В этой лекции познакомились в **VQE** -- очень перспективным, красивым и мощным алгоритмом для решения задач о собственных значениях на квантовых компьютерах. В следующей лекции более детально посмотрим на реализацию этого алгоритма в коде, а также обсудим выбранный _ansatz_."
   ]
  }
 ],
 "metadata": {
  "jupytext": {
   "formats": "md:myst",
   "text_representation": {
    "extension": ".md",
    "format_name": "myst"
   }
  },
  "kernelspec": {
   "display_name": "Python 3",
   "language": "python",
   "name": "python3"
  },
  "language_info": {
   "codemirror_mode": {
    "name": "ipython",
    "version": 3
   },
   "file_extension": ".py",
   "mimetype": "text/x-python",
   "name": "python",
   "nbconvert_exporter": "python",
   "pygments_lexer": "ipython3",
   "version": "3.8.10"
  },
  "source_map": [
   11,
   67,
   94,
   98,
   100,
   110,
   150,
   156,
   158,
   162,
   189
  ]
 },
 "nbformat": 4,
 "nbformat_minor": 5
}