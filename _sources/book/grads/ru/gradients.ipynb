{
 "cells": [
  {
   "cell_type": "markdown",
   "id": "dd47e1a4",
   "metadata": {},
   "source": [
    "(gradients)=\n",
    "\n",
    "# Градиенты квантовых схем\n",
    "\n",
    "Автор(ы):\n",
    "\n",
    "- [Синченко Семен](https://github.com/SemyonSinchenko)\n",
    "\n",
    "\n",
    "## Описание лекции\n",
    "\n",
    "В этой лекции мы детально разберем, как можно оптимизировать параметры VQC:\n",
    "\n",
    "- Как выглядит цикл обучения квантовой схемы\n",
    "- Как работает оценка градиента \"под капотом\"\n",
    "  - Метод конечных отрезков\n",
    "  - Parameter-shift rule\n",
    "\n",
    "## Введение\n",
    "\n",
    "Как мы уже говорили ранее, VQC выступают в роли \"черных ящиков\", которые имеют параметры и как-то преобразуют поступающие в них данные. В этом случае сам процесс оптимизации параметров выполняется на классическом компьютере. Одними из самых эффективных на сегодня методов решения задач непрерывной оптимизации являются градиентные методы. Для этих методов разработан широкий арсенал эвристик и приемов, который применяется в обучении классических глубоких нейронных сетей. Очень хочется применить весь этот арсенал и для квантового машинного обучения. Но как же посчитать градиент вариационной квантовой схемы?\n",
    "\n",
    "## Задача лекции\n",
    "\n",
    "На этой лекции мы рассмотрим простую задачку по оптимизации параметров квантовой схемы и на ее примере увидим, как работают квантовые градиенты. В качестве задачи возьмем известный набор данных \"Two Moon\" из библиотеки `scikit-learn`:"
   ]
  },
  {
   "cell_type": "code",
   "execution_count": null,
   "id": "56098122",
   "metadata": {},
   "outputs": [],
   "source": [
    "from pennylane import numpy as np\n",
    "import pennylane as qml\n",
    "import matplotlib.pyplot as plt\n",
    "%config InlineBackend.figure_format = 'retina'\n",
    "from sklearn.datasets import make_moons\n",
    "\n",
    "x, y = make_moons(n_samples=50)"
   ]
  },
  {
   "cell_type": "markdown",
   "id": "d6d5e1de",
   "metadata": {},
   "source": [
    "Для удобства мы сразу переведем метки классов из $\\{0, 1\\} \\to \\{-1, 1\\}$, а признаки $\\mathbf{X}$ переведем в $[0, \\pi]$:"
   ]
  },
  {
   "cell_type": "code",
   "execution_count": null,
   "id": "709a251f",
   "metadata": {},
   "outputs": [],
   "source": [
    "def normalize(x):\n",
    "    \"\"\"\n",
    "    Переводит значения в интервал от 0 до pi\n",
    "    \"\"\"\n",
    "    min_ = x.min()\n",
    "    max_ = x.max()\n",
    "    return np.pi * (x - min_) / (max_ - min_)\n",
    "\n",
    "x[:, 0] = normalize(x[:, 0])\n",
    "x[:, 1] = normalize(x[:, 1])\n",
    "y = y * 2 - 1\n",
    "\n",
    "plt.figure(figsize=(4, 3))\n",
    "cb = plt.scatter(x[:, 0], x[:, 1], c=y)\n",
    "plt.colorbar(cb)\n",
    "plt.show()"
   ]
  },
  {
   "cell_type": "markdown",
   "id": "4e19e929",
   "metadata": {},
   "source": [
    "## Вариационная схема\n",
    "\n",
    "Перед тем как мы начнем обучение и будем считать градиенты, нам необходимо определиться с тем, как будет выглядеть наша вариационная схема. Мы посвятим кодированию данных, выбору архитектуры схемы, а также измеряемого оператора еще много занятий. Так что пока просто воспользуемся кодированием признаков $\\mathbf{X}$ вращениями, а сверху применим несколько параметризованных слоев вращений.\n",
    "\n",
    "### Кодирование признаков"
   ]
  },
  {
   "cell_type": "code",
   "execution_count": null,
   "id": "ce70bf96",
   "metadata": {},
   "outputs": [],
   "source": [
    "dev = qml.device(\"default.qubit\", 2)\n",
    "\n",
    "def encoding(x1, x2):\n",
    "    qml.RY(x1, wires=0)\n",
    "    qml.RY(x2, wires=1)\n",
    "    qml.RZ(x1, wires=0)\n",
    "    qml.RZ(x2, wires=1)\n",
    "    qml.CZ(wires=[0, 1])"
   ]
  },
  {
   "cell_type": "markdown",
   "id": "b9da5cab",
   "metadata": {},
   "source": [
    "### Параметризованные слои\n",
    "\n",
    "В качестве одного слоя обучения мы будем использовать параметризованные вращения в связке с двухкубитным гейтом для создания запутанных состояний.\n",
    "\n",
    "```{note}\n",
    "Более детально о запутанных состояниях, а также квантовой энтропии и черных дырах можно посмотреть в [продвинутой лекции](../../qc/ru/mixedstates.md) блока про квантовые вычисления.\n",
    "```\n",
    "\n",
    "В этой лекции у нас нет цели идеально решить поставленную задачу -- на самом деле это чуть сложнее, чем может показаться на первый взгляд. Поэтому пока не будем излишне усложнять нашу **VQC**. Сделаем нашу **VQC** содержащей несколько \"слоев\" следующего вида:\n",
    "\n",
    "- Вращение 1-го кубита $\\hat{Rot}(\\theta_1^1, \\theta_1^2, \\theta_1^3)$\n",
    "- Вращение 2-го кубита $\\hat{Rot}(\\theta_2^1, \\theta_2^2, \\theta_2^3)$\n",
    "- \"Запутывающий\" оператор, который действует на оба кубита сразу -- в нашем случае это $\\hat{CZ}$\n",
    "\n",
    "Как видно, на каждый \"слой\" у нас приходится шесть параметров. Реализуем это в коде:"
   ]
  },
  {
   "cell_type": "code",
   "execution_count": null,
   "id": "296127ef",
   "metadata": {},
   "outputs": [],
   "source": [
    "def layer(theta):\n",
    "    qml.Rot(theta[0, 0], theta[0, 1], theta[0, 2], wires=0)\n",
    "    qml.Rot(theta[1, 0], theta[1, 1], theta[1, 2], wires=1)\n",
    "    qml.CZ(wires=[0, 1])"
   ]
  },
  {
   "cell_type": "markdown",
   "id": "c8970b93",
   "metadata": {},
   "source": [
    "Здесь у нас вращения каждого из кубитов по сфере Блоха и двухкубитное взаимодействие $\\hat{CZ}$.\n",
    "\n",
    "### Все вместе\n",
    "\n",
    "Теперь давайте объединим все это вместе, добавим пару наблюдаемых и оформим как `qml.qnode`:"
   ]
  },
  {
   "cell_type": "code",
   "execution_count": null,
   "id": "a51fa55c",
   "metadata": {},
   "outputs": [],
   "source": [
    "@qml.qnode(dev)\n",
    "def node(x1, x2, q):\n",
    "    encoding(x1, x2)\n",
    "    for q_ in q:\n",
    "        layer(q_)\n",
    "\n",
    "    return qml.expval(qml.PauliZ(0) @ qml.PauliY(1))"
   ]
  },
  {
   "cell_type": "markdown",
   "id": "50491365",
   "metadata": {},
   "source": [
    "### Функция \"скоринга\"\n",
    "\n",
    "Наша квантовая схема принимает на вход лишь одну точку данных, а у нас их 50. Поэтому удобно сразу написать функцию, которая может работать с массивами `NumPy`:"
   ]
  },
  {
   "cell_type": "code",
   "execution_count": null,
   "id": "bf02129a",
   "metadata": {},
   "outputs": [],
   "source": [
    "def apply_node(x, q):\n",
    "    res = []\n",
    "\n",
    "    for x_ in x:\n",
    "        vqc_output = node(x_[0], x_[1], q[0])\n",
    "        res.append(vqc_output + q[1])\n",
    "\n",
    "    return res"
   ]
  },
  {
   "cell_type": "markdown",
   "id": "4aa99ec2",
   "metadata": {},
   "source": [
    "Может показаться немного запутанно, но так получилось. Дело в том, что параметры схемы это только углы поворотов. Но мы также хотим добавить еще и смещение, поэтому `tuple` параметров у нас содержит два элемента: массив параметров схемы, а также значение смещения. Так как схема у нас принимает на вход лишь одну пару значений $x_1, x_2$, то для того, чтобы \"проскорить\" массив данных мы должны:\n",
    "\n",
    "- итерироваться по строкам двумерного массива\n",
    "- для каждой строки вычислять результат схемы -- это функция от $x_1, x_2, \\theta$ -- массив параметров $\\theta$ у нас первый элемент `tuple`\n",
    "- добавлять смещение -- это второй элемент `tuple`\n",
    "- результат добавлять в итоговый массив\n",
    "\n",
    "Именно это и реализовано в коде.\n",
    "\n",
    "### Визуализация\n",
    "\n",
    "Давайте инициализируем нашу схему случайными параметрами и посмотрим, как она \"сходу\" классифицирует данные. Возьмем 4 параметризованных слоя."
   ]
  },
  {
   "cell_type": "code",
   "execution_count": null,
   "id": "58733e1f",
   "metadata": {},
   "outputs": [],
   "source": [
    "np.random.seed(42)\n",
    "q = (np.random.uniform(-np.pi, np.pi, size=(4, 2, 3)), 0.0)\n",
    "\n",
    "plt.figure(figsize=(4, 3))\n",
    "cb = plt.scatter(x[:, 0], x[:, 1], c=apply_node(x, q))\n",
    "plt.colorbar(cb)\n",
    "plt.show()"
   ]
  },
  {
   "cell_type": "markdown",
   "id": "25db0188",
   "metadata": {},
   "source": [
    "Как видно, результат \"не очень\" и наша цель – попытаться его улучшить.\n",
    "\n",
    "## Функция потерь\n",
    "\n",
    "Прежде чем варьировать параметры схемы, нам для начала необходимо понять, а что именно мы хотим оптимизировать. Для этого нам необходимо выбрать функцию потерь.\n",
    "\n",
    "```{note}\n",
    "Если у Вас трудности с функциями потерь в таком контексте, то рекомендуем вернуться к вводной лекции про классическое машинное обучение, где эта тема раскрыта достаточно подробно.\n",
    "```\n",
    "\n",
    "### Квадратичное отклонение\n",
    "\n",
    "В качестве функции потерь, которая является дифференцируемой, мы будем использовать наиболее простой вариант -- среднеквадратичное отклонения. Это не самый лучший выбор для задач классификации, но зато самый простой. Простой вариант -- это именно то, что нам нужно в этой лекции:"
   ]
  },
  {
   "cell_type": "code",
   "execution_count": null,
   "id": "dd2f4331",
   "metadata": {},
   "outputs": [],
   "source": [
    "def cost(q, x, y):\n",
    "    preds = np.array(apply_node(x, q))\n",
    "    return np.mean(np.square(preds - y))"
   ]
  },
  {
   "cell_type": "markdown",
   "id": "687d21f6",
   "metadata": {},
   "source": [
    "### Точность классификации\n",
    "\n",
    "В качестве метрики качества среднеквадратичное отклонение вообще не подходит -- понять по этой цифре, хорошо или плохо работает модель почти невозможно! Поэтому для оценки модели в целом мы будем использовать точность:"
   ]
  },
  {
   "cell_type": "code",
   "execution_count": null,
   "id": "0aa01818",
   "metadata": {},
   "outputs": [],
   "source": [
    "def acc(q, x, y):\n",
    "    preds = np.sign(apply_node(x, q))\n",
    "    res = 0\n",
    "    for p_, y_ in zip(preds, y):\n",
    "        if np.abs(y_ - p_) <= 1e-2:\n",
    "            res += 1\n",
    "\n",
    "    return res / y.shape[0]"
   ]
  },
  {
   "cell_type": "markdown",
   "id": "4d506b5f",
   "metadata": {},
   "source": [
    "## Решение средствами `PennyLane`\n",
    "\n",
    "Библиотека `PennyLane` может использовать один из нескольких движков для автоматического дифференцирования:\n",
    "\n",
    "- `NumPy Autograd`\n",
    "- `PyTorch`\n",
    "- `Tensorflow`\n",
    "- `Jax`\n",
    "\n",
    "По больше части, на наших занятиях мы будем использовать `NumPy` из-за простоты и привычности. Перед тем как разбираться с тем, как же именно происходит дифференцирование квантовой схемы, давайте посмотрим на весь цикл обучения.\n",
    "\n",
    "```{note}\n",
    "Внимание, процесс обучения на обычном ноутбуке может занять около минуты! Это связано с трудностью симуляции квантового компьютера на классическом.\n",
    "```"
   ]
  },
  {
   "cell_type": "code",
   "execution_count": null,
   "id": "ff10421a",
   "metadata": {},
   "outputs": [],
   "source": [
    "opt = qml.optimize.GradientDescentOptimizer(stepsize=0.05)\n",
    "acc_ = []\n",
    "cost_ = []\n",
    "ii = []\n",
    "for i in range(75):\n",
    "    batch = np.random.randint(0, len(x), (10,))\n",
    "    x_batch = x[batch, :]\n",
    "    y_batch = y[batch]\n",
    "    q = opt.step(lambda q_: cost(q_, x_batch, y_batch), q)\n",
    "\n",
    "    if i % 5 == 0:\n",
    "        ii.append(i)\n",
    "        acc_.append(acc(q, x, y))\n",
    "        cost_.append(cost(q, x, y))"
   ]
  },
  {
   "cell_type": "markdown",
   "id": "f23bc677",
   "metadata": {},
   "source": [
    "И посмотрим на получившиеся графики точности и функции потерь:"
   ]
  },
  {
   "cell_type": "code",
   "execution_count": null,
   "id": "71d0ef0c",
   "metadata": {},
   "outputs": [],
   "source": [
    "f, ax = plt.subplots(2, figsize=(8, 6), sharex=True)\n",
    "ax[0].plot(ii, acc_, \".-\")\n",
    "ax[0].set_title(\"Accuracy\")\n",
    "ax[1].plot(ii, cost_, \".-\")\n",
    "ax[1].set_title(\"Cost\")\n",
    "plt.show()"
   ]
  },
  {
   "cell_type": "markdown",
   "id": "b0fec90b",
   "metadata": {},
   "source": [
    "А также на результаты классификации:"
   ]
  },
  {
   "cell_type": "code",
   "execution_count": null,
   "id": "c7f075b7",
   "metadata": {},
   "outputs": [],
   "source": [
    "plt.figure(figsize=(4, 3))\n",
    "cb = plt.scatter(x[:, 0], x[:, 1], c=apply_node(x, q))\n",
    "plt.colorbar(cb)\n",
    "plt.show()"
   ]
  },
  {
   "cell_type": "markdown",
   "id": "dd2806fa",
   "metadata": {},
   "source": [
    "## А как оно работает?\n",
    "\n",
    "Теперь, когда мы увидели процесс оптимизации квантовой схемы, давайте попробуем подумать, а как оно на самом деле работает?\n",
    "\n",
    "### Метод конечных отрезков\n",
    "\n",
    "Для начала вспомним то, что является геометрическом (или визуальной) интерпретацией градиента функции. Правильно, градиент в каждой точке – это касательная. А приближенное значение угла наклона любой прямой можно найти, взяв конечные отрезки:\n",
    "\n",
    "$$\n",
    "\\frac{df}{dx} \\simeq \\frac{\\Delta f}{\\Delta x} = \\frac{f(x + \\Delta x) - f(x)}{\\Delta x}\n",
    "$$\n",
    "\n",
    "Давайте попробуем посчитать градиент нашей квантовой схемы. Для этого инициализируем ее заново случайными параметрами, а потом сравним это с тем значением, которое считает `Autograd`."
   ]
  },
  {
   "cell_type": "code",
   "execution_count": null,
   "id": "6c3cd6d6",
   "metadata": {},
   "outputs": [],
   "source": [
    "np.random.seed(42)\n",
    "q = (np.random.uniform(0, np.pi, size=(4, 2, 3)), 0.0)\n",
    "\n",
    "\n",
    "def naive_grad(cost, params, x, y, f0, delta):\n",
    "    return (cost(params, x, y) - f0) / delta\n",
    "\n",
    "def grad_i(q, f0, cost, x, y, i):\n",
    "    new_params = q[0].copy().flatten()\n",
    "    new_params[i] += 0.05\n",
    "\n",
    "    return naive_grad(cost, (new_params.reshape(q[0].shape), q[1]), x, y, f0, 0.05)"
   ]
  },
  {
   "cell_type": "markdown",
   "id": "9c774f07",
   "metadata": {},
   "source": [
    "В качестве эталона возьмем тот градиент, который нам считает `Autograd`:"
   ]
  },
  {
   "cell_type": "code",
   "execution_count": null,
   "id": "c695f750",
   "metadata": {},
   "outputs": [],
   "source": [
    "grad = qml.grad(cost, argnum=0)"
   ]
  },
  {
   "cell_type": "markdown",
   "id": "8fc473eb",
   "metadata": {},
   "source": [
    "Сравним первые пять значений `Autograd` с нашим наивным алгоритмом, взяв $\\Delta = 0.05$:\n",
    "\n",
    "```{note}\n",
    "Осторожно! Так как мы считаем градиенты очень наивно и на всех точках сразу, то следующий блок кода работает долго!\n",
    "```"
   ]
  },
  {
   "cell_type": "code",
   "execution_count": null,
   "id": "cd9d0e69",
   "metadata": {},
   "outputs": [],
   "source": [
    "autograd = grad(q, x, y)\n",
    "f0 = cost(q, x, y)\n",
    "pretty_print = \"\"\n",
    "for i in range(10):\n",
    "    g_i = grad_i(q, f0, cost, x, y, i)\n",
    "    pretty_print += f\"Naive grad: {g_i:.3f}\\tAutograd result: {autograd[0].flatten()[i]:.3f}\\n\"\n",
    "\n",
    "print(pretty_print)"
   ]
  },
  {
   "cell_type": "markdown",
   "id": "1a91bfc9",
   "metadata": {},
   "source": [
    "Можно заметить, что даже с таким большим значением $\\Delta$ наши оценки получились достаточно близкими к тем, которые получены в `Autograd`. Хотя, конечно, для некоторых значений расхождения заметны и иногда они даже в знаке частной производной.\n",
    "\n",
    "### Parameter-shift rule\n",
    "\n",
    "Более точная оценка может быть получена методом, который называется **Parameter-shift**. Он основан на том, что для квантового \"черного ящика\" $\\hat{U}(\\theta)$, которым является наша схема, частная производная по параметру $\\theta_i$ выражается так:\n",
    "\n",
    "$$\n",
    "\\nabla_{\\theta_i}\\langle \\hat{U} \\rangle (\\mathbf{\\theta}) = \\frac{1}{2}[\\langle \\hat{U} \\rangle (\\mathbf{\\theta} + \\frac{\\pi}{2}\\mathbf{e_i}) - \\langle \\hat{U} \\rangle (\\mathbf{\\theta} - \\frac{\\pi}{2}\\mathbf{e_i})]\n",
    "$$\n",
    "\n",
    "```{note}\n",
    "Более строгую формулировку, а также вывод правила parameter-shift можно посмотреть в продвиной лекции этого блока про производные высших порядков.\n",
    "```\n",
    "\n",
    "Если по-простому, то оценка частной производной по $i$-му параметру может быть получена вычислением сначала ожидаемого значения схемы с параметром $\\theta_i$, смещенным на $\\frac{\\pi}{2}$ в одну сторону, а потом -- в другую. Давайте запишем это в коде, но перед этим давайте вспомним, как будет выглядеть производная функции потерь (а именно она нам нужна):\n",
    "\n",
    "$$\n",
    "\\frac{\\partial L}{\\partial \\theta_i} = \\frac{\\partial (\\langle \\hat{U} \\rangle (\\theta) - y)^2}{\\partial \\theta_i} = 2 (\\langle \\hat{U} \\rangle - y) \\frac{\\partial \\langle \\hat{U} \\rangle}{\\partial \\theta_i}\n",
    "$$\n",
    "\n",
    "Реализуем явно и наивно эту формулу в коде:"
   ]
  },
  {
   "cell_type": "code",
   "execution_count": null,
   "id": "8d6aef59",
   "metadata": {},
   "outputs": [],
   "source": [
    "def parameter_shift_i(q, cost, x, y, i, y_hat):\n",
    "    new_params = q[0].copy().flatten()\n",
    "    new_params[i] += np.pi / 2\n",
    "\n",
    "    forward = np.array(apply_node(x, (new_params.reshape(q[0].shape), q[1])))\n",
    "\n",
    "    new_params = q[0].copy().flatten()\n",
    "    new_params[i] -= np.pi / 2\n",
    "\n",
    "    backward = np.array(apply_node(x, (new_params.reshape(q[0].shape), q[1])))\n",
    "\n",
    "    diff = (y_hat - y)\n",
    "\n",
    "    return np.mean(2 * diff * (0.5 * (forward - backward)))"
   ]
  },
  {
   "cell_type": "markdown",
   "id": "51b7b3c8",
   "metadata": {},
   "source": [
    "И также проверим на первых 10 точках:"
   ]
  },
  {
   "cell_type": "code",
   "execution_count": null,
   "id": "da22a0b1",
   "metadata": {},
   "outputs": [],
   "source": [
    "y_hat = apply_node(x, q)\n",
    "pretty_print = \"\"\n",
    "for i in range(10):\n",
    "    g_i = parameter_shift_i(q, cost, x, y, i, y_hat)\n",
    "    pretty_print += f\"Naive grad: {g_i:.3f}\\tAutograd result: {autograd[0].flatten()[i]:.3f}\\n\"\n",
    "\n",
    "print(pretty_print)"
   ]
  },
  {
   "cell_type": "markdown",
   "id": "54fb4035",
   "metadata": {},
   "source": [
    "Как видно, этот результат уже совпадает с тем, что делает \"под капотом\" `PennyLane` и `Autograd`. На самом деле, правило **parameter-shift** позволяет использовать много интересных хитростей и оптимизаций, но их не получится легко показать без погружения в математические детали метода.\n",
    "\n",
    "## Что мы узнали?\n",
    "\n",
    "- Мы попробовали провести полный цикл оптимизации параметров **VQC**\n",
    "- Научились использовать автоматический расчет градиентов в `PennyLane`\n",
    "- Познакомились с двумя способами оценки градиента:\n",
    "  - Метод конечных отрезков\n",
    "  - Parameter-shift rule"
   ]
  }
 ],
 "metadata": {
  "jupytext": {
   "formats": "md:myst",
   "text_representation": {
    "extension": ".md",
    "format_name": "myst"
   }
  },
  "kernelspec": {
   "display_name": "Python 3",
   "language": "python",
   "name": "python3"
  },
  "source_map": [
   11,
   39,
   47,
   51,
   68,
   76,
   85,
   103,
   108,
   116,
   124,
   130,
   139,
   154,
   162,
   178,
   182,
   188,
   197,
   214,
   229,
   233,
   240,
   244,
   249,
   265,
   278,
   282,
   284,
   292,
   301,
   325,
   340,
   344,
   352
  ]
 },
 "nbformat": 4,
 "nbformat_minor": 5
}