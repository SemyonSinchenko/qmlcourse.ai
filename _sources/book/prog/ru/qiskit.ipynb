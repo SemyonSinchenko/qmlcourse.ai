{
 "cells": [
  {
   "cell_type": "markdown",
   "id": "d0efd237",
   "metadata": {},
   "source": [
    "(qiskit)=\n",
    "\n",
    "# Qiskit\n",
    "\n",
    "Автор(ы):\n",
    "\n",
    "- [Синченко Семен](https://github.com/SemyonSinchenko)\n",
    "\n",
    "\n",
    "В этой лекции мы посмотрим, как при помощи библиотеки `Qiskit` можно работать с кубитами и квантовыми схемами.\n",
    "\n",
    "```{warning}\n",
    "Во всех дальнейших лекциях мы будем, за редким исключением, использовать в основном библиотеку `PennyLane`, так что данная лекция исключительно обзорная и факультативная. В ней мы поверхностно познакомимся с концептами `Qiskit` и напишем пару примеров по работе с кубитами. Обзор экосистемы `Qiskit`, включая `qiskit-machine-learning` выходит за рамки этой лекции, но в конце мы дадим несколько ссылок для самостоятельного изучения.\n",
    "```\n",
    "\n",
    "## Кубиты\n",
    "\n",
    "### Импорты"
   ]
  },
  {
   "cell_type": "code",
   "execution_count": 1,
   "id": "e094f297",
   "metadata": {},
   "outputs": [
    {
     "name": "stdout",
     "output_type": "stream",
     "text": [
      "Qiskit version: 0.18.3\n"
     ]
    }
   ],
   "source": [
    "from qiskit import QuantumCircuit\n",
    "from qiskit.providers.aer import QasmSimulator\n",
    "\n",
    "from qiskit import version\n",
    "print(f\"Qiskit version: {version.get_version_info()}\")"
   ]
  },
  {
   "cell_type": "markdown",
   "id": "d1480c3f",
   "metadata": {},
   "source": [
    "### Симулятор\n",
    "\n",
    "Для запуска мы будем использовать симулятор квантового компьютера `QasmSimulator`:"
   ]
  },
  {
   "cell_type": "code",
   "execution_count": 2,
   "id": "9ad6da01",
   "metadata": {},
   "outputs": [],
   "source": [
    "simulator = QasmSimulator()"
   ]
  },
  {
   "cell_type": "markdown",
   "id": "cfeeb524",
   "metadata": {},
   "source": [
    "В `Qiskit` поддерживается несколько симуляторов, например:\n",
    "\n",
    "- [UnitarySimulator](https://qiskit.org/documentation/stubs/qiskit.providers.aer.UnitarySimulator.html#qiskit.providers.aer.UnitarySimulator) -- симулятор унитарной динамики идеальной схемы;\n",
    "- [StatevectorSimulator](https://qiskit.org/documentation/stubs/qiskit.providers.aer.StatevectorSimulator.html#qiskit.providers.aer.StatevectorSimulator) -- симулятор волновой функции идеальной схемы;\n",
    "- [QasmSimulator](https://qiskit.org/documentation/stubs/qiskit.providers.aer.QasmSimulator.html#qiskit.providers.aer.QasmSimulator) -- симулятор, который моделирует шумы;\n",
    "\n",
    "Мы использовали лишь один из них. В целом, модуль `qiskit.providers` предоставляет базовые абстракции, которые позволяют запускать наш код на разных backend, включая реальные квантовые компьютеры, просто поменяв одну строчку в коде.\n",
    "\n",
    "### Квантовая схема\n",
    "\n",
    "Ключевым элементом в `Qiskit` является квантовая схема -- экземпляр класса `QuantumCircuit`. Создадим такую схему:"
   ]
  },
  {
   "cell_type": "code",
   "execution_count": 3,
   "id": "808cafc2",
   "metadata": {},
   "outputs": [],
   "source": [
    "circuit = QuantumCircuit(2, 2)"
   ]
  },
  {
   "cell_type": "markdown",
   "id": "92d581ad",
   "metadata": {},
   "source": [
    "В `Qiskit` необходимо явно указывать не только количество кубитов, которые нам необходимы, но также и количество классических битов, которые необходимы будут нам для измерений. В данном случае мы создали квантовую схему с двумя кубитами и двумя битами.\n",
    "\n",
    "## Квантовые гейты\n",
    "\n",
    "Давайте попробуем воспроизвести функцию `make_entanglement` из [лекции про `Pennylane`](../../prog/ru/pennylane.html#qnode). Применим [гейт Адамара](../../qc/ru/qubit.html#id20) к первому кубиту, а потом применим [гейт CNOT (CX)](../../qc/ru/gates.html#cnot-cx):"
   ]
  },
  {
   "cell_type": "code",
   "execution_count": 4,
   "id": "5910c515",
   "metadata": {},
   "outputs": [
    {
     "data": {
      "text/plain": [
       "<qiskit.circuit.instructionset.InstructionSet at 0x7f54ea151a00>"
      ]
     },
     "execution_count": 4,
     "metadata": {},
     "output_type": "execute_result"
    }
   ],
   "source": [
    "circuit.h(0)\n",
    "circuit.cx(0, 1)"
   ]
  },
  {
   "cell_type": "markdown",
   "id": "55c033c9",
   "metadata": {},
   "source": [
    "И добавим шаг измерений:"
   ]
  },
  {
   "cell_type": "code",
   "execution_count": 5,
   "id": "425008fc",
   "metadata": {},
   "outputs": [
    {
     "data": {
      "text/plain": [
       "<qiskit.circuit.instructionset.InstructionSet at 0x7f54ea151f10>"
      ]
     },
     "execution_count": 5,
     "metadata": {},
     "output_type": "execute_result"
    }
   ],
   "source": [
    "circuit.measure([0,1], [0,1])"
   ]
  },
  {
   "cell_type": "markdown",
   "id": "da5d8022",
   "metadata": {},
   "source": [
    "### Компиляция и запуск схемы\n",
    "\n",
    "Квантовые схемы `Qiskit` должны быть скомпилированы в инструкции [квантового ассемблера](../../prog/ru/progreview.html#openqasm). Для этого используется функция `transpile`:"
   ]
  },
  {
   "cell_type": "code",
   "execution_count": 6,
   "id": "707f1f91",
   "metadata": {},
   "outputs": [
    {
     "name": "stdout",
     "output_type": "stream",
     "text": [
      "Number of '00': 478\n",
      "Number of '11': 522\n"
     ]
    }
   ],
   "source": [
    "from qiskit import transpile\n",
    "\n",
    "compiled_circuit = transpile(circuit, simulator)\n",
    "job = simulator.run(compiled_circuit, shots=1000)\n",
    "result = job.result()\n",
    "counts = result.get_counts(compiled_circuit)\n",
    "\n",
    "print(f\"Number of '00': {counts['00']}\")\n",
    "print(f\"Number of '11': {counts['11']}\")"
   ]
  },
  {
   "cell_type": "markdown",
   "id": "9dfcaa5c",
   "metadata": {},
   "source": [
    "Мы получили результат, аналогичный [полученному в лекции про `Pennylane`](../../prog/ru/pennylane.html#qnode): вероятности получения результата $\\ket{00}$ и $\\ket{11}$ равны $\\sim 0.5$, а другие результаты мы получить не можем.\n",
    "\n",
    "## Визуализация\n",
    "\n",
    "В `Qiskit` есть очень мощные средства визуализации как результатов измерений, так и самих квантовых схем. Например, мы можем посмотреть результаты измерения `counts` в виде графика:"
   ]
  },
  {
   "cell_type": "code",
   "execution_count": 7,
   "id": "7943f0f3",
   "metadata": {},
   "outputs": [
    {
     "name": "stderr",
     "output_type": "stream",
     "text": [
      "/home/runner/work/qmlcourse/qmlcourse/.venv/lib/python3.8/site-packages/qiskit/visualization/counts_visualization.py:226: MatplotlibDeprecationWarning: The label function was deprecated in Matplotlib 3.1 and will be removed in 3.8. Use Tick.label1 instead.\n",
      "  tick.label.set_fontsize(14)\n"
     ]
    },
    {
     "data": {
      "image/png": "[encoded data removed]",
      "text/plain": [
       "<Figure size 700x500 with 1 Axes>"
      ]
     },
     "execution_count": 7,
     "metadata": {
      "filenames": {
       "image/png": "/home/runner/work/qmlcourse/qmlcourse/qmlcourse/_build/jupyter_execute/book/prog/ru/qiskit_13_1.png"
      }
     },
     "output_type": "execute_result"
    }
   ],
   "source": [
    "from qiskit.visualization import plot_histogram\n",
    "\n",
    "plot_histogram(counts)"
   ]
  },
  {
   "cell_type": "markdown",
   "id": "efcce4cb",
   "metadata": {},
   "source": [
    "А также визуализировать саму квантовую схему:"
   ]
  },
  {
   "cell_type": "code",
   "execution_count": 8,
   "id": "3dfd004d",
   "metadata": {},
   "outputs": [
    {
     "data": {
      "image/png": "[encoded data removed]",
      "text/plain": [
       "<Figure size 454.517x284.278 with 1 Axes>"
      ]
     },
     "execution_count": 8,
     "metadata": {
      "filenames": {
       "image/png": "/home/runner/work/qmlcourse/qmlcourse/qmlcourse/_build/jupyter_execute/book/prog/ru/qiskit_15_0.png"
      }
     },
     "output_type": "execute_result"
    }
   ],
   "source": [
    "circuit.draw(output=\"mpl\")"
   ]
  },
  {
   "cell_type": "markdown",
   "id": "6ce372c9",
   "metadata": {},
   "source": [
    "В данном случае мы использовали `MatplotlibDrawe`, который позволяет делать очень красивые и легко читаемые визуализации квантовых схем -- это одна из причин почему `Qiskit` часто используют в курсах по основам квантовых вычислений.\n",
    "\n",
    "## Экосистема Qiskit\n",
    "\n",
    "Для более подробного изучения всей экосистемы `Qiskit` мы рекомендуем [онлайн книгу](https://qiskit.org/textbook/what-is-quantum.html), которая также является прекрасным источником для изучения базовых и продвинутых квантовых алгоритмов. Для знакомства со средствами для квантового машинного обучения можно также изучить [документацию библиотеки `qiskit-machine-learning`](https://qiskit.org/documentation/machine-learning/getting_started.html#installation), в которой представлены высокоуровневые API для таких вещей, как, например, [квантовый  SVM](https://qiskit.org/documentation/machine-learning/stubs/qiskit_machine_learning.algorithms.QSVC.html#qiskit_machine_learning.algorithms.QSVC), или [квантовая Generative Adversarial Network](https://qiskit.org/documentation/machine-learning/stubs/qiskit_machine_learning.algorithms.QGAN.html#qiskit_machine_learning.algorithms.QGAN)."
   ]
  }
 ],
 "metadata": {
  "jupytext": {
   "formats": "md:myst",
   "text_representation": {
    "extension": ".md",
    "format_name": "myst"
   }
  },
  "kernelspec": {
   "display_name": "Python 3",
   "language": "python",
   "name": "python3"
  },
  "language_info": {
   "codemirror_mode": {
    "name": "ipython",
    "version": 3
   },
   "file_extension": ".py",
   "mimetype": "text/x-python",
   "name": "python",
   "nbconvert_exporter": "python",
   "pygments_lexer": "ipython3",
   "version": "3.8.15"
  },
  "source_map": [
   11,
   32,
   38,
   44,
   46,
   60,
   62,
   70,
   73,
   77,
   79,
   85,
   95,
   103,
   107,
   111,
   113
  ]
 },
 "nbformat": 4,
 "nbformat_minor": 5
}