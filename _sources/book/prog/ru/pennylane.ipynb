{
 "cells": [
  {
   "cell_type": "markdown",
   "id": "acdb0bbd",
   "metadata": {},
   "source": [
    "(pennylane)=\n",
    "\n",
    "# PennyLane\n",
    "\n",
    "Автор(ы):\n",
    "\n",
    "- [Ширкин Сергей](https://github.com/SergeiShirkin)\n",
    "\n",
    "\n",
    "[PennyLane](https://pennylane.ai/) -- библиотека Python для квантового машинного обучения, которую можно использовать для обычных квантовых вычислений. Программы, написанные на PennyLane, можно запускать, используя в качестве бэкенда настоящие квантовые компьютеры от IBM Q, Xanadu, Rigetti и другие, либо квантовые симуляторы.\n",
    "\n",
    "Кубиты в PennyLane называются по-особому -- `wires` (от англ. wires -- провода). Такое название, скорее всего, связано с тем, что на квантовых схемах кубиты изображаются в виде продольных линий.\n",
    "\n",
    "Последовательность квантовых операций называется _квантовой функцией_. Такая функция может принимать в качестве аргументов только хэшируемые объекты. В качестве возвращаемого значения выступают величины, связанные с результатами измерения: ожидаемое значение, вероятности состояний или результаты сэмплирования.\n",
    "\n",
    "Квантовая функция существует не сама по себе, она запускается на определенном устройстве -- симуляторе либо настоящем квантовом компьютере. Такое устройство в PennyLane называется `device`.\n",
    "\n",
    "## QNode\n",
    "\n",
    "Квантовые вычисления при использовании PennyLane раскладываются на отдельные узлы, которые называются `QNode`. Для их создания используются квантовые функции совместно с `device`.\n",
    "\n",
    "Создавать объекты квантовых узлов можно двумя способами: явно либо с помощью декоратора `QNode`.\n",
    "\n",
    "Рассмотрим первый способ -- явное создание узла."
   ]
  },
  {
   "cell_type": "code",
   "execution_count": null,
   "id": "19745447",
   "metadata": {},
   "outputs": [],
   "source": [
    "import pennylane as qml\n",
    "from pennylane import numpy as np\n",
    "qml.drawer.use_style(\"default\")\n",
    "\n",
    "dev = qml.device(\"default.qubit\", shots=1000, wires=2)\n",
    "def make_entanglement():\n",
    "    qml.Hadamard(wires=0)\n",
    "    qml.CNOT(wires=[0, 1])\n",
    "    return qml.probs(wires=[0, 1])\n",
    "\n",
    "circuit = qml.QNode(make_entanglement, dev)\n",
    "circuit()"
   ]
  },
  {
   "cell_type": "code",
   "execution_count": null,
   "id": "3bd7d148",
   "metadata": {},
   "outputs": [],
   "source": [
    "fig, ax = qml.draw_mpl(circuit)()\n",
    "fig.show()"
   ]
  },
  {
   "cell_type": "markdown",
   "id": "86dccb89",
   "metadata": {},
   "source": [
    "Работая с библиотекой PennyLane для математических операций, можно использовать интерфейс `NumPy`, но при этом также пользоваться преимуществами автоматического дифференцирования, которое обеспечивает <a href=\"https://github.com/HIPS/autograd\">autograd</a>.\n",
    "Именно поэтому мы не импортировали `NumPy` обычным способом: `import numpy as np`, а сделали это так: `from pennylane import numpy as np`.\n",
    "\n",
    "Второй способ создания квантовых узлов -- с помощью декоратора `QNode`. Пропускаем импорт библиотек и создание устройства, так как в начале код тот же самый:"
   ]
  },
  {
   "cell_type": "code",
   "execution_count": null,
   "id": "7a93cbd8",
   "metadata": {},
   "outputs": [],
   "source": [
    "@qml.qnode(dev)\n",
    "def circuit():\n",
    "    qml.Hadamard(wires=0)\n",
    "    qml.CNOT(wires=[0, 1])\n",
    "    return qml.probs(wires=[0, 1])\n",
    "\n",
    "print(circuit())"
   ]
  },
  {
   "cell_type": "markdown",
   "id": "87a918bd",
   "metadata": {},
   "source": [
    "В данном примере мы взяли двухкубитную систему и создали запутанное состояние, а затем с помощью метода `probs` вычислили вероятности получения состояний $|00\\rangle$, $|01\\rangle$, $|10\\rangle$, $|11\\rangle$.\n",
    "\n",
    "## Операторы\n",
    "\n",
    "В квантовой функции можно применять операторы X, Y, Z, S, T (`qml.PauliX`, `qml.PauliY`, `qml.PauliZ`, `qml.S`, `qml.T` соответственно), а также операторы, в которых можно задавать угол вращения вокруг одной из осей в радианах: `qml.RX`, `qml.RY`, `qml.RZ`. Здесь и далее будем использовать `qml` как псевдоним библиотеки `PennyLane`.\n",
    "\n",
    "В этой функции мы вращаем кубит под индексом 0 вокруг оси X на 90 градусов из начального состояния $|0\\rangle$ и возвращаем **ожидаемое значение** `qml.PauliZ` для этого кубита с помощью `qml.expval`. Вероятности получения состояний $|0\\rangle$ и $|1\\rangle$ равны, так что мы получаем ожидаемое значение, близкое к нулю, что легко проверить:\n",
    "\n",
    "$$0.5 \\cdot 1 + 0.5 \\cdot (-1) = 0$$"
   ]
  },
  {
   "cell_type": "code",
   "execution_count": null,
   "id": "d72eb566",
   "metadata": {},
   "outputs": [],
   "source": [
    "@qml.qnode(dev)\n",
    "def circuit(x):\n",
    "    qml.RX(x, wires=0)\n",
    "    return qml.expval(qml.PauliZ(0))\n",
    "\n",
    "circuit(np.pi/2)"
   ]
  },
  {
   "cell_type": "markdown",
   "id": "3d5a64bb",
   "metadata": {},
   "source": [
    "В следующем примере мы вращаем кубит на тот же угол 90 градусов, но уже вокруг оси Y. Ожидаемое значение в этот раз ищем для `qml.PauliX` и получаем 1, что соответствует вычислениям:\n",
    "\n",
    "$$1 \\cdot 1 + 0 \\cdot (-1) = 1$$"
   ]
  },
  {
   "cell_type": "code",
   "execution_count": null,
   "id": "e3182ae2",
   "metadata": {},
   "outputs": [],
   "source": [
    "@qml.qnode(dev)\n",
    "def circuit(x):\n",
    "    qml.RY(x, wires=0)\n",
    "    return qml.expval(qml.PauliX(0))\n",
    "\n",
    "circuit(np.pi/2)"
   ]
  },
  {
   "cell_type": "markdown",
   "id": "987f7bf1",
   "metadata": {},
   "source": [
    "В начале этого урока мы создали устройство, которое создает и запускает одну и ту же схему 1000 раз, каждый раз производя измерения. Поменяем этот параметр:"
   ]
  },
  {
   "cell_type": "code",
   "execution_count": null,
   "id": "a18de1c3",
   "metadata": {},
   "outputs": [],
   "source": [
    "dev.shots = 5"
   ]
  },
  {
   "cell_type": "markdown",
   "id": "8cc78be2",
   "metadata": {},
   "source": [
    "Посмотрим на результат каждого из этих пяти запусков и измерений для `qml.PauliZ`. Квантовая схема будет простой: применим к кубиту с индексом 1 оператор Адамара:"
   ]
  },
  {
   "cell_type": "code",
   "execution_count": null,
   "id": "005398ae",
   "metadata": {},
   "outputs": [],
   "source": [
    "@qml.qnode(dev)\n",
    "def circuit():\n",
    "    qml.Hadamard(wires=1)\n",
    "    return qml.sample(qml.PauliZ([1]))\n",
    "\n",
    "circuit()"
   ]
  },
  {
   "cell_type": "markdown",
   "id": "ba7d136a",
   "metadata": {},
   "source": [
    "Мы получаем разные результаты: то 1, что соответствует состоянию $|0\\rangle$, то -1, что соответствует состоянию $|1\\rangle$.\n",
    "\n",
    "Если вместо `qml.PauliZ` брать сэмплы для `qml.PauliX`, то результат все время будет один и тот же: 1, что соответствует состоянию $|+\\rangle$ (вектор базиса Адамара)."
   ]
  },
  {
   "cell_type": "code",
   "execution_count": null,
   "id": "f17e3707",
   "metadata": {},
   "outputs": [],
   "source": [
    "@qml.qnode(dev)\n",
    "def circuit():\n",
    "    qml.Hadamard(wires=1)\n",
    "    return qml.sample(qml.PauliX([1]))\n",
    "\n",
    "circuit()"
   ]
  },
  {
   "cell_type": "markdown",
   "id": "f2b85fc0",
   "metadata": {},
   "source": [
    "## QubitUnitary\n",
    "\n",
    "В PennyLane можно использовать готовые операторы, либо задавать операторы явно с помощью матриц.\n",
    "\n",
    "Для этого можно использовать класс `qml.QubitUnitary`, который принимает два параметра: U -- квадратную унитарную матрицу и `wires` -- кубиты, на которые действует оператор U.\n",
    "\n",
    "В качестве примера создадим оператор, осуществляющий обмен состояний между кубитами (SWAP). Такой оператор уже есть в библиотеке PennyLane (`qml.SWAP`), но мы создадим его с помощью `qml.QubitUnitary`. Сначала мы зададим саму матрицу в виде двумерного массива, используя интерфейс `NumPy`:"
   ]
  },
  {
   "cell_type": "code",
   "execution_count": null,
   "id": "b027b83d",
   "metadata": {},
   "outputs": [],
   "source": [
    "U = np.array([[1, 0, 0, 0],\n",
    "              [0, 0, 1, 0],\n",
    "              [0, 1, 0, 0],\n",
    "              [0, 0, 0, 1]])"
   ]
  },
  {
   "cell_type": "markdown",
   "id": "603e911d",
   "metadata": {},
   "source": [
    "Создадим заново устройство, при этом зададим число запусков схемы как `shots=1`: чтобы убедиться, что все работает правильно, нам будет достаточно одного запуска."
   ]
  },
  {
   "cell_type": "code",
   "execution_count": null,
   "id": "439e788c",
   "metadata": {},
   "outputs": [],
   "source": [
    "dev = qml.device(\"default.qubit\", shots=1, wires=2)"
   ]
  },
  {
   "cell_type": "markdown",
   "id": "531994a5",
   "metadata": {},
   "source": [
    "Создадим и запустим схему, в которой перед применением операции SWAP, реализованной с помощью `qml.QubitUnitary`, один кубит будет находиться в состоянии 1, а другой -- в состоянии 0."
   ]
  },
  {
   "cell_type": "code",
   "execution_count": null,
   "id": "61b30631",
   "metadata": {},
   "outputs": [],
   "source": [
    "@qml.qnode(dev)\n",
    "def circuit(do_swap):\n",
    "    qml.PauliX(wires=0)\n",
    "    if do_swap:\n",
    "        qml.QubitUnitary(U, wires=[0, 1])\n",
    "    return qml.sample(qml.PauliZ([0])), qml.sample(qml.PauliZ([1]))"
   ]
  },
  {
   "cell_type": "markdown",
   "id": "5d593014",
   "metadata": {},
   "source": [
    "Запустим схему сначала без применения операции SWAP:"
   ]
  },
  {
   "cell_type": "code",
   "execution_count": null,
   "id": "74a07ae9",
   "metadata": {},
   "outputs": [],
   "source": [
    "circuit(do_swap=False)"
   ]
  },
  {
   "cell_type": "markdown",
   "id": "247dbbf3",
   "metadata": {},
   "source": [
    "А затем -- с применением:"
   ]
  },
  {
   "cell_type": "code",
   "execution_count": null,
   "id": "aaa4eda3",
   "metadata": {},
   "outputs": [],
   "source": [
    "circuit(do_swap=True)"
   ]
  },
  {
   "cell_type": "markdown",
   "id": "25c4e33b",
   "metadata": {},
   "source": [
    "Видим, что во втором случае операция SWAP сработала: состояния кубитов поменялись местами. Можно посмотреть, как выглядит такая схема:"
   ]
  },
  {
   "cell_type": "code",
   "execution_count": null,
   "id": "f51ee0ec",
   "metadata": {},
   "outputs": [],
   "source": [
    "fig, ax = qml.draw_mpl(circuit)(True)\n",
    "fig.show();"
   ]
  }
 ],
 "metadata": {
  "jupytext": {
   "formats": "md:myst",
   "text_representation": {
    "extension": ".md",
    "format_name": "myst"
   }
  },
  "kernelspec": {
   "display_name": "Python 3",
   "language": "python",
   "name": "python3"
  },
  "source_map": [
   11,
   38,
   53,
   56,
   63,
   71,
   83,
   90,
   96,
   103,
   107,
   109,
   113,
   120,
   126,
   133,
   143,
   148,
   152,
   154,
   158,
   165,
   169,
   171,
   175,
   177,
   181
  ]
 },
 "nbformat": 4,
 "nbformat_minor": 5
}