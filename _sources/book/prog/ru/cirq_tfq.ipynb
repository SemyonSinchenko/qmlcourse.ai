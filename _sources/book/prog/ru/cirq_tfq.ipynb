{
 "cells": [
  {
   "cell_type": "markdown",
   "id": "b2a53927",
   "metadata": {},
   "source": [
    "(cirq_tfq)=\n",
    "\n",
    "# Cirq & TFQ\n",
    "\n",
    "Автор(ы):\n",
    "\n",
    "- [Синченко Семен](https://github.com/SemyonSinchenko)\n",
    "\n",
    "\n",
    "## Введение\n",
    "\n",
    "[Cirq](https://quantumai.google/cirq) -- это библиотека для работы с квантовыми компьютерами и симуляторами компании _Google_. В рамках темы квантового машинного обучения нам также интересен фреймворк [Tensorflow Quantum](https://www.tensorflow.org/quantum/overview) или сокращенно `TFQ`. Это высокоуровневая библиотека, которая содержит готовые функции для квантового и гибридного машинного обучения. В качестве системы автоматического дифференцирования, а также для построения гибридных квантово-классических нейронных сетей там используется библиотека [Tensorflow](https://www.tensorflow.org/overview/).\n",
    "\n",
    "```{warning}\n",
    "Во всех дальнейших лекциях мы будем использовать в основном библиотеку `PennyLane`, так что данная лекция исключительно обзорная и факультативная. В ней мы посмотрим несколько примеров _end2end_ обучения квантовых схем на `TFQ` без детального объяснения теории и вообще того, что происходит. Основная цель данной лекции -- исключительно обзор еще одного инструмента, а не изучение QML! Заинтересованный читатель может вернуться к этому обзору после изучения глав про [VQC](../../vqc/ru/vqc.md), [Градиенты](../../grads/ru/gradients.md) и **Квантовые нейросети**.\n",
    "```\n",
    "\n",
    "## Работа с кубитами\n",
    "\n",
    "### Импорты и схема\n",
    "\n",
    "```{warning}\n",
    "`Tensorflow Quantum` нельзя установить на `Windows`. Если система `POSIX`-совместимая и хотите попробовать запустить примеры кода из этой лекции, то просто в корне данного репозитория наберите команду (если уже установили `tensorflow`):\n",
    "\n",
    "    poetry run pip install tensorflow-quantum==0.5.1\n",
    "\n",
    "Обладателям компьютеров на системе `Windows` можем лишь предложить использовать [`WSL2`](https://docs.microsoft.com/en-us/windows/wsl/about) или `Docker`. В целом эта лекция факультативная и нигде далее `TFQ` не используется.\n",
    "\n",
    "А так, больше информации по установке можно найти в [разделе про установку](https://www.tensorflow.org/quantum/install) в официальной документации или у них же на [GitHub](https://github.com/tensorflow/quantum/blob/master/docs/install.md).\n",
    "```\n",
    "\n",
    "Для начала импортируем `cirq`."
   ]
  },
  {
   "cell_type": "code",
   "execution_count": 1,
   "id": "7adfa7fa",
   "metadata": {},
   "outputs": [],
   "source": [
    "import cirq"
   ]
  },
  {
   "cell_type": "markdown",
   "id": "69c88979",
   "metadata": {},
   "source": [
    "`Cirq` рассчитан на работу с квантовым компьютером от компании _Google_, который представляет собой решетку кубитов. Например, вот так выглядит решетка кубитов квантового компьютера `Sycamore`:\n",
    "\n",
    "```{figure} /_static/prog/ru/tfq/sycamore.png\n",
    ":width: 400px\n",
    ":name: sycamore_lattice\n",
    "\n",
    "Изображение из {cite}`sycamore`\n",
    "```\n",
    "\n",
    "Поэтому в нем все строится вокруг работы с решеткой кубитов -- объектом `cirq.GridQubit`. Давайте создадим кубит на решетке, который имеет координаты $(0, 0)$:"
   ]
  },
  {
   "cell_type": "code",
   "execution_count": 2,
   "id": "3be8b5cd",
   "metadata": {},
   "outputs": [],
   "source": [
    "qubit = cirq.GridQubit(0, 0)"
   ]
  },
  {
   "cell_type": "markdown",
   "id": "5b2f103b",
   "metadata": {},
   "source": [
    "Следующей важной концепцией в `Cirq` является непосредственно квантовая схема. Давайте создадим схему, которая переводит кубит в суперпозицию состояний $\\ket{0}$ и $\\ket{1}$ и измеряет его:"
   ]
  },
  {
   "cell_type": "code",
   "execution_count": 3,
   "id": "d2066449",
   "metadata": {},
   "outputs": [
    {
     "name": "stdout",
     "output_type": "stream",
     "text": [
      "(0, 0): ───H───M───\n"
     ]
    }
   ],
   "source": [
    "circuit = cirq.Circuit()\n",
    "circuit.append(cirq.H(qubit))\n",
    "circuit.append(cirq.measure(qubit))\n",
    "print(circuit)"
   ]
  },
  {
   "cell_type": "markdown",
   "id": "f0d7943e",
   "metadata": {},
   "source": [
    "### Запуск и симуляция\n",
    "\n",
    "Теперь создадим квантовый симулятор, который посчитает нам результат этой простой схемы на классическом компьютере:"
   ]
  },
  {
   "cell_type": "code",
   "execution_count": 4,
   "id": "97455666",
   "metadata": {},
   "outputs": [],
   "source": [
    "sim = cirq.Simulator()"
   ]
  },
  {
   "cell_type": "markdown",
   "id": "ff078c72",
   "metadata": {},
   "source": [
    "Как мы знаем, результат измерения такой схемы равен 50% для состояния $\\ket{0}$, то есть если мы будем сэмплировать, то должны получать $\\sim 0.5$. Проверим это с разным числом сэмплов:"
   ]
  },
  {
   "cell_type": "code",
   "execution_count": 5,
   "id": "dace16c1",
   "metadata": {},
   "outputs": [
    {
     "name": "stdout",
     "output_type": "stream",
     "text": [
      "5 сэмплов: (0, 0)    0.2\n",
      "dtype: float64\n",
      "\n",
      "100 сэмплов: (0, 0)    0.64\n",
      "dtype: float64\n",
      "\n",
      "1000 сэмплов: (0, 0)    0.5\n",
      "dtype: float64\n"
     ]
    }
   ],
   "source": [
    "print(f\"5 сэмплов: {sim.sample(circuit, repetitions=5).mean()}\")\n",
    "print(f\"\\n100 сэмплов: {sim.sample(circuit, repetitions=100).mean()}\")\n",
    "print(f\"\\n1000 сэмплов: {sim.sample(circuit, repetitions=1000).mean()}\")"
   ]
  },
  {
   "cell_type": "markdown",
   "id": "b14431ac",
   "metadata": {},
   "source": [
    "```{note}\n",
    "Метод `sim.sample` возвращает хорошо знакомый всем специалистам в области Data Science объект `pandas.DataFrame`.\n",
    "```\n",
    "\n",
    "Также у нас есть опция запустить схему через метод `run`. Может показаться, что это то же самое, но на самом деле в отличие от `sample`, метод `run` возвращает результат в несколько ином виде; а еще он позволяет запускать программу на реальном квантовом компьютере `Goolge` или их новых квантовых симуляторах на TPU:"
   ]
  },
  {
   "cell_type": "code",
   "execution_count": 6,
   "id": "711d61c4",
   "metadata": {},
   "outputs": [
    {
     "name": "stdout",
     "output_type": "stream",
     "text": [
      "(0, 0)=1011111110101001101111001\n"
     ]
    }
   ],
   "source": [
    "print(sim.run(circuit, repetitions=25))"
   ]
  },
  {
   "cell_type": "markdown",
   "id": "8d361edd",
   "metadata": {},
   "source": [
    "Тут мы просто видим последовательность наших измерений.\n",
    "\n",
    "## Квантовое машинное обучение\n",
    "\n",
    "### Импорты\n",
    "\n",
    "Мы будем использовать `Tensorflow` и `Tensorflow Quantum`."
   ]
  },
  {
   "cell_type": "code",
   "execution_count": 7,
   "id": "95a2911a",
   "metadata": {},
   "outputs": [],
   "source": [
    "import os\n",
    "os.environ[\"TF_CPP_MIN_LOG_LEVEL\"] = \"3\"\n",
    "import tensorflow as tf\n",
    "import tensorflow_quantum as tfq"
   ]
  },
  {
   "cell_type": "markdown",
   "id": "e89a0d12",
   "metadata": {},
   "source": [
    "### Задача\n",
    "\n",
    "Давайте попробуем решить игрушечную задачку классификации простой гибридной квантово-классической нейронной сетью. У нас будет один квантовый слой и один классический слой. В качестве задачи сгенерируем простенький набор данных, используя рутины `scikit-learn`. Сразу переведем входящие признаки в диапазон от нуля до $\\pi$."
   ]
  },
  {
   "cell_type": "code",
   "execution_count": 8,
   "id": "0bd750ee",
   "metadata": {},
   "outputs": [],
   "source": [
    "from sklearn.datasets import make_classification\n",
    "import numpy as np\n",
    "\n",
    "x, y = make_classification(n_samples=50, n_features=2, n_informative=2, random_state=42, n_redundant=0)\n",
    "\n",
    "def normalize(x):\n",
    "    x_min = x.min()\n",
    "    x_max = x.max()\n",
    "\n",
    "    return np.pi * (x - x_min) / (x_max - x_min)\n",
    "\n",
    "x[:, 0] = normalize(x[:, 0])\n",
    "x[:, 1] = normalize(x[:, 1])"
   ]
  },
  {
   "cell_type": "markdown",
   "id": "3f89bb49",
   "metadata": {},
   "source": [
    "Посмотрим на эти данные:"
   ]
  },
  {
   "cell_type": "code",
   "execution_count": 9,
   "id": "9531035c",
   "metadata": {},
   "outputs": [
    {
     "data": {
      "image/png": "[encoded data removed]",
      "text/plain": [
       "<Figure size 600x400 with 2 Axes>"
      ]
     },
     "metadata": {
      "filenames": {
       "image/png": "/home/runner/work/qmlcourse/qmlcourse/qmlcourse/_build/jupyter_execute/book/prog/ru/cirq_tfq_17_0.png"
      }
     },
     "output_type": "display_data"
    }
   ],
   "source": [
    "import matplotlib.pyplot as plt\n",
    "\n",
    "plt.figure(figsize=(6, 4))\n",
    "cb = plt.scatter(x[:, 0], x[:, 1], c=y)\n",
    "plt.colorbar(cb)\n",
    "plt.show()"
   ]
  },
  {
   "cell_type": "markdown",
   "id": "17c27d14",
   "metadata": {},
   "source": [
    "### Кубиты\n",
    "\n",
    "`Tensorflow Quantum` позволяет \"превращать\" параметризированные схемы `Cirq` в слои нейронных сетей `Tensorflow`. Но для начала нам все равно потребуется схема. Давайте объявим пару кубитов."
   ]
  },
  {
   "cell_type": "code",
   "execution_count": 10,
   "id": "c5a6f6a3",
   "metadata": {},
   "outputs": [
    {
     "name": "stdout",
     "output_type": "stream",
     "text": [
      "[cirq.GridQubit(0, 0), cirq.GridQubit(0, 1)]\n"
     ]
    }
   ],
   "source": [
    "qubits = [cirq.GridQubit(0, 0), cirq.GridQubit(0, 1)]\n",
    "print(qubits)"
   ]
  },
  {
   "cell_type": "markdown",
   "id": "338d6464",
   "metadata": {},
   "source": [
    "### Входной слой нейронной сети\n",
    "\n",
    "Определим входной слой, который будет кодировать наши классические данные в квантовые. Сразу закодируем данные. Так как `Tensorflow` работает с тензорами, то нам необходимо будет преобразовать схемы в тензор. Для этого есть специальная функция `convert_to_tensor`."
   ]
  },
  {
   "cell_type": "code",
   "execution_count": 11,
   "id": "32417df3",
   "metadata": {},
   "outputs": [],
   "source": [
    "def data2circuit(x):\n",
    "    input_circuit = cirq.Circuit()\n",
    "\n",
    "    input_circuit.append(cirq.Ry(rads=x[0]).on(qubits[0]))\n",
    "    input_circuit.append(cirq.Ry(rads=x[1]).on(qubits[1]))\n",
    "\n",
    "    return input_circuit\n",
    "\n",
    "x_input = tfq.convert_to_tensor([data2circuit(xi) for xi in x])"
   ]
  },
  {
   "cell_type": "markdown",
   "id": "63a2a81f",
   "metadata": {},
   "source": [
    "### Слой из параметризованной схемы\n",
    "\n",
    "Для создания параметризованных схем в `Tensorflow Quantum` используются символы из библиотеки символьных вычислений [`sympy`](https://www.sympy.org/en/index.html). Давайте объявим несколько параметров и создадим схему:"
   ]
  },
  {
   "cell_type": "code",
   "execution_count": 12,
   "id": "149d7b6c",
   "metadata": {},
   "outputs": [
    {
     "name": "stdout",
     "output_type": "stream",
     "text": [
      "(0, 0): ───H───Ry(w1)───@───H───Rx(w3)───@───\n",
      "                        │                │\n",
      "(0, 1): ───H───Ry(w2)───X───H───Rx(w4)───X───\n"
     ]
    }
   ],
   "source": [
    "from sympy import symbols\n",
    "\n",
    "params = symbols(\"w1, w2, w3, w4\")\n",
    "\n",
    "trainable_circuit = cirq.Circuit()\n",
    "\n",
    "trainable_circuit.append(cirq.H.on(qubits[0]))\n",
    "trainable_circuit.append(cirq.H.on(qubits[1]))\n",
    "trainable_circuit.append(cirq.Ry(rads=params[0]).on(qubits[0]))\n",
    "trainable_circuit.append(cirq.Ry(rads=params[1]).on(qubits[1]))\n",
    "\n",
    "trainable_circuit.append(cirq.CNOT.on(qubits[0], qubits[1]))\n",
    "\n",
    "trainable_circuit.append(cirq.H.on(qubits[0]))\n",
    "trainable_circuit.append(cirq.H.on(qubits[1]))\n",
    "trainable_circuit.append(cirq.Rx(rads=params[2]).on(qubits[0]))\n",
    "trainable_circuit.append(cirq.Rx(rads=params[3]).on(qubits[1]))\n",
    "\n",
    "trainable_circuit.append(cirq.CNOT.on(qubits[0], qubits[1]))\n",
    "\n",
    "print(trainable_circuit)"
   ]
  },
  {
   "cell_type": "markdown",
   "id": "bb867edf",
   "metadata": {},
   "source": [
    "### Наблюдаемые\n",
    "\n",
    "В качестве операторов, которые мы будем измерять, воспользуемся парой $\\hat{XY}$ и $\\hat{YX}$ для наших кубитов:"
   ]
  },
  {
   "cell_type": "code",
   "execution_count": 13,
   "id": "a0b532f8",
   "metadata": {},
   "outputs": [],
   "source": [
    "ops = [cirq.X.on(qubits[0]) * cirq.Y.on(qubits[1]), cirq.Y.on(qubits[0]) * cirq.X.on(qubits[1])]"
   ]
  },
  {
   "cell_type": "markdown",
   "id": "896468f7",
   "metadata": {},
   "source": [
    "### Гибридная нейронная сеть\n",
    "\n",
    "Теперь воспользуемся классическим `Tensorflow`, чтобы объявить и скомпилировать нашу нейронную сеть, предварительно добавив в нее один классический слой.\n",
    "\n",
    "- зафиксируем случайный генератор"
   ]
  },
  {
   "cell_type": "code",
   "execution_count": 14,
   "id": "a9f82110",
   "metadata": {},
   "outputs": [],
   "source": [
    "tf.random.set_seed(42)"
   ]
  },
  {
   "cell_type": "markdown",
   "id": "a6c6c491",
   "metadata": {},
   "source": [
    "- входной тензор -- это в нашем случае тензор типа `string`, так как это квантовые схемы"
   ]
  },
  {
   "cell_type": "code",
   "execution_count": 15,
   "id": "d5ff76b3",
   "metadata": {},
   "outputs": [],
   "source": [
    "cirq_inputs = tf.keras.Input(shape=(), dtype=tf.dtypes.string)"
   ]
  },
  {
   "cell_type": "markdown",
   "id": "a6588b6a",
   "metadata": {},
   "source": [
    "- квантовый слой"
   ]
  },
  {
   "cell_type": "code",
   "execution_count": 16,
   "id": "b089873c",
   "metadata": {},
   "outputs": [],
   "source": [
    "quantum_layer = tfq.layers.PQC(trainable_circuit, ops)(cirq_inputs)"
   ]
  },
  {
   "cell_type": "markdown",
   "id": "e122703b",
   "metadata": {},
   "source": [
    "- классический слой и выходной слой"
   ]
  },
  {
   "cell_type": "code",
   "execution_count": 17,
   "id": "6e31cf8c",
   "metadata": {},
   "outputs": [],
   "source": [
    "dense_layer = tf.keras.layers.Dense(2, activation=\"relu\")(quantum_layer)\n",
    "output_layer = tf.keras.layers.Dense(1, activation=\"sigmoid\")(dense_layer)"
   ]
  },
  {
   "cell_type": "markdown",
   "id": "95bf5265",
   "metadata": {},
   "source": [
    "- компилируем модель и смотрим, что получилось. И сразу указываем метрики, которые хотим отслеживать"
   ]
  },
  {
   "cell_type": "code",
   "execution_count": 18,
   "id": "0970fa9e",
   "metadata": {},
   "outputs": [
    {
     "name": "stdout",
     "output_type": "stream",
     "text": [
      "Model: \"model\"\n",
      "_________________________________________________________________\n",
      " Layer (type)                Output Shape              Param #   \n",
      "=================================================================\n",
      " input_1 (InputLayer)        [(None,)]                 0         \n",
      "                                                                 \n",
      " pqc (PQC)                   (None, 2)                 4         \n",
      "                                                                 \n",
      " dense (Dense)               (None, 2)                 6         \n",
      "                                                                 \n",
      " dense_1 (Dense)             (None, 1)                 3         \n",
      "                                                                 \n",
      "=================================================================\n",
      "Total params: 13\n",
      "Trainable params: 13\n",
      "Non-trainable params: 0\n",
      "_________________________________________________________________\n"
     ]
    }
   ],
   "source": [
    "model = tf.keras.Model(inputs=cirq_inputs, outputs=output_layer)\n",
    "model.compile(\n",
    "    optimizer=tf.keras.optimizers.SGD(learning_rate=0.1),\n",
    "    loss=tf.keras.losses.BinaryCrossentropy(),\n",
    "    metrics=[\n",
    "        tf.keras.metrics.BinaryAccuracy(),\n",
    "        tf.keras.metrics.BinaryCrossentropy(),\n",
    "    ]\n",
    ")\n",
    "model.summary()"
   ]
  },
  {
   "cell_type": "markdown",
   "id": "7f8b6033",
   "metadata": {},
   "source": [
    "### Предсказания со случайной инициализацией\n",
    "\n",
    "Наша нейросеть имеет случайные начальные параметры. Давайте посмотрим, что она предсказывает до обучения:"
   ]
  },
  {
   "cell_type": "code",
   "execution_count": 19,
   "id": "58754a71",
   "metadata": {},
   "outputs": [
    {
     "data": {
      "image/png": "[encoded data removed]",
      "text/plain": [
       "<Figure size 600x400 with 2 Axes>"
      ]
     },
     "metadata": {
      "filenames": {
       "image/png": "/home/runner/work/qmlcourse/qmlcourse/qmlcourse/_build/jupyter_execute/book/prog/ru/cirq_tfq_37_0.png"
      }
     },
     "output_type": "display_data"
    }
   ],
   "source": [
    "preds = model(x_input).numpy()\n",
    "\n",
    "plt.figure(figsize=(6, 4))\n",
    "cb = plt.scatter(x[:, 0], x[:, 1], c=preds)\n",
    "plt.colorbar(cb)\n",
    "plt.show()"
   ]
  },
  {
   "cell_type": "markdown",
   "id": "a33e470e",
   "metadata": {},
   "source": [
    "### Обучение сети\n",
    "\n",
    "- запустим обучение"
   ]
  },
  {
   "cell_type": "code",
   "execution_count": 20,
   "id": "7531f648",
   "metadata": {},
   "outputs": [
    {
     "name": "stdout",
     "output_type": "stream",
     "text": [
      "CPU times: user 4.34 s, sys: 111 ms, total: 4.45 s\n",
      "Wall time: 4.01 s\n"
     ]
    },
    {
     "data": {
      "text/plain": [
       "<keras.callbacks.History at 0x7f5fc8b4d040>"
      ]
     },
     "execution_count": 20,
     "metadata": {},
     "output_type": "execute_result"
    }
   ],
   "source": [
    "%%time\n",
    "model.fit(x=x_input, y=y, epochs=200, verbose=0)"
   ]
  },
  {
   "cell_type": "markdown",
   "id": "3fe6dc80",
   "metadata": {},
   "source": [
    "- визуализируем логи обучения"
   ]
  },
  {
   "cell_type": "code",
   "execution_count": 21,
   "id": "94b20f90",
   "metadata": {},
   "outputs": [
    {
     "data": {
      "image/png": "[encoded data removed]",
      "text/plain": [
       "<Figure size 600x600 with 2 Axes>"
      ]
     },
     "metadata": {
      "filenames": {
       "image/png": "/home/runner/work/qmlcourse/qmlcourse/qmlcourse/_build/jupyter_execute/book/prog/ru/cirq_tfq_41_0.png"
      }
     },
     "output_type": "display_data"
    }
   ],
   "source": [
    "f, ax = plt.subplots(2, figsize=(6, 6))\n",
    "ax[0].plot(model.history.history[\"binary_accuracy\"])\n",
    "ax[1].plot(model.history.history[\"binary_crossentropy\"])\n",
    "plt.show()"
   ]
  },
  {
   "cell_type": "markdown",
   "id": "97826ab4",
   "metadata": {},
   "source": [
    "- визуализируем предсказания"
   ]
  },
  {
   "cell_type": "code",
   "execution_count": 22,
   "id": "12841078",
   "metadata": {},
   "outputs": [
    {
     "data": {
      "image/png": "[encoded data removed]",
      "text/plain": [
       "<Figure size 600x400 with 2 Axes>"
      ]
     },
     "metadata": {
      "filenames": {
       "image/png": "/home/runner/work/qmlcourse/qmlcourse/qmlcourse/_build/jupyter_execute/book/prog/ru/cirq_tfq_43_0.png"
      }
     },
     "output_type": "display_data"
    }
   ],
   "source": [
    "preds_after_training = model(x_input).numpy()\n",
    "plt.figure(figsize=(6, 4))\n",
    "\n",
    "cb = plt.scatter(x[:, 0], x[:, 1], c=preds_after_training)\n",
    "plt.colorbar(cb)\n",
    "plt.show()"
   ]
  },
  {
   "cell_type": "markdown",
   "id": "cc958e8e",
   "metadata": {},
   "source": [
    "## Заключение\n",
    "\n",
    "В данной лекции мы познакомились с фреймворком `Tensorflow Quantum`. Это достаточно мощный инструмент, особенно в связке с `Tensorflow`, так как позволяет использовать большое число готовых методов `Tensorflow` и различных расширений. Тем не менее, для целей обучения `Tensorflow Quantum` кажется не лучшим выбором, так как имеет много неочевидного синтаксиса и предполагает, как минимум, среднего знания `Tensorflow`. Во всех дальнейших лекциях мы будем использовать в основном библиотеку `PennyLane`."
   ]
  }
 ],
 "metadata": {
  "jupytext": {
   "formats": "md:myst",
   "text_representation": {
    "extension": ".md",
    "format_name": "myst"
   }
  },
  "kernelspec": {
   "display_name": "Python 3",
   "language": "python",
   "name": "python3"
  },
  "language_info": {
   "codemirror_mode": {
    "name": "ipython",
    "version": 3
   },
   "file_extension": ".py",
   "mimetype": "text/x-python",
   "name": "python",
   "nbconvert_exporter": "python",
   "pygments_lexer": "ipython3",
   "version": "3.8.14"
  },
  "source_map": [
   11,
   46,
   48,
   61,
   63,
   67,
   72,
   78,
   80,
   84,
   88,
   96,
   98,
   108,
   113,
   119,
   133,
   137,
   144,
   150,
   153,
   159,
   169,
   175,
   197,
   203,
   205,
   213,
   215,
   219,
   221,
   225,
   227,
   231,
   234,
   238,
   249,
   255,
   262,
   268,
   271,
   275,
   280,
   284,
   291
  ]
 },
 "nbformat": 4,
 "nbformat_minor": 5
}