{
 "cells": [
  {
   "cell_type": "markdown",
   "id": "75143140",
   "metadata": {},
   "source": [
    "(cirq_tfq)=\n",
    "\n",
    "# Cirq & TFQ\n",
    "\n",
    "Автор(ы):\n",
    "\n",
    "- [Синченко Семен](https://github.com/SemyonSinchenko)\n",
    "\n",
    "\n",
    "## Введение\n",
    "\n",
    "[Cirq](https://quantumai.google/cirq) -- это библиотека для работы с квантовыми компьютерами и симуляторами компании _Google_. В рамках темы квантового машинного обучения нам также интересен фреймворк [Tensorflow Quantum](https://www.tensorflow.org/quantum/overview) или сокращенно `TFQ`. Это высокоуровневая библиотека, которая содержит готовые функции для квантового и гибридного машинного обучения. В качестве системы автоматического дифференцирования, а также для построения гибридных квантово-классических нейронных сетей там используется библиотека [Tensorflow](https://www.tensorflow.org/overview/).\n",
    "\n",
    "```{warning}\n",
    "Во всех дальнейших лекциях мы будем использовать в основном библиотеку `PennyLane`, так что данная лекция исключительно обзорная и факультативная. В ней мы посмотрим несколько примеров _end2end_ обучения квантовых схем на `TFQ` без детального объяснения теории и вообще того, что происходит. Основная цель данной лекции -- исключительно обзор еще одного инструмента, а не изучение QML! Заинтересованный читатель может вернуться к этому обзору после изучения глав про [VQC](../../vqc/ru/vqc.md), [Градиенты](../../grads/ru/gradients.md) и **Квантовые нейросети**.\n",
    "```\n",
    "\n",
    "## Работа с кубитами\n",
    "\n",
    "### Импорты и схема\n",
    "\n",
    "```{warning}\n",
    "`Tensorflow Quantum` нельзя установить на `Windows`. Если система `POSIX`-совместимая и хотите попробовать запустить примеры кода из этой лекции, то просто в корне данного репозитория наберите команду (если уже установили `tensorflow`):\n",
    "\n",
    "    poetry run pip install tensorflow-quantum==0.5.1\n",
    "\n",
    "Обладателям компьютеров на системе `Windows` можем лишь предложить использовать [`WSL2`](https://docs.microsoft.com/en-us/windows/wsl/about) или `Docker`. В целом эта лекция факультативная и нигде далее `TFQ` не используется.\n",
    "\n",
    "А так, больше информации по установке можно найти в [разделе про установку](https://www.tensorflow.org/quantum/install) в официальной документации или у них же на [GitHub](https://github.com/tensorflow/quantum/blob/master/docs/install.md).\n",
    "```\n",
    "\n",
    "Для начала импортируем `cirq`."
   ]
  },
  {
   "cell_type": "code",
   "execution_count": null,
   "id": "9c07370e",
   "metadata": {},
   "outputs": [],
   "source": [
    "import cirq"
   ]
  },
  {
   "cell_type": "markdown",
   "id": "a65b20c9",
   "metadata": {},
   "source": [
    "`Cirq` рассчитан на работу с квантовым компьютером от компании _Google_, который представляет собой решетку кубитов. Например, вот так выглядит решетка кубитов квантового компьютера `Sycamore`:\n",
    "\n",
    "```{figure} /_static/prog/ru/tfq/sycamore.png\n",
    ":width: 400px\n",
    ":name: sycamore_lattice\n",
    "\n",
    "Изображение из {cite}`sycamore`\n",
    "```\n",
    "\n",
    "Поэтому в нем все строится вокруг работы с решеткой кубитов -- объектом `cirq.GridQubit`. Давайте создадим кубит на решетке, который имеет координаты $(0, 0)$:"
   ]
  },
  {
   "cell_type": "code",
   "execution_count": null,
   "id": "3a091cba",
   "metadata": {},
   "outputs": [],
   "source": [
    "qubit = cirq.GridQubit(0, 0)"
   ]
  },
  {
   "cell_type": "markdown",
   "id": "8daa6b7c",
   "metadata": {},
   "source": [
    "Следующей важной концепцией в `Cirq` является непосредственно квантовая схема. Давайте создадим схему, которая переводит кубит в суперпозицию состояний $\\ket{0}$ и $\\ket{1}$ и измеряет его:"
   ]
  },
  {
   "cell_type": "code",
   "execution_count": null,
   "id": "458779d2",
   "metadata": {},
   "outputs": [],
   "source": [
    "circuit = cirq.Circuit()\n",
    "circuit.append(cirq.H(qubit))\n",
    "circuit.append(cirq.measure(qubit))\n",
    "print(circuit)"
   ]
  },
  {
   "cell_type": "markdown",
   "id": "c733228c",
   "metadata": {},
   "source": [
    "### Запуск и симуляция\n",
    "\n",
    "Теперь создадим квантовый симулятор, который посчитает нам результат этой простой схемы на классическом компьютере:"
   ]
  },
  {
   "cell_type": "code",
   "execution_count": null,
   "id": "9514dd2f",
   "metadata": {},
   "outputs": [],
   "source": [
    "sim = cirq.Simulator()"
   ]
  },
  {
   "cell_type": "markdown",
   "id": "ab693985",
   "metadata": {},
   "source": [
    "Как мы знаем, результат измерения такой схемы равен 50% для состояния $\\ket{0}$, то есть если мы будем сэмплировать, то должны получать $\\sim 0.5$. Проверим это с разным числом сэмплов:"
   ]
  },
  {
   "cell_type": "code",
   "execution_count": null,
   "id": "15b9d9ec",
   "metadata": {},
   "outputs": [],
   "source": [
    "print(f\"5 сэмплов: {sim.sample(circuit, repetitions=5).mean()}\")\n",
    "print(f\"\\n100 сэмплов: {sim.sample(circuit, repetitions=100).mean()}\")\n",
    "print(f\"\\n1000 сэмплов: {sim.sample(circuit, repetitions=1000).mean()}\")"
   ]
  },
  {
   "cell_type": "markdown",
   "id": "f0ad6d7f",
   "metadata": {},
   "source": [
    "```{note}\n",
    "Метод `sim.sample` возвращает хорошо знакомый всем специалистам в области Data Science объект `pandas.DataFrame`.\n",
    "```\n",
    "\n",
    "Также у нас есть опция запустить схему через метод `run`. Может показаться, что это то же самое, но на самом деле в отличие от `sample`, метод `run` возвращает результат в несколько ином виде; а еще он позволяет запускать программу на реальном квантовом компьютере `Goolge` или их новых квантовых симуляторах на TPU:"
   ]
  },
  {
   "cell_type": "code",
   "execution_count": null,
   "id": "2497680e",
   "metadata": {},
   "outputs": [],
   "source": [
    "print(sim.run(circuit, repetitions=25))"
   ]
  },
  {
   "cell_type": "markdown",
   "id": "051e2e85",
   "metadata": {},
   "source": [
    "Тут мы просто видим последовательность наших измерений.\n",
    "\n",
    "## Квантовое машинное обучение\n",
    "\n",
    "### Импорты\n",
    "\n",
    "Мы будем использовать `Tensorflow` и `Tensorflow Quantum`."
   ]
  },
  {
   "cell_type": "code",
   "execution_count": null,
   "id": "d31ba89c",
   "metadata": {},
   "outputs": [],
   "source": [
    "import os\n",
    "os.environ[\"TF_CPP_MIN_LOG_LEVEL\"] = \"3\"\n",
    "import tensorflow as tf\n",
    "import tensorflow_quantum as tfq"
   ]
  },
  {
   "cell_type": "markdown",
   "id": "d1cacf28",
   "metadata": {},
   "source": [
    "### Задача\n",
    "\n",
    "Давайте попробуем решить игрушечную задачку классификации простой гибридной квантово-классической нейронной сетью. У нас будет один квантовый слой и один классический слой. В качестве задачи сгенерируем простенький набор данных, используя рутины `scikit-learn`. Сразу переведем входящие признаки в диапазон от нуля до $\\pi$."
   ]
  },
  {
   "cell_type": "code",
   "execution_count": null,
   "id": "c90fa965",
   "metadata": {},
   "outputs": [],
   "source": [
    "from sklearn.datasets import make_classification\n",
    "import numpy as np\n",
    "\n",
    "x, y = make_classification(n_samples=50, n_features=2, n_informative=2, random_state=42, n_redundant=0)\n",
    "\n",
    "def normalize(x):\n",
    "    x_min = x.min()\n",
    "    x_max = x.max()\n",
    "\n",
    "    return np.pi * (x - x_min) / (x_max - x_min)\n",
    "\n",
    "x[:, 0] = normalize(x[:, 0])\n",
    "x[:, 1] = normalize(x[:, 1])"
   ]
  },
  {
   "cell_type": "markdown",
   "id": "b1e152e8",
   "metadata": {},
   "source": [
    "Посмотрим на эти данные:"
   ]
  },
  {
   "cell_type": "code",
   "execution_count": null,
   "id": "f5b1ff0a",
   "metadata": {},
   "outputs": [],
   "source": [
    "import matplotlib.pyplot as plt\n",
    "\n",
    "plt.figure(figsize=(6, 4))\n",
    "cb = plt.scatter(x[:, 0], x[:, 1], c=y)\n",
    "plt.colorbar(cb)\n",
    "plt.show()"
   ]
  },
  {
   "cell_type": "markdown",
   "id": "d1ee5aa3",
   "metadata": {},
   "source": [
    "### Кубиты\n",
    "\n",
    "`Tensorflow Quantum` позволяет \"превращать\" параметризированные схемы `Cirq` в слои нейронных сетей `Tensorflow`. Но для начала нам все равно потребуется схема. Давайте объявим пару кубитов."
   ]
  },
  {
   "cell_type": "code",
   "execution_count": null,
   "id": "94902cce",
   "metadata": {},
   "outputs": [],
   "source": [
    "qubits = [cirq.GridQubit(0, 0), cirq.GridQubit(0, 1)]\n",
    "print(qubits)"
   ]
  },
  {
   "cell_type": "markdown",
   "id": "cb4ce18d",
   "metadata": {},
   "source": [
    "### Входной слой нейронной сети\n",
    "\n",
    "Определим входной слой, который будет кодировать наши классические данные в квантовые. Сразу закодируем данные. Так как `Tensorflow` работает с тензорами, то нам необходимо будет преобразовать схемы в тензор. Для этого есть специальная функция `convert_to_tensor`."
   ]
  },
  {
   "cell_type": "code",
   "execution_count": null,
   "id": "a5696748",
   "metadata": {},
   "outputs": [],
   "source": [
    "def data2circuit(x):\n",
    "    input_circuit = cirq.Circuit()\n",
    "\n",
    "    input_circuit.append(cirq.Ry(rads=x[0]).on(qubits[0]))\n",
    "    input_circuit.append(cirq.Ry(rads=x[1]).on(qubits[1]))\n",
    "\n",
    "    return input_circuit\n",
    "\n",
    "x_input = tfq.convert_to_tensor([data2circuit(xi) for xi in x])"
   ]
  },
  {
   "cell_type": "markdown",
   "id": "ffc976e9",
   "metadata": {},
   "source": [
    "### Слой из параметризованной схемы\n",
    "\n",
    "Для создания параметризованных схем в `Tensorflow Quantum` используются символы из библиотеки символьных вычислений [`sympy`](https://www.sympy.org/en/index.html). Давайте объявим несколько параметров и создадим схему:"
   ]
  },
  {
   "cell_type": "code",
   "execution_count": null,
   "id": "e9536a6f",
   "metadata": {},
   "outputs": [],
   "source": [
    "from sympy import symbols\n",
    "\n",
    "params = symbols(\"w1, w2, w3, w4\")\n",
    "\n",
    "trainable_circuit = cirq.Circuit()\n",
    "\n",
    "trainable_circuit.append(cirq.H.on(qubits[0]))\n",
    "trainable_circuit.append(cirq.H.on(qubits[1]))\n",
    "trainable_circuit.append(cirq.Ry(rads=params[0]).on(qubits[0]))\n",
    "trainable_circuit.append(cirq.Ry(rads=params[1]).on(qubits[1]))\n",
    "\n",
    "trainable_circuit.append(cirq.CNOT.on(qubits[0], qubits[1]))\n",
    "\n",
    "trainable_circuit.append(cirq.H.on(qubits[0]))\n",
    "trainable_circuit.append(cirq.H.on(qubits[1]))\n",
    "trainable_circuit.append(cirq.Rx(rads=params[2]).on(qubits[0]))\n",
    "trainable_circuit.append(cirq.Rx(rads=params[3]).on(qubits[1]))\n",
    "\n",
    "trainable_circuit.append(cirq.CNOT.on(qubits[0], qubits[1]))\n",
    "\n",
    "print(trainable_circuit)"
   ]
  },
  {
   "cell_type": "markdown",
   "id": "f4bc412e",
   "metadata": {},
   "source": [
    "### Наблюдаемые\n",
    "\n",
    "В качестве операторов, которые мы будем измерять, воспользуемся парой $\\hat{XY}$ и $\\hat{YX}$ для наших кубитов:"
   ]
  },
  {
   "cell_type": "code",
   "execution_count": null,
   "id": "825e79d8",
   "metadata": {},
   "outputs": [],
   "source": [
    "ops = [cirq.X.on(qubits[0]) * cirq.Y.on(qubits[1]), cirq.Y.on(qubits[0]) * cirq.X.on(qubits[1])]"
   ]
  },
  {
   "cell_type": "markdown",
   "id": "9e9cf3cc",
   "metadata": {},
   "source": [
    "### Гибридная нейронная сеть\n",
    "\n",
    "Теперь воспользуемся классическим `Tensorflow`, чтобы объявить и скомпилировать нашу нейронную сеть, предварительно добавив в нее один классический слой.\n",
    "\n",
    "- зафиксируем случайный генератор"
   ]
  },
  {
   "cell_type": "code",
   "execution_count": null,
   "id": "80e32a14",
   "metadata": {},
   "outputs": [],
   "source": [
    "tf.random.set_seed(42)"
   ]
  },
  {
   "cell_type": "markdown",
   "id": "8b502e2c",
   "metadata": {},
   "source": [
    "- входной тензор -- это в нашем случае тензор типа `string`, так как это квантовые схемы"
   ]
  },
  {
   "cell_type": "code",
   "execution_count": null,
   "id": "9870e9d3",
   "metadata": {},
   "outputs": [],
   "source": [
    "cirq_inputs = tf.keras.Input(shape=(), dtype=tf.dtypes.string)"
   ]
  },
  {
   "cell_type": "markdown",
   "id": "9c8a9f4d",
   "metadata": {},
   "source": [
    "- квантовый слой"
   ]
  },
  {
   "cell_type": "code",
   "execution_count": null,
   "id": "4b6d7c15",
   "metadata": {},
   "outputs": [],
   "source": [
    "quantum_layer = tfq.layers.PQC(trainable_circuit, ops)(cirq_inputs)"
   ]
  },
  {
   "cell_type": "markdown",
   "id": "c3522b1b",
   "metadata": {},
   "source": [
    "- классический слой и выходной слой"
   ]
  },
  {
   "cell_type": "code",
   "execution_count": null,
   "id": "3d02e27a",
   "metadata": {},
   "outputs": [],
   "source": [
    "dense_layer = tf.keras.layers.Dense(2, activation=\"relu\")(quantum_layer)\n",
    "output_layer = tf.keras.layers.Dense(1, activation=\"sigmoid\")(dense_layer)"
   ]
  },
  {
   "cell_type": "markdown",
   "id": "93a34897",
   "metadata": {},
   "source": [
    "- компилируем модель и смотрим, что получилось. И сразу указываем метрики, которые хотим отслеживать"
   ]
  },
  {
   "cell_type": "code",
   "execution_count": null,
   "id": "f373cb54",
   "metadata": {},
   "outputs": [],
   "source": [
    "model = tf.keras.Model(inputs=cirq_inputs, outputs=output_layer)\n",
    "model.compile(\n",
    "    optimizer=tf.keras.optimizers.SGD(learning_rate=0.1),\n",
    "    loss=tf.keras.losses.BinaryCrossentropy(),\n",
    "    metrics=[\n",
    "        tf.keras.metrics.BinaryAccuracy(),\n",
    "        tf.keras.metrics.BinaryCrossentropy(),\n",
    "    ]\n",
    ")\n",
    "model.summary()"
   ]
  },
  {
   "cell_type": "markdown",
   "id": "7beab8e6",
   "metadata": {},
   "source": [
    "### Предсказания со случайной инициализацией\n",
    "\n",
    "Наша нейросеть имеет случайные начальные параметры. Давайте посмотрим, что она предсказывает до обучения:"
   ]
  },
  {
   "cell_type": "code",
   "execution_count": null,
   "id": "1e85fc2e",
   "metadata": {},
   "outputs": [],
   "source": [
    "preds = model(x_input).numpy()\n",
    "\n",
    "plt.figure(figsize=(6, 4))\n",
    "cb = plt.scatter(x[:, 0], x[:, 1], c=preds)\n",
    "plt.colorbar(cb)\n",
    "plt.show()"
   ]
  },
  {
   "cell_type": "markdown",
   "id": "18c07089",
   "metadata": {},
   "source": [
    "### Обучение сети\n",
    "\n",
    "- запустим обучение"
   ]
  },
  {
   "cell_type": "code",
   "execution_count": null,
   "id": "a4582092",
   "metadata": {},
   "outputs": [],
   "source": [
    "%%time\n",
    "model.fit(x=x_input, y=y, epochs=200, verbose=0)"
   ]
  },
  {
   "cell_type": "markdown",
   "id": "5cf2c261",
   "metadata": {},
   "source": [
    "- визуализируем логи обучения"
   ]
  },
  {
   "cell_type": "code",
   "execution_count": null,
   "id": "93c46804",
   "metadata": {},
   "outputs": [],
   "source": [
    "f, ax = plt.subplots(2, figsize=(6, 6))\n",
    "ax[0].plot(model.history.history[\"binary_accuracy\"])\n",
    "ax[1].plot(model.history.history[\"binary_crossentropy\"])\n",
    "plt.show()"
   ]
  },
  {
   "cell_type": "markdown",
   "id": "25f35a53",
   "metadata": {},
   "source": [
    "- визуализируем предсказания"
   ]
  },
  {
   "cell_type": "code",
   "execution_count": null,
   "id": "7487bd8f",
   "metadata": {},
   "outputs": [],
   "source": [
    "preds_after_training = model(x_input).numpy()\n",
    "plt.figure(figsize=(6, 4))\n",
    "\n",
    "cb = plt.scatter(x[:, 0], x[:, 1], c=preds_after_training)\n",
    "plt.colorbar(cb)\n",
    "plt.show()"
   ]
  },
  {
   "cell_type": "markdown",
   "id": "adb5f77c",
   "metadata": {},
   "source": [
    "## Заключение\n",
    "\n",
    "В данной лекции мы познакомились с фреймворком `Tensorflow Quantum`. Это достаточно мощный инструмент, особенно в связке с `Tensorflow`, так как позволяет использовать большое число готовых методов `Tensorflow` и различных расширений. Тем не менее, для целей обучения `Tensorflow Quantum` кажется не лучшим выбором, так как имеет много неочевидного синтаксиса и предполагает, как минимум, среднего знания `Tensorflow`. Во всех дальнейших лекциях мы будем использовать в основном библиотеку `PennyLane`."
   ]
  }
 ],
 "metadata": {
  "jupytext": {
   "formats": "md:myst",
   "text_representation": {
    "extension": ".md",
    "format_name": "myst"
   }
  },
  "kernelspec": {
   "display_name": "Python 3",
   "language": "python",
   "name": "python3"
  },
  "source_map": [
   11,
   46,
   48,
   61,
   63,
   67,
   72,
   78,
   80,
   84,
   88,
   96,
   98,
   108,
   113,
   119,
   133,
   137,
   144,
   150,
   153,
   159,
   169,
   175,
   197,
   203,
   205,
   213,
   215,
   219,
   221,
   225,
   227,
   231,
   234,
   238,
   249,
   255,
   262,
   268,
   271,
   275,
   280,
   284,
   291
  ]
 },
 "nbformat": 4,
 "nbformat_minor": 5
}