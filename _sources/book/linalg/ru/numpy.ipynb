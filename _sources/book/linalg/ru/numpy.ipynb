{
 "cells": [
  {
   "cell_type": "markdown",
   "id": "432ac977",
   "metadata": {},
   "source": [
    "(numpy)=\n",
    "# Numpy\n",
    "\n",
    "Автор(ы):\n",
    "\n",
    "- [Лукьяненко Андрей](https://github.com/Erlemar)\n",
    "\n",
    "\n",
    "`Numpy` -- это широко используемая библиотека для вычислений с многомерными массивами. API большей частью вдохновлен `MATLAB` (великая и ужасная среда, язык и IDE для матричных вычислений), а теперь сам является примером для подражания API различных вычислительных пакетов.\n",
    "Более последовательный гайд стоит посмотреть на [сайте библиотеки](https://numpy.org/devdocs/user)."
   ]
  },
  {
   "cell_type": "code",
   "execution_count": null,
   "id": "03ee76cc",
   "metadata": {},
   "outputs": [],
   "source": [
    "import iplantuml\n",
    "\n",
    "%%plantuml \n",
    "\n",
    "@startuml\n",
    "Alice -> Bob: Authentication Request\n",
    "Bob --> Alice: Authentication Response\n",
    "@enduml "
   ]
  },
  {
   "cell_type": "markdown",
   "id": "a635145a",
   "metadata": {},
   "source": [
    "## Массивы"
   ]
  },
  {
   "cell_type": "code",
   "execution_count": null,
   "id": "c85318ce",
   "metadata": {},
   "outputs": [],
   "source": [
    "import numpy as np\n",
    "\n",
    "a = np.array([1, 2, 3]) # создадим вектор\n",
    "print(f\"{a = }\")\n",
    "\n",
    "b = np.zeros((2, 2))\n",
    "print(f\"{b = }\")\n",
    "\n",
    "c = np.eye(3)\n",
    "print(f\"{c = }\")\n",
    "\n",
    "q = np.random.random((1, 20))\n",
    "print(f\"{q = }\")"
   ]
  },
  {
   "cell_type": "markdown",
   "id": "694b8b2b",
   "metadata": {},
   "source": [
    "## Арифметические операции\n",
    "Для удобства использования `np.ndarray` арифметические операторы определены так, чтобы соответствовать ожиданиям:"
   ]
  },
  {
   "cell_type": "code",
   "execution_count": null,
   "id": "ab913787",
   "metadata": {},
   "outputs": [],
   "source": [
    "a = np.array([1, 2, 3])\n",
    "b = np.array([-1, 3, 4])\n",
    "\n",
    "diff = a - b\n",
    "print(f\"{diff = }\")\n",
    "\n",
    "mult = a * b\n",
    "print(f\"{mult = }\")\n",
    "\n",
    "scalar_mult = a @ b\n",
    "print(f\"{scalar_mult = }\")"
   ]
  },
  {
   "cell_type": "markdown",
   "id": "61315057",
   "metadata": {},
   "source": [
    "## Indexing, slicing and sugar\n",
    "\n",
    "`Numpy` поддерживает, кажется, все разумные варианты индексации:"
   ]
  },
  {
   "cell_type": "code",
   "execution_count": null,
   "id": "7ecbc771",
   "metadata": {},
   "outputs": [],
   "source": [
    "a = np.arange(16).reshape(4, 4)\n",
    "print(f\"{a = }\")\n",
    "\n",
    "# просто по индексам\n",
    "print(f\"\\n{a[0, 1] = }\")\n",
    "print(f\"{a[0][1] = }\")\n",
    "\n",
    "# по слайсам\n",
    "print(f\"\\n{a[0, 1:3] = }\")\n",
    "print(f\"{a[2] = }\")\n",
    "print(f\"{a[2, :] = }\")\n",
    "print(f\"{a[2, ...] = }\")\n",
    "\n",
    "# по маске\n",
    "mask = (a % 3 == 0)\n",
    "print(f\"\\n{mask = }\")\n",
    "print(f\"{a[mask] = }\")\n",
    "\n",
    "first_rows = np.array([True, True, False, False])\n",
    "print(f\"\\n{a[first_rows] = }\")"
   ]
  },
  {
   "cell_type": "markdown",
   "id": "c0332a45",
   "metadata": {},
   "source": [
    "Для работы с размерностями часто используются еще три конструкции: `None`, `...` (ellipsis, многоточие) и `:` (двоеточие)."
   ]
  },
  {
   "cell_type": "code",
   "execution_count": null,
   "id": "989ac69d",
   "metadata": {},
   "outputs": [],
   "source": [
    "a = np.arange(16).reshape(4, 4)\n",
    "print(f\"{a = }\")\n",
    "\n",
    "# None добавляет ось размерности 1\n",
    "print(f\"\\n{a[None].shape = }\")\n",
    "print(f\"{a[:, :, None].shape = }\")\n",
    "\n",
    "# : превращается в slice (None), берет все элементы вдоль размерности\n",
    "print(f\"\\n{a[2, :] = }\")\n",
    "print(f\"{a[2, 0:None] = }\")\n",
    "\n",
    "# ... ellipsis, превращается в необходимое число двоеточий :,:,:\n",
    "print(f\"\\n{a[...] = }\")\n",
    "\n",
    "# также ... удобен когда мы не знаем настоящий шейп массива или нужно не трогать несколько подряд идущих размерностей\n",
    "z = np.arange(27).reshape(3, 3, 3)\n",
    "print(f\"\\n{z[0, ..., 1] = }\")\n",
    "print(f\"{z[0, :, 1] = }\")"
   ]
  },
  {
   "cell_type": "markdown",
   "id": "a71338ed",
   "metadata": {},
   "source": [
    "В целом в `NumPy` очень здорово реализованы методы `__getitem__`/`__setitem__`."
   ]
  },
  {
   "cell_type": "code",
   "execution_count": null,
   "id": "c77c8dbb",
   "metadata": {},
   "outputs": [],
   "source": [
    "a = np.array([1, 2, 3])\n",
    "element = a[2]\n",
    "print(f\"{element = }\")\n",
    "\n",
    "a[2] = 5\n",
    "print(f\"{a = }\")"
   ]
  },
  {
   "cell_type": "markdown",
   "id": "8cda2a3a",
   "metadata": {},
   "source": [
    "Кроме того, мы можем делать индексацию по заданному условию с помощью `np.where`."
   ]
  },
  {
   "cell_type": "code",
   "execution_count": null,
   "id": "01d737e2",
   "metadata": {},
   "outputs": [],
   "source": [
    "# создадим вектор\n",
    "a = np.array([2, 4, 6, 8])\n",
    "\n",
    "selection = np.where(a < 5)\n",
    "print(f\"{selection = }\")\n",
    "\n",
    "# дополнительно можем передать два значения или вектора, при выполнении условия выбираются элементы из первого значения/вектора, при невыполнении -- из второго\n",
    "a2 = np.where(a < 5, 2, a * 2)\n",
    "print(f\"{a2 = }\")\n",
    "\n",
    "# np.where работает и с многомерными массивами\n",
    "b = np.array([[8, 8, 2, 6], [0, 5, 3, 4]])\n",
    "b_mult = np.where(b < 4, b, 1)\n",
    "print(f\"{b_mult = }\")"
   ]
  },
  {
   "cell_type": "markdown",
   "id": "8cf07430",
   "metadata": {},
   "source": [
    "## Broadcasting\n",
    "\n",
    "Что происходит, если мы хотим производить арифметические операции с массивами разных размеров?"
   ]
  },
  {
   "cell_type": "code",
   "execution_count": null,
   "id": "3ea1f26d",
   "metadata": {},
   "outputs": [],
   "source": [
    "a = np.array([1, 2, 3])\n",
    "k = 2\n",
    "broad = a * k\n",
    "print(f\"{broad = }\")"
   ]
  },
  {
   "cell_type": "markdown",
   "id": "658aca7d",
   "metadata": {},
   "source": [
    "С точки зрения математики, ничего интересного тут не происходит: мы подразумевали умножение всего вектора на скаляр. Однако матричные операции в numpy справляются и с менее очевидными случаями, например, при сложении или вычитании вектора и скаляра:"
   ]
  },
  {
   "cell_type": "code",
   "execution_count": null,
   "id": "daa17054",
   "metadata": {},
   "outputs": [],
   "source": [
    "a = np.array([1, 2, 3])\n",
    "k = 2\n",
    "broad = a - k\n",
    "print(broad)"
   ]
  },
  {
   "cell_type": "markdown",
   "id": "c488136e",
   "metadata": {},
   "source": [
    "В numpy приняты следующие правила работы с массивами разного размера:\n",
    "1. размерности сравниваются справа налево;\n",
    "2. два массива совместимы в размерности, если она одинаковая, либо у одного из массивов единичная;\n",
    "3. вдоль отсутствующих размерностей происходит расширение повторением (`np.repeat`).\n",
    "\n",
    "```{figure} /_static/linalg/ru/numpy_work_with_arrays.png\n",
    ":name: numpy_work_with_arrays\n",
    "```\n",
    "\n",
    "```{attention} Be aware\n",
    "Автоматический броадкастинг легко приводит к ошибкам, так что лучше делать его самостоятельно в явной форме.\n",
    "```\n",
    "\n",
    "## Операции с плавающей точкой\n",
    "\n",
    "Отдельно стоит поговорить про числа с плавающей точкой.\n",
    "Число с плавающей точкой (или число с плавающей запятой) -- экспоненциальная форма представления вещественных (действительных) чисел, в которой число хранится в виде мантиссы и порядка (показателя степени). При этом число с плавающей точкой имеет фиксированную относительную точность и изменяющуюся абсолютную.\n",
    "В результате одно и то же значение может выглядеть по-разному, если хранить его с разной точностью."
   ]
  },
  {
   "cell_type": "code",
   "execution_count": null,
   "id": "30fc3d89",
   "metadata": {},
   "outputs": [],
   "source": [
    "f16 = np.float16(\"0.1\")\n",
    "f32 = np.float32(f16)\n",
    "f64 = np.float64(f32)\n",
    "print(f\"{f16 = }, {f32 = }, {f64 = }\")\n",
    "print(f\"{f16 == f32 == f64 = }\")\n",
    "\n",
    "f16 = np.float16(\"0.1\")\n",
    "f32 = np.float32(\"0.1\")\n",
    "f64 = np.float64(\"0.1\")\n",
    "print(f\"{f16 = }, {f32 = }, {f64 = }\")\n",
    "print(f\"{f16 == f32 == f64 = }\")"
   ]
  },
  {
   "cell_type": "markdown",
   "id": "f15b7785",
   "metadata": {},
   "source": [
    "Из-за этого для сравнения массивов с типом float используют `np.allclose`."
   ]
  },
  {
   "cell_type": "code",
   "execution_count": null,
   "id": "172d3579",
   "metadata": {},
   "outputs": [],
   "source": [
    "print(f\"{np.allclose([1e10,1e-7], [1.00001e10,1e-8]) = }\")\n",
    "print(f\"{np.allclose([1e10,1e-8], [1.00001e10,1e-9]) = }\")"
   ]
  },
  {
   "cell_type": "markdown",
   "id": "5f209acf",
   "metadata": {},
   "source": [
    "## NumPy и линейная алгебра\n",
    "\n",
    "В `Numpy` много удобных функций, которые позволяют упростить код. Приведем несколько примеров:"
   ]
  },
  {
   "cell_type": "code",
   "execution_count": null,
   "id": "ee47a2a1",
   "metadata": {},
   "outputs": [],
   "source": [
    "# матрица с единицами по диагонали и с нулями в остальных ячейках\n",
    "print(f\"{np.eye(2, dtype=int) = }\")\n",
    "# есть возможность указать индекс диагонали\n",
    "print(f\"{np.eye(3, k=-1, dtype=int) = }\")\n",
    "\n",
    "# в Numpy есть свой генератор случайных чисел и векторов\n",
    "print(f\"{np.random.beta(1, 2) = }\")\n",
    "print(f\"{np.random.randint(1, 5, (2, 3)) = }\")\n",
    "\n",
    "# Numpy позволяет заменить значений основной диагонали матрицы.\n",
    "# внимание, эта функция работает in-place\n",
    "a = np.random.randint(1, 5, (3, 3))\n",
    "print(f\"{a = }\")\n",
    "np.fill_diagonal(a, 4)\n",
    "print(f\"{a = }\")\n",
    "\n",
    "# Можно сделать и наоборот -- получить вектор значений диагонали матрица\n",
    "print(f\"{np.diag(a) = }\")"
   ]
  },
  {
   "cell_type": "markdown",
   "id": "aae03c88",
   "metadata": {},
   "source": [
    "### Решение систем линейных уравнений\n",
    "\n",
    "`Numpy` позволяет решить систему линейных уравнений."
   ]
  },
  {
   "cell_type": "code",
   "execution_count": null,
   "id": "0f362745",
   "metadata": {},
   "outputs": [],
   "source": [
    "a = np.array([[7, 4], [9, 8]])\n",
    "b = np.array([5, 3])\n",
    "solution = np.linalg.solve(a, b)\n",
    "print(solution)"
   ]
  },
  {
   "cell_type": "markdown",
   "id": "2cc94f80",
   "metadata": {},
   "source": [
    "### Обращение матриц\n",
    "\n",
    "`Numpy` дает возможность выполнить операцию обращения матриц."
   ]
  },
  {
   "cell_type": "code",
   "execution_count": null,
   "id": "fbb621d6",
   "metadata": {},
   "outputs": [],
   "source": [
    "a = np.array([[1., 2.], [3., 4.]])\n",
    "inv = np.linalg.inv(a)\n",
    "print(inv)"
   ]
  },
  {
   "cell_type": "markdown",
   "id": "8d4f7e5b",
   "metadata": {},
   "source": [
    "### Собственные вектора и числа\n",
    "\n",
    "Вычисление собственных векторов и чисел."
   ]
  },
  {
   "cell_type": "code",
   "execution_count": null,
   "id": "78c5f560",
   "metadata": {},
   "outputs": [],
   "source": [
    "print(np.linalg.eig(np.diag((1, 2, 3))))"
   ]
  },
  {
   "cell_type": "markdown",
   "id": "e0f8bebd",
   "metadata": {},
   "source": [
    "## Мы вкратце рассмотрели\n",
    "\n",
    "- основы работы с `NumPy`;\n",
    "- индексацию в массивах;\n",
    "- broadcasting массивов `NumPy`;\n",
    "- операции с плавающей точкой;\n",
    "- `NumPy` и примитивы линейной алгебры."
   ]
  }
 ],
 "metadata": {
  "jupytext": {
   "formats": "md:myst",
   "text_representation": {
    "extension": ".md",
    "format_name": "myst"
   }
  },
  "kernelspec": {
   "display_name": "Python 3",
   "language": "python",
   "name": "python3"
  },
  "source_map": [
   11,
   24,
   33,
   37,
   51,
   56,
   68,
   74,
   95,
   99,
   118,
   122,
   129,
   133,
   148,
   154,
   159,
   163,
   168,
   189,
   201,
   205,
   208,
   214,
   233,
   239,
   244,
   250,
   254,
   260,
   262
  ]
 },
 "nbformat": 4,
 "nbformat_minor": 5
}