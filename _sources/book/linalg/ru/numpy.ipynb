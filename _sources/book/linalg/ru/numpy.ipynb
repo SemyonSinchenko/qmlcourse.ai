{
 "cells": [
  {
   "cell_type": "markdown",
   "id": "5573ba99",
   "metadata": {},
   "source": [
    "(numpy)=\n",
    "# Numpy\n",
    "\n",
    "Автор(ы):\n",
    "\n",
    "- [Лукьяненко Андрей](https://github.com/Erlemar)\n",
    "\n",
    "\n",
    "`Numpy` -- это широко используемая библиотека для вычислений с многомерными массивами. API большей частью вдохновлен `MATLAB` (великая и ужасная среда, язык и IDE для матричных вычислений), а теперь сам является примером для подражания API различных вычислительных пакетов.\n",
    "Более последовательный гайд стоит посмотреть на [сайте библиотеки](https://numpy.org/devdocs/user).\n",
    "\n",
    "## Массивы"
   ]
  },
  {
   "cell_type": "code",
   "execution_count": 1,
   "id": "058b0675",
   "metadata": {},
   "outputs": [
    {
     "name": "stdout",
     "output_type": "stream",
     "text": [
      "a = array([1, 2, 3])\n",
      "b = array([[0., 0.],\n",
      "       [0., 0.]])\n",
      "c = array([[1., 0., 0.],\n",
      "       [0., 1., 0.],\n",
      "       [0., 0., 1.]])\n",
      "q = array([[0.56692279, 0.73478599, 0.98965776, 0.23856607, 0.86740102,\n",
      "        0.89139086, 0.61913852, 0.92280687, 0.13122977, 0.09034443,\n",
      "        0.5099055 , 0.2738908 , 0.32347705, 0.01692442, 0.49638966,\n",
      "        0.6661025 , 0.1031339 , 0.45605634, 0.96323786, 0.94094501]])\n"
     ]
    }
   ],
   "source": [
    "import numpy as np\n",
    "\n",
    "a = np.array([1, 2, 3]) # создадим вектор\n",
    "print(f\"{a = }\")\n",
    "\n",
    "b = np.zeros((2, 2))\n",
    "print(f\"{b = }\")\n",
    "\n",
    "c = np.eye(3)\n",
    "print(f\"{c = }\")\n",
    "\n",
    "q = np.random.random((1, 20))\n",
    "print(f\"{q = }\")"
   ]
  },
  {
   "cell_type": "markdown",
   "id": "7630506a",
   "metadata": {},
   "source": [
    "## Арифметические операции\n",
    "Для удобства использования `np.ndarray` арифметические операторы определены так, чтобы соответствовать ожиданиям:"
   ]
  },
  {
   "cell_type": "code",
   "execution_count": 2,
   "id": "a269eda9",
   "metadata": {},
   "outputs": [
    {
     "name": "stdout",
     "output_type": "stream",
     "text": [
      "diff = array([ 2, -1, -1])\n",
      "mult = array([-1,  6, 12])\n",
      "scalar_mult = 17\n"
     ]
    }
   ],
   "source": [
    "a = np.array([1, 2, 3])\n",
    "b = np.array([-1, 3, 4])\n",
    "\n",
    "diff = a - b\n",
    "print(f\"{diff = }\")\n",
    "\n",
    "mult = a * b\n",
    "print(f\"{mult = }\")\n",
    "\n",
    "scalar_mult = a @ b\n",
    "print(f\"{scalar_mult = }\")"
   ]
  },
  {
   "cell_type": "markdown",
   "id": "1eb16b07",
   "metadata": {},
   "source": [
    "## Indexing, slicing and sugar\n",
    "\n",
    "`Numpy` поддерживает, кажется, все разумные варианты индексации:"
   ]
  },
  {
   "cell_type": "code",
   "execution_count": 3,
   "id": "68d10b08",
   "metadata": {},
   "outputs": [
    {
     "name": "stdout",
     "output_type": "stream",
     "text": [
      "a = array([[ 0,  1,  2,  3],\n",
      "       [ 4,  5,  6,  7],\n",
      "       [ 8,  9, 10, 11],\n",
      "       [12, 13, 14, 15]])\n",
      "\n",
      "a[0, 1] = 1\n",
      "a[0][1] = 1\n",
      "\n",
      "a[0, 1:3] = array([1, 2])\n",
      "a[2] = array([ 8,  9, 10, 11])\n",
      "a[2, :] = array([ 8,  9, 10, 11])\n",
      "a[2, ...] = array([ 8,  9, 10, 11])\n",
      "\n",
      "mask = array([[ True, False, False,  True],\n",
      "       [False, False,  True, False],\n",
      "       [False,  True, False, False],\n",
      "       [ True, False, False,  True]])\n",
      "a[mask] = array([ 0,  3,  6,  9, 12, 15])\n",
      "\n",
      "a[first_rows] = array([[0, 1, 2, 3],\n",
      "       [4, 5, 6, 7]])\n"
     ]
    }
   ],
   "source": [
    "a = np.arange(16).reshape(4, 4)\n",
    "print(f\"{a = }\")\n",
    "\n",
    "# просто по индексам\n",
    "print(f\"\\n{a[0, 1] = }\")\n",
    "print(f\"{a[0][1] = }\")\n",
    "\n",
    "# по слайсам\n",
    "print(f\"\\n{a[0, 1:3] = }\")\n",
    "print(f\"{a[2] = }\")\n",
    "print(f\"{a[2, :] = }\")\n",
    "print(f\"{a[2, ...] = }\")\n",
    "\n",
    "# по маске\n",
    "mask = (a % 3 == 0)\n",
    "print(f\"\\n{mask = }\")\n",
    "print(f\"{a[mask] = }\")\n",
    "\n",
    "first_rows = np.array([True, True, False, False])\n",
    "print(f\"\\n{a[first_rows] = }\")"
   ]
  },
  {
   "cell_type": "markdown",
   "id": "ddca9817",
   "metadata": {},
   "source": [
    "Для работы с размерностями часто используются еще три конструкции: `None`, `...` (ellipsis, многоточие) и `:` (двоеточие)."
   ]
  },
  {
   "cell_type": "code",
   "execution_count": 4,
   "id": "27024767",
   "metadata": {},
   "outputs": [
    {
     "name": "stdout",
     "output_type": "stream",
     "text": [
      "a = array([[ 0,  1,  2,  3],\n",
      "       [ 4,  5,  6,  7],\n",
      "       [ 8,  9, 10, 11],\n",
      "       [12, 13, 14, 15]])\n",
      "\n",
      "a[None].shape = (1, 4, 4)\n",
      "a[:, :, None].shape = (4, 4, 1)\n",
      "\n",
      "a[2, :] = array([ 8,  9, 10, 11])\n",
      "a[2, 0:None] = array([ 8,  9, 10, 11])\n",
      "\n",
      "a[...] = array([[ 0,  1,  2,  3],\n",
      "       [ 4,  5,  6,  7],\n",
      "       [ 8,  9, 10, 11],\n",
      "       [12, 13, 14, 15]])\n",
      "\n",
      "z[0, ..., 1] = array([1, 4, 7])\n",
      "z[0, :, 1] = array([1, 4, 7])\n"
     ]
    }
   ],
   "source": [
    "a = np.arange(16).reshape(4, 4)\n",
    "print(f\"{a = }\")\n",
    "\n",
    "# None добавляет ось размерности 1\n",
    "print(f\"\\n{a[None].shape = }\")\n",
    "print(f\"{a[:, :, None].shape = }\")\n",
    "\n",
    "# : превращается в slice (None), берет все элементы вдоль размерности\n",
    "print(f\"\\n{a[2, :] = }\")\n",
    "print(f\"{a[2, 0:None] = }\")\n",
    "\n",
    "# ... ellipsis, превращается в необходимое число двоеточий :,:,:\n",
    "print(f\"\\n{a[...] = }\")\n",
    "\n",
    "# также ... удобен когда мы не знаем настоящий шейп массива или нужно не трогать несколько подряд идущих размерностей\n",
    "z = np.arange(27).reshape(3, 3, 3)\n",
    "print(f\"\\n{z[0, ..., 1] = }\")\n",
    "print(f\"{z[0, :, 1] = }\")"
   ]
  },
  {
   "cell_type": "markdown",
   "id": "d40c6b09",
   "metadata": {},
   "source": [
    "В целом в `NumPy` очень здорово реализованы методы `__getitem__`/`__setitem__`."
   ]
  },
  {
   "cell_type": "code",
   "execution_count": 5,
   "id": "bfbb2f6b",
   "metadata": {},
   "outputs": [
    {
     "name": "stdout",
     "output_type": "stream",
     "text": [
      "element = 3\n",
      "a = array([1, 2, 5])\n"
     ]
    }
   ],
   "source": [
    "a = np.array([1, 2, 3])\n",
    "element = a[2]\n",
    "print(f\"{element = }\")\n",
    "\n",
    "a[2] = 5\n",
    "print(f\"{a = }\")"
   ]
  },
  {
   "cell_type": "markdown",
   "id": "ac925fd7",
   "metadata": {},
   "source": [
    "Кроме того, мы можем делать индексацию по заданному условию с помощью `np.where`."
   ]
  },
  {
   "cell_type": "code",
   "execution_count": 6,
   "id": "8e7829a7",
   "metadata": {},
   "outputs": [
    {
     "name": "stdout",
     "output_type": "stream",
     "text": [
      "selection = (array([0, 1]),)\n",
      "a2 = array([ 2,  2, 12, 16])\n",
      "b_mult = array([[1, 1, 2, 1],\n",
      "       [0, 1, 3, 1]])\n"
     ]
    }
   ],
   "source": [
    "# создадим вектор\n",
    "a = np.array([2, 4, 6, 8])\n",
    "\n",
    "selection = np.where(a < 5)\n",
    "print(f\"{selection = }\")\n",
    "\n",
    "# дополнительно можем передать два значения или вектора, при выполнении условия выбираются элементы из первого значения/вектора, при невыполнении -- из второго\n",
    "a2 = np.where(a < 5, 2, a * 2)\n",
    "print(f\"{a2 = }\")\n",
    "\n",
    "# np.where работает и с многомерными массивами\n",
    "b = np.array([[8, 8, 2, 6], [0, 5, 3, 4]])\n",
    "b_mult = np.where(b < 4, b, 1)\n",
    "print(f\"{b_mult = }\")"
   ]
  },
  {
   "cell_type": "markdown",
   "id": "f5fa797b",
   "metadata": {},
   "source": [
    "## Broadcasting\n",
    "\n",
    "Что происходит, если мы хотим производить арифметические операции с массивами разных размеров?"
   ]
  },
  {
   "cell_type": "code",
   "execution_count": 7,
   "id": "072c766e",
   "metadata": {},
   "outputs": [
    {
     "name": "stdout",
     "output_type": "stream",
     "text": [
      "broad = array([2, 4, 6])\n"
     ]
    }
   ],
   "source": [
    "a = np.array([1, 2, 3])\n",
    "k = 2\n",
    "broad = a * k\n",
    "print(f\"{broad = }\")"
   ]
  },
  {
   "cell_type": "markdown",
   "id": "0e7d1e3e",
   "metadata": {},
   "source": [
    "С точки зрения математики, ничего интересного тут не происходит: мы подразумевали умножение всего вектора на скаляр. Однако матричные операции в numpy справляются и с менее очевидными случаями, например, при сложении или вычитании вектора и скаляра:"
   ]
  },
  {
   "cell_type": "code",
   "execution_count": 8,
   "id": "9bdb5813",
   "metadata": {},
   "outputs": [
    {
     "name": "stdout",
     "output_type": "stream",
     "text": [
      "[-1  0  1]\n"
     ]
    }
   ],
   "source": [
    "a = np.array([1, 2, 3])\n",
    "k = 2\n",
    "broad = a - k\n",
    "print(broad)"
   ]
  },
  {
   "cell_type": "markdown",
   "id": "462da05b",
   "metadata": {},
   "source": [
    "В numpy приняты следующие правила работы с массивами разного размера:\n",
    "1. размерности сравниваются справа налево;\n",
    "2. два массива совместимы в размерности, если она одинаковая, либо у одного из массивов единичная;\n",
    "3. вдоль отсутствующих размерностей происходит расширение повторением (`np.repeat`).\n",
    "\n",
    "```{figure} /_static/linalg/ru/numpy_work_with_arrays.png\n",
    ":name: numpy_work_with_arrays\n",
    "```\n",
    "\n",
    "```{attention} Be aware\n",
    "Автоматический броадкастинг легко приводит к ошибкам, так что лучше делать его самостоятельно в явной форме.\n",
    "```\n",
    "\n",
    "## Операции с плавающей точкой\n",
    "\n",
    "Отдельно стоит поговорить про числа с плавающей точкой.\n",
    "Число с плавающей точкой (или число с плавающей запятой) -- экспоненциальная форма представления вещественных (действительных) чисел, в которой число хранится в виде мантиссы и порядка (показателя степени). При этом число с плавающей точкой имеет фиксированную относительную точность и изменяющуюся абсолютную.\n",
    "В результате одно и то же значение может выглядеть по-разному, если хранить его с разной точностью."
   ]
  },
  {
   "cell_type": "code",
   "execution_count": 9,
   "id": "7eb9fc58",
   "metadata": {},
   "outputs": [
    {
     "name": "stdout",
     "output_type": "stream",
     "text": [
      "f16 = 0.1, f32 = 0.099975586, f64 = 0.0999755859375\n",
      "f16 == f32 == f64 = True\n",
      "f16 = 0.1, f32 = 0.1, f64 = 0.1\n",
      "f16 == f32 == f64 = False\n"
     ]
    }
   ],
   "source": [
    "f16 = np.float16(\"0.1\")\n",
    "f32 = np.float32(f16)\n",
    "f64 = np.float64(f32)\n",
    "print(f\"{f16 = }, {f32 = }, {f64 = }\")\n",
    "print(f\"{f16 == f32 == f64 = }\")\n",
    "\n",
    "f16 = np.float16(\"0.1\")\n",
    "f32 = np.float32(\"0.1\")\n",
    "f64 = np.float64(\"0.1\")\n",
    "print(f\"{f16 = }, {f32 = }, {f64 = }\")\n",
    "print(f\"{f16 == f32 == f64 = }\")"
   ]
  },
  {
   "cell_type": "markdown",
   "id": "c67ff92e",
   "metadata": {},
   "source": [
    "Из-за этого для сравнения массивов с типом float используют `np.allclose`."
   ]
  },
  {
   "cell_type": "code",
   "execution_count": 10,
   "id": "aed454ab",
   "metadata": {},
   "outputs": [
    {
     "name": "stdout",
     "output_type": "stream",
     "text": [
      "np.allclose([1e10,1e-7], [1.00001e10,1e-8]) = False\n",
      "np.allclose([1e10,1e-8], [1.00001e10,1e-9]) = True\n"
     ]
    }
   ],
   "source": [
    "print(f\"{np.allclose([1e10,1e-7], [1.00001e10,1e-8]) = }\")\n",
    "print(f\"{np.allclose([1e10,1e-8], [1.00001e10,1e-9]) = }\")"
   ]
  },
  {
   "cell_type": "markdown",
   "id": "7507e406",
   "metadata": {},
   "source": [
    "## NumPy и линейная алгебра\n",
    "\n",
    "В `Numpy` много удобных функций, которые позволяют упростить код. Приведем несколько примеров:"
   ]
  },
  {
   "cell_type": "code",
   "execution_count": 11,
   "id": "6fe7f5d5",
   "metadata": {},
   "outputs": [
    {
     "name": "stdout",
     "output_type": "stream",
     "text": [
      "np.eye(2, dtype=int) = array([[1, 0],\n",
      "       [0, 1]])\n",
      "np.eye(3, k=-1, dtype=int) = array([[0, 0, 0],\n",
      "       [1, 0, 0],\n",
      "       [0, 1, 0]])\n",
      "np.random.beta(1, 2) = 0.1526522358560471\n",
      "np.random.randint(1, 5, (2, 3)) = array([[2, 2, 2],\n",
      "       [1, 3, 3]])\n",
      "a = array([[2, 1, 1],\n",
      "       [4, 3, 1],\n",
      "       [3, 2, 3]])\n",
      "a = array([[4, 1, 1],\n",
      "       [4, 4, 1],\n",
      "       [3, 2, 4]])\n",
      "np.diag(a) = array([4, 4, 4])\n"
     ]
    }
   ],
   "source": [
    "# матрица с единицами по диагонали и с нулями в остальных ячейках\n",
    "print(f\"{np.eye(2, dtype=int) = }\")\n",
    "# есть возможность указать индекс диагонали\n",
    "print(f\"{np.eye(3, k=-1, dtype=int) = }\")\n",
    "\n",
    "# в Numpy есть свой генератор случайных чисел и векторов\n",
    "print(f\"{np.random.beta(1, 2) = }\")\n",
    "print(f\"{np.random.randint(1, 5, (2, 3)) = }\")\n",
    "\n",
    "# Numpy позволяет заменить значений основной диагонали матрицы.\n",
    "# внимание, эта функция работает in-place\n",
    "a = np.random.randint(1, 5, (3, 3))\n",
    "print(f\"{a = }\")\n",
    "np.fill_diagonal(a, 4)\n",
    "print(f\"{a = }\")\n",
    "\n",
    "# Можно сделать и наоборот -- получить вектор значений диагонали матрица\n",
    "print(f\"{np.diag(a) = }\")"
   ]
  },
  {
   "cell_type": "markdown",
   "id": "50ba596a",
   "metadata": {},
   "source": [
    "### Решение систем линейных уравнений\n",
    "\n",
    "`Numpy` позволяет решить систему линейных уравнений."
   ]
  },
  {
   "cell_type": "code",
   "execution_count": 12,
   "id": "676a3712",
   "metadata": {},
   "outputs": [
    {
     "name": "stdout",
     "output_type": "stream",
     "text": [
      "[ 1.4 -1.2]\n"
     ]
    }
   ],
   "source": [
    "a = np.array([[7, 4], [9, 8]])\n",
    "b = np.array([5, 3])\n",
    "solution = np.linalg.solve(a, b)\n",
    "print(solution)"
   ]
  },
  {
   "cell_type": "markdown",
   "id": "bf41586e",
   "metadata": {},
   "source": [
    "### Обращение матриц\n",
    "\n",
    "`Numpy` дает возможность выполнить операцию обращения матриц."
   ]
  },
  {
   "cell_type": "code",
   "execution_count": 13,
   "id": "a6bbc9bd",
   "metadata": {},
   "outputs": [
    {
     "name": "stdout",
     "output_type": "stream",
     "text": [
      "[[-2.   1. ]\n",
      " [ 1.5 -0.5]]\n"
     ]
    }
   ],
   "source": [
    "a = np.array([[1., 2.], [3., 4.]])\n",
    "inv = np.linalg.inv(a)\n",
    "print(inv)"
   ]
  },
  {
   "cell_type": "markdown",
   "id": "3a240403",
   "metadata": {},
   "source": [
    "### Собственные вектора и числа\n",
    "\n",
    "Вычисление собственных векторов и чисел."
   ]
  },
  {
   "cell_type": "code",
   "execution_count": 14,
   "id": "1b36f506",
   "metadata": {},
   "outputs": [
    {
     "name": "stdout",
     "output_type": "stream",
     "text": [
      "(array([1., 2., 3.]), array([[1., 0., 0.],\n",
      "       [0., 1., 0.],\n",
      "       [0., 0., 1.]]))\n"
     ]
    }
   ],
   "source": [
    "print(np.linalg.eig(np.diag((1, 2, 3))))"
   ]
  },
  {
   "cell_type": "markdown",
   "id": "21e57bfd",
   "metadata": {},
   "source": [
    "## Мы вкратце рассмотрели\n",
    "\n",
    "- основы работы с `NumPy`;\n",
    "- индексацию в массивах;\n",
    "- broadcasting массивов `NumPy`;\n",
    "- операции с плавающей точкой;\n",
    "- `NumPy` и примитивы линейной алгебры."
   ]
  }
 ],
 "metadata": {
  "jupytext": {
   "formats": "md:myst",
   "text_representation": {
    "extension": ".md",
    "format_name": "myst"
   }
  },
  "kernelspec": {
   "display_name": "Python 3",
   "language": "python",
   "name": "python3"
  },
  "language_info": {
   "codemirror_mode": {
    "name": "ipython",
    "version": 3
   },
   "file_extension": ".py",
   "mimetype": "text/x-python",
   "name": "python",
   "nbconvert_exporter": "python",
   "pygments_lexer": "ipython3",
   "version": "3.8.10"
  },
  "source_map": [
   11,
   26,
   40,
   45,
   57,
   63,
   84,
   88,
   107,
   111,
   118,
   122,
   137,
   143,
   148,
   152,
   157,
   178,
   190,
   194,
   197,
   203,
   222,
   228,
   233,
   239,
   243,
   249,
   251
  ]
 },
 "nbformat": 4,
 "nbformat_minor": 5
}