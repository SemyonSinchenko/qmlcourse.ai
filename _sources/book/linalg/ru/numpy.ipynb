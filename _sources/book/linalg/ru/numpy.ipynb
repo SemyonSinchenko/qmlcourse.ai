{
 "cells": [
  {
   "cell_type": "markdown",
   "id": "df4f89e8",
   "metadata": {},
   "source": [
    "(numpy)=\n",
    "# Numpy\n",
    "\n",
    "Автор(ы):\n",
    "\n",
    "- [Лукьяненко Андрей](https://github.com/Erlemar)\n",
    "\n",
    "\n",
    "`Numpy` -- это широко используемая библиотека для вычислений с многомерными массивами. API большей частью вдохновлен `MATLAB` (великая и ужасная среда, язык и IDE для матричных вычислений), а теперь сам является примером для подражания API различных вычислительных пакетов.\n",
    "Более последовательный гайд стоит посмотреть на [сайте библиотеки](https://numpy.org/devdocs/user).\n",
    "\n",
    "## Массивы"
   ]
  },
  {
   "cell_type": "code",
   "execution_count": 1,
   "id": "9cbf0d5d",
   "metadata": {},
   "outputs": [
    {
     "name": "stdout",
     "output_type": "stream",
     "text": [
      "a = array([1, 2, 3])\n",
      "b = array([[0., 0.],\n",
      "       [0., 0.]])\n",
      "c = array([[1., 0., 0.],\n",
      "       [0., 1., 0.],\n",
      "       [0., 0., 1.]])\n",
      "q = array([[0.72400534, 0.32965255, 0.38604406, 0.67018728, 0.80378831,\n",
      "        0.2108848 , 0.20465036, 0.68412531, 0.63049952, 0.54656285,\n",
      "        0.26945949, 0.42387346, 0.26492008, 0.95361615, 0.3839465 ,\n",
      "        0.21397359, 0.94194299, 0.40343618, 0.94310213, 0.17435545]])\n"
     ]
    }
   ],
   "source": [
    "import numpy as np\n",
    "\n",
    "a = np.array([1, 2, 3]) # создадим вектор\n",
    "print(f\"{a = }\")\n",
    "\n",
    "b = np.zeros((2, 2))\n",
    "print(f\"{b = }\")\n",
    "\n",
    "c = np.eye(3)\n",
    "print(f\"{c = }\")\n",
    "\n",
    "q = np.random.random((1, 20))\n",
    "print(f\"{q = }\")"
   ]
  },
  {
   "cell_type": "markdown",
   "id": "f859fc11",
   "metadata": {},
   "source": [
    "## Арифметические операции\n",
    "Для удобства использования `np.ndarray` арифметические операторы определены так, чтобы соответствовать ожиданиям:"
   ]
  },
  {
   "cell_type": "code",
   "execution_count": 2,
   "id": "2c3fe116",
   "metadata": {},
   "outputs": [
    {
     "name": "stdout",
     "output_type": "stream",
     "text": [
      "diff = array([ 2, -1, -1])\n",
      "mult = array([-1,  6, 12])\n",
      "scalar_mult = 17\n"
     ]
    }
   ],
   "source": [
    "a = np.array([1, 2, 3])\n",
    "b = np.array([-1, 3, 4])\n",
    "\n",
    "diff = a - b\n",
    "print(f\"{diff = }\")\n",
    "\n",
    "mult = a * b\n",
    "print(f\"{mult = }\")\n",
    "\n",
    "scalar_mult = a @ b\n",
    "print(f\"{scalar_mult = }\")"
   ]
  },
  {
   "cell_type": "markdown",
   "id": "ff2b33d8",
   "metadata": {},
   "source": [
    "## Indexing, slicing and sugar\n",
    "\n",
    "`Numpy` поддерживает, кажется, все разумные варианты индексации:"
   ]
  },
  {
   "cell_type": "code",
   "execution_count": 3,
   "id": "d08b57ba",
   "metadata": {},
   "outputs": [
    {
     "name": "stdout",
     "output_type": "stream",
     "text": [
      "a = array([[ 0,  1,  2,  3],\n",
      "       [ 4,  5,  6,  7],\n",
      "       [ 8,  9, 10, 11],\n",
      "       [12, 13, 14, 15]])\n",
      "\n",
      "a[0, 1] = 1\n",
      "a[0][1] = 1\n",
      "\n",
      "a[0, 1:3] = array([1, 2])\n",
      "a[2] = array([ 8,  9, 10, 11])\n",
      "a[2, :] = array([ 8,  9, 10, 11])\n",
      "a[2, ...] = array([ 8,  9, 10, 11])\n",
      "\n",
      "mask = array([[ True, False, False,  True],\n",
      "       [False, False,  True, False],\n",
      "       [False,  True, False, False],\n",
      "       [ True, False, False,  True]])\n",
      "a[mask] = array([ 0,  3,  6,  9, 12, 15])\n",
      "\n",
      "a[first_rows] = array([[0, 1, 2, 3],\n",
      "       [4, 5, 6, 7]])\n"
     ]
    }
   ],
   "source": [
    "a = np.arange(16).reshape(4, 4)\n",
    "print(f\"{a = }\")\n",
    "\n",
    "# просто по индексам\n",
    "print(f\"\\n{a[0, 1] = }\")\n",
    "print(f\"{a[0][1] = }\")\n",
    "\n",
    "# по слайсам\n",
    "print(f\"\\n{a[0, 1:3] = }\")\n",
    "print(f\"{a[2] = }\")\n",
    "print(f\"{a[2, :] = }\")\n",
    "print(f\"{a[2, ...] = }\")\n",
    "\n",
    "# по маске\n",
    "mask = (a % 3 == 0)\n",
    "print(f\"\\n{mask = }\")\n",
    "print(f\"{a[mask] = }\")\n",
    "\n",
    "first_rows = np.array([True, True, False, False])\n",
    "print(f\"\\n{a[first_rows] = }\")"
   ]
  },
  {
   "cell_type": "markdown",
   "id": "09cc31c4",
   "metadata": {},
   "source": [
    "Для работы с размерностями часто используются еще три конструкции: `None`, `...` (ellipsis, многоточие) и `:` (двоеточие)."
   ]
  },
  {
   "cell_type": "code",
   "execution_count": 4,
   "id": "a7a63e06",
   "metadata": {},
   "outputs": [
    {
     "name": "stdout",
     "output_type": "stream",
     "text": [
      "a = array([[ 0,  1,  2,  3],\n",
      "       [ 4,  5,  6,  7],\n",
      "       [ 8,  9, 10, 11],\n",
      "       [12, 13, 14, 15]])\n",
      "\n",
      "a[None].shape = (1, 4, 4)\n",
      "a[:, :, None].shape = (4, 4, 1)\n",
      "\n",
      "a[2, :] = array([ 8,  9, 10, 11])\n",
      "a[2, 0:None] = array([ 8,  9, 10, 11])\n",
      "\n",
      "a[...] = array([[ 0,  1,  2,  3],\n",
      "       [ 4,  5,  6,  7],\n",
      "       [ 8,  9, 10, 11],\n",
      "       [12, 13, 14, 15]])\n",
      "\n",
      "z[0, ..., 1] = array([1, 4, 7])\n",
      "z[0, :, 1] = array([1, 4, 7])\n"
     ]
    }
   ],
   "source": [
    "a = np.arange(16).reshape(4, 4)\n",
    "print(f\"{a = }\")\n",
    "\n",
    "# None добавляет ось размерности 1\n",
    "print(f\"\\n{a[None].shape = }\")\n",
    "print(f\"{a[:, :, None].shape = }\")\n",
    "\n",
    "# : превращается в slice (None), берет все элементы вдоль размерности\n",
    "print(f\"\\n{a[2, :] = }\")\n",
    "print(f\"{a[2, 0:None] = }\")\n",
    "\n",
    "# ... ellipsis, превращается в необходимое число двоеточий :,:,:\n",
    "print(f\"\\n{a[...] = }\")\n",
    "\n",
    "# также ... удобен когда мы не знаем настоящий шейп массива или нужно не трогать несколько подряд идущих размерностей\n",
    "z = np.arange(27).reshape(3, 3, 3)\n",
    "print(f\"\\n{z[0, ..., 1] = }\")\n",
    "print(f\"{z[0, :, 1] = }\")"
   ]
  },
  {
   "cell_type": "markdown",
   "id": "fb42d4f4",
   "metadata": {},
   "source": [
    "В целом в `NumPy` очень здорово реализованы методы `__getitem__`/`__setitem__`."
   ]
  },
  {
   "cell_type": "code",
   "execution_count": 5,
   "id": "74e20863",
   "metadata": {},
   "outputs": [
    {
     "name": "stdout",
     "output_type": "stream",
     "text": [
      "element = 3\n",
      "a = array([1, 2, 5])\n"
     ]
    }
   ],
   "source": [
    "a = np.array([1, 2, 3])\n",
    "element = a[2]\n",
    "print(f\"{element = }\")\n",
    "\n",
    "a[2] = 5\n",
    "print(f\"{a = }\")"
   ]
  },
  {
   "cell_type": "markdown",
   "id": "afe55f37",
   "metadata": {},
   "source": [
    "Кроме того, мы можем делать индексацию по заданному условию с помощью `np.where`."
   ]
  },
  {
   "cell_type": "code",
   "execution_count": 6,
   "id": "fec52046",
   "metadata": {},
   "outputs": [
    {
     "name": "stdout",
     "output_type": "stream",
     "text": [
      "selection = (array([0, 1]),)\n",
      "a2 = array([ 2,  2, 12, 16])\n",
      "b_mult = array([[1, 1, 2, 1],\n",
      "       [0, 1, 3, 1]])\n"
     ]
    }
   ],
   "source": [
    "# создадим вектор\n",
    "a = np.array([2, 4, 6, 8])\n",
    "\n",
    "selection = np.where(a < 5)\n",
    "print(f\"{selection = }\")\n",
    "\n",
    "# дополнительно можем передать два значения или вектора, при выполнении условия выбираются элементы из первого значения/вектора, при невыполнении -- из второго\n",
    "a2 = np.where(a < 5, 2, a * 2)\n",
    "print(f\"{a2 = }\")\n",
    "\n",
    "# np.where работает и с многомерными массивами\n",
    "b = np.array([[8, 8, 2, 6], [0, 5, 3, 4]])\n",
    "b_mult = np.where(b < 4, b, 1)\n",
    "print(f\"{b_mult = }\")"
   ]
  },
  {
   "cell_type": "markdown",
   "id": "c00728fa",
   "metadata": {},
   "source": [
    "## Broadcasting\n",
    "\n",
    "Что происходит, если мы хотим производить арифметические операции с массивами разных размеров?"
   ]
  },
  {
   "cell_type": "code",
   "execution_count": 7,
   "id": "c22aa8e5",
   "metadata": {},
   "outputs": [
    {
     "name": "stdout",
     "output_type": "stream",
     "text": [
      "broad = array([2, 4, 6])\n"
     ]
    }
   ],
   "source": [
    "a = np.array([1, 2, 3])\n",
    "k = 2\n",
    "broad = a * k\n",
    "print(f\"{broad = }\")"
   ]
  },
  {
   "cell_type": "markdown",
   "id": "3a20f70f",
   "metadata": {},
   "source": [
    "С точки зрения математики, ничего интересного тут не происходит: мы подразумевали умножение всего вектора на скаляр. Однако матричные операции в numpy справляются и с менее очевидными случаями, например, при сложении или вычитании вектора и скаляра:"
   ]
  },
  {
   "cell_type": "code",
   "execution_count": 8,
   "id": "320c707a",
   "metadata": {},
   "outputs": [
    {
     "name": "stdout",
     "output_type": "stream",
     "text": [
      "[-1  0  1]\n"
     ]
    }
   ],
   "source": [
    "a = np.array([1, 2, 3])\n",
    "k = 2\n",
    "broad = a - k\n",
    "print(broad)"
   ]
  },
  {
   "cell_type": "markdown",
   "id": "50ff6fa6",
   "metadata": {},
   "source": [
    "В numpy приняты следующие правила работы с массивами разного размера:\n",
    "1. размерности сравниваются справа налево;\n",
    "2. два массива совместимы в размерности, если она одинаковая, либо у одного из массивов единичная;\n",
    "3. вдоль отсутствующих размерностей происходит расширение повторением (`np.repeat`).\n",
    "\n",
    "```{figure} /_static/linalg/ru/numpy_work_with_arrays.png\n",
    ":name: numpy_work_with_arrays\n",
    "```\n",
    "\n",
    "```{attention} Be aware\n",
    "Автоматический броадкастинг легко приводит к ошибкам, так что лучше делать его самостоятельно в явной форме.\n",
    "```\n",
    "\n",
    "## Операции с плавающей точкой\n",
    "\n",
    "Отдельно стоит поговорить про числа с плавающей точкой.\n",
    "Число с плавающей точкой (или число с плавающей запятой) -- экспоненциальная форма представления вещественных (действительных) чисел, в которой число хранится в виде мантиссы и порядка (показателя степени). При этом число с плавающей точкой имеет фиксированную относительную точность и изменяющуюся абсолютную.\n",
    "В результате одно и то же значение может выглядеть по-разному, если хранить его с разной точностью."
   ]
  },
  {
   "cell_type": "code",
   "execution_count": 9,
   "id": "af91f851",
   "metadata": {},
   "outputs": [
    {
     "name": "stdout",
     "output_type": "stream",
     "text": [
      "f16 = 0.1, f32 = 0.099975586, f64 = 0.0999755859375\n",
      "f16 == f32 == f64 = True\n",
      "f16 = 0.1, f32 = 0.1, f64 = 0.1\n",
      "f16 == f32 == f64 = False\n"
     ]
    }
   ],
   "source": [
    "f16 = np.float16(\"0.1\")\n",
    "f32 = np.float32(f16)\n",
    "f64 = np.float64(f32)\n",
    "print(f\"{f16 = }, {f32 = }, {f64 = }\")\n",
    "print(f\"{f16 == f32 == f64 = }\")\n",
    "\n",
    "f16 = np.float16(\"0.1\")\n",
    "f32 = np.float32(\"0.1\")\n",
    "f64 = np.float64(\"0.1\")\n",
    "print(f\"{f16 = }, {f32 = }, {f64 = }\")\n",
    "print(f\"{f16 == f32 == f64 = }\")"
   ]
  },
  {
   "cell_type": "markdown",
   "id": "fa619f5e",
   "metadata": {},
   "source": [
    "Из-за этого для сравнения массивов с типом float используют `np.allclose`."
   ]
  },
  {
   "cell_type": "code",
   "execution_count": 10,
   "id": "ff44c813",
   "metadata": {},
   "outputs": [
    {
     "name": "stdout",
     "output_type": "stream",
     "text": [
      "np.allclose([1e10,1e-7], [1.00001e10,1e-8]) = False\n",
      "np.allclose([1e10,1e-8], [1.00001e10,1e-9]) = True\n"
     ]
    }
   ],
   "source": [
    "print(f\"{np.allclose([1e10,1e-7], [1.00001e10,1e-8]) = }\")\n",
    "print(f\"{np.allclose([1e10,1e-8], [1.00001e10,1e-9]) = }\")"
   ]
  },
  {
   "cell_type": "markdown",
   "id": "04c2731d",
   "metadata": {},
   "source": [
    "## NumPy и линейная алгебра\n",
    "\n",
    "В `Numpy` много удобных функций, которые позволяют упростить код. Приведем несколько примеров:"
   ]
  },
  {
   "cell_type": "code",
   "execution_count": 11,
   "id": "0b8d83ed",
   "metadata": {},
   "outputs": [
    {
     "name": "stdout",
     "output_type": "stream",
     "text": [
      "np.eye(2, dtype=int) = array([[1, 0],\n",
      "       [0, 1]])\n",
      "np.eye(3, k=-1, dtype=int) = array([[0, 0, 0],\n",
      "       [1, 0, 0],\n",
      "       [0, 1, 0]])\n",
      "np.random.beta(1, 2) = 0.2151921338392879\n",
      "np.random.randint(1, 5, (2, 3)) = array([[1, 3, 2],\n",
      "       [1, 4, 3]])\n",
      "a = array([[2, 2, 3],\n",
      "       [3, 4, 2],\n",
      "       [2, 4, 2]])\n",
      "a = array([[4, 2, 3],\n",
      "       [3, 4, 2],\n",
      "       [2, 4, 4]])\n",
      "np.diag(a) = array([4, 4, 4])\n"
     ]
    }
   ],
   "source": [
    "# матрица с единицами по диагонали и с нулями в остальных ячейках\n",
    "print(f\"{np.eye(2, dtype=int) = }\")\n",
    "# есть возможность указать индекс диагонали\n",
    "print(f\"{np.eye(3, k=-1, dtype=int) = }\")\n",
    "\n",
    "# в Numpy есть свой генератор случайных чисел и векторов\n",
    "print(f\"{np.random.beta(1, 2) = }\")\n",
    "print(f\"{np.random.randint(1, 5, (2, 3)) = }\")\n",
    "\n",
    "# Numpy позволяет заменить значений основной диагонали матрицы.\n",
    "# внимание, эта функция работает in-place\n",
    "a = np.random.randint(1, 5, (3, 3))\n",
    "print(f\"{a = }\")\n",
    "np.fill_diagonal(a, 4)\n",
    "print(f\"{a = }\")\n",
    "\n",
    "# Можно сделать и наоборот -- получить вектор значений диагонали матрица\n",
    "print(f\"{np.diag(a) = }\")"
   ]
  },
  {
   "cell_type": "markdown",
   "id": "da65ed17",
   "metadata": {},
   "source": [
    "### Решение систем линейных уравнений\n",
    "\n",
    "`Numpy` позволяет решить систему линейных уравнений."
   ]
  },
  {
   "cell_type": "code",
   "execution_count": 12,
   "id": "121b2389",
   "metadata": {},
   "outputs": [
    {
     "name": "stdout",
     "output_type": "stream",
     "text": [
      "[ 1.4 -1.2]\n"
     ]
    }
   ],
   "source": [
    "a = np.array([[7, 4], [9, 8]])\n",
    "b = np.array([5, 3])\n",
    "solution = np.linalg.solve(a, b)\n",
    "print(solution)"
   ]
  },
  {
   "cell_type": "markdown",
   "id": "c11f651c",
   "metadata": {},
   "source": [
    "### Обращение матриц\n",
    "\n",
    "`Numpy` дает возможность выполнить операцию обращения матриц."
   ]
  },
  {
   "cell_type": "code",
   "execution_count": 13,
   "id": "40de3ccc",
   "metadata": {},
   "outputs": [
    {
     "name": "stdout",
     "output_type": "stream",
     "text": [
      "[[-2.   1. ]\n",
      " [ 1.5 -0.5]]\n"
     ]
    }
   ],
   "source": [
    "a = np.array([[1., 2.], [3., 4.]])\n",
    "inv = np.linalg.inv(a)\n",
    "print(inv)"
   ]
  },
  {
   "cell_type": "markdown",
   "id": "888ccf62",
   "metadata": {},
   "source": [
    "### Собственные вектора и числа\n",
    "\n",
    "Вычисление собственных векторов и чисел."
   ]
  },
  {
   "cell_type": "code",
   "execution_count": 14,
   "id": "e5d6b93a",
   "metadata": {},
   "outputs": [
    {
     "name": "stdout",
     "output_type": "stream",
     "text": [
      "(array([1., 2., 3.]), array([[1., 0., 0.],\n",
      "       [0., 1., 0.],\n",
      "       [0., 0., 1.]]))\n"
     ]
    }
   ],
   "source": [
    "print(np.linalg.eig(np.diag((1, 2, 3))))"
   ]
  },
  {
   "cell_type": "markdown",
   "id": "7073f6e3",
   "metadata": {},
   "source": [
    "## Мы вкратце рассмотрели\n",
    "\n",
    "- основы работы с `NumPy`;\n",
    "- индексацию в массивах;\n",
    "- broadcasting массивов `NumPy`;\n",
    "- операции с плавающей точкой;\n",
    "- `NumPy` и примитивы линейной алгебры."
   ]
  }
 ],
 "metadata": {
  "jupytext": {
   "formats": "md:myst",
   "text_representation": {
    "extension": ".md",
    "format_name": "myst"
   }
  },
  "kernelspec": {
   "display_name": "Python 3",
   "language": "python",
   "name": "python3"
  },
  "language_info": {
   "codemirror_mode": {
    "name": "ipython",
    "version": 3
   },
   "file_extension": ".py",
   "mimetype": "text/x-python",
   "name": "python",
   "nbconvert_exporter": "python",
   "pygments_lexer": "ipython3",
   "version": "3.8.16"
  },
  "source_map": [
   11,
   26,
   40,
   45,
   57,
   63,
   84,
   88,
   107,
   111,
   118,
   122,
   137,
   143,
   148,
   152,
   157,
   178,
   190,
   194,
   197,
   203,
   222,
   228,
   233,
   239,
   243,
   249,
   251
  ]
 },
 "nbformat": 4,
 "nbformat_minor": 5
}