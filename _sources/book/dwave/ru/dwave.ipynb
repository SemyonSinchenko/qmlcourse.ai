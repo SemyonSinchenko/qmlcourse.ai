{
 "cells": [
  {
   "cell_type": "markdown",
   "id": "720fcf67",
   "metadata": {},
   "source": [
    "(dwave)=\n",
    "\n",
    "# D-Wave: квантовый отжиг, оптимизация и семплинг\n",
    "\n",
    "Автор(ы):\n",
    "\n",
    "- [Березутский Александр](https://github.com/meandmytram)\n",
    "\n",
    "\n",
    "## Описание лекции\n",
    "\n",
    "В этой лекции рассмотрим квантовый отжигатель компании `D-Wave` и задачи, которые можно решать с его помощью. Заострим основное внимание на физике и алгоритмах, нежели на hardware-реализации этого устройства. Эта лекция основана на [официальной документации `D-Wave`](https://docs.dwavesys.com/).\n",
    "\n",
    "## Введение в квантовый отжиг\n",
    "\n",
    "На сегодняшний день, квантовый отжиг представляет собой отдельную модель квантовых вычислений, не связанную с так называемыми `Gate-Model` квантовыми вычислениями. Эта парадигма позволяет эффективно решать задачи комбинаторной оптимизации больших масштабов, представляющие большой интерес для многих областей науки и индустрии. Вкратце, в модели квантового отжига на физическую модель (коей является массив кубитов) отображаются параметры решаемой задачи, после чего кубиты адиабатически (достаточно медленно) переводятся в основное состояние, которое и кодирует в себе искомое решение. Давайте теперь разберем подробнее данный подход.\n",
    "\n",
    "## Задачи оптимизации и семплирования\n",
    "\n",
    "Квантовый отжигатель (`Quantum Annealing Processor`) в силу своей физической реализации приводит к решениям, соответствующим низкоэнергетическим состояниям физической системы. В то время как задачи оптимизации (`Optimization Problems`) требуют глобального минимума энергии, иногда хватает и семплов из состояний, близких к основным. Такие задачи называются задачами семплирования (`Probabilistic Sampling Problems`).\n",
    "\n",
    "Классическим примером задачи оптимизации в контексте квантового отжига является, например, [задача коммивояжера](../../problems/ru/copt.html#id7). Квантовая физика, в силу своей природы, может помогать решать такого рода задачи, так как они могут быть переформулированы в задачи дискретной минимизации энергии. Одно из основных правил физики состоит в том, что все физические системы стремятся к состояниям с минимальной энергией. Например, объекты скользят с холмов, горячие вещи со временем остывают и так далее. Этот принцип соблюдается и в мире квантовой физики. Квантовый отжиг просто использует квантовую физику для поиска низкоэнергетических состояний системы и, как следствие, оптимального или почти оптимального решения.\n",
    "\n",
    "В свою очередь, задачи семплирования, часто являющиеся вычислительно сложными (например, задача семплирования из ограниченной машины Больцмана), идеально подходят к квантовым отжигателям в случае когда необходимо построить вероятностную модель, а доступ к полному вероятностному распределению состояний не представляется возможным. Такая постановка задачи подходит например, чтобы обучить модель генерировать изображения рукописных цифр из знаменитого датасета `MNIST`. По этой теме можно послушать [доклад](https://ods.ai/tracks/quantum-computing-df2021/blocks/67a583ab-0dc6-4b4f-93c8-209aa1d352e1) Никиты Щуцкого \"Quantum-Classical Neural Networks in Computational Drug Design\", сделанный в рамках трека ODS по квантовым вычислениям.\n",
    "\n",
    "## Квантовая физика под капотом\n",
    "\n",
    "Как помним, квантовый гамильтониан является оператором, ставящим в соответствие собственным состояниям системы ее энергии. Множество собственных чисел гамильтониана называется его спектром. В квантовом отжигателе `D-Wave` гамильтониан имеет следующую форму:\n",
    "\n",
    "$$\n",
    "\\mathcal{H}_{Ising} =\n",
    "    A(t) \\cdot\n",
    "    \\underbrace{\n",
    "        \\left( -\\sum_{i} \\hat{\\sigma}_{x}^{(i)} \\right)\n",
    "    }_{\n",
    "        \\text{Initial Hamiltonian}\n",
    "    }\n",
    "    + B(t) \\cdot\n",
    "    \\underbrace{\n",
    "        \\left(\n",
    "            \\sum_{i} h_{i} \\hat{\\sigma}_{z}^{(i)}\n",
    "            +\\sum_{i,j} J_{i, j} \\hat{\\sigma}_{z}^{(i)} \\hat{\\sigma}_{z}^{(j)}\n",
    "        \\right)\n",
    "    }_{\n",
    "        \\text{Final Hamiltonian}\n",
    "    },\n",
    "$$\n",
    "\n",
    "где $A(t)$, $B(t)$ являются функциями от времени $t \\in [0, T]$, $\\hat{\\sigma}_{x, z}^{(i)}$ -- операторами Паули, действующими на кубиты, а $h_i$ и $J_{i,j}$ -- локальными полями и взаимодействиями кубитов соответственно. Физически, вектор $h$ соответствует внешнему магнитному полю, применимому к каждому кубиту. В свою очередь, матрица $J$ отвечает за попарные $ZZ$ взаимодействия кубитов. Функции $A(t)$, $B(t)$ должны быть такими, что $A(0)=B(T)=1$, $A(T)=B(0)=0$, то есть гамильтониан со временем полностью переходит из $\\mathcal{H}_{Initial}$ в $\\mathcal{H}_{Final}$. Вид этих функций называется расписанием отжига или `annealing schedule`.\n",
    "\n",
    "```{figure} /_static/dwave/ru/dwave/fig_3.png\n",
    ":width: 444px\n",
    "\n",
    "Пример расписания отжига: функций $A(t)$, $B(t)$.\n",
    "```\n",
    "\n",
    "Отметим также, что матрица взаимодействий кубитов $J_{i,j}$ ограничена графом взаимодействий кубитов, который обычно фиксирован. Для практического применения в коде детальное представление этого графа знать не нужно, но ознакомиться с ним можно на специально посвященной этому [странице документации `D-Wave`](https://docs.dwavesys.com/docs/latest/c_gs_4.html#getting-started-topologies).\n",
    "\n",
    "Разберем подробно, что же представляет собой данный гамильтониан. Начальный гамильтониан $\\mathcal{H}_{Initial}$ представляет собой гамильтониан с основным состоянием состоящим из суперпозиции $0$ и $1$. Этот гамильтониан в литературе также называется `tunneling Hamiltonian`. Финальный гамильтониан $\\mathcal{H}_{Final}$, в свою очередь, является гамильтонианом задачи (его называют также `Problem Hamiltonian`), чье основное состояние и представляет собой решение, параметры которого находятся в матрице взаимодействий кубитов $J_{i,j}$ и векторе локальных полей $h_i$. Обратим внимание на тот факт, что $\\mathcal{H}_{Final}$ -- полностью классический гамильтониан, он диагонален в вычислительном базисе ($\\sigma_z$). Каждое собственное (классическое) состояние этого гамильтониана соответствует классической функции потерь для решаемой задачи.\n",
    "\n",
    "Таким образом, в квантовом отжиге система инициализируется в основном состоянии начального гамильтониана -- такое состояние легко приготовить экспериментально, то есть система легко переходит в основное состояние начального гамильтониана в силу его простоты. По мере самого отжига, исходя из [адиабатической теоремы](https://ru.wikipedia.org/wiki/Адиабатическая_теорема), основное состояние начального гамильтониана переходит в основное состояние финального гамильтониана. Для наглядности, на графике ниже (взят из [этой](https://arxiv.org/pdf/1903.06559.pdf) статьи) показано типичное поведение первых энергетических уровней гамильтониана. Основному состоянию соответствует кривая с наименьшей энергией.\n",
    "\n",
    "```{figure} /_static/dwave/ru/dwave/fig_1.png\n",
    ":width: 444px\n",
    "\n",
    "Типичная зависимость от времени энергетических уровней гамильтонианов, используемых в квантовом отжиге\n",
    "```\n",
    "\n",
    "Очень важно отметить, что для успеха данного алгоритма необходимо выполнение условий адиабатической теоремы:\n",
    "\n",
    "1. минимальная энергетическая щель $\\Delta_{\\text{min}}$ (разница энергий основного и первого возбужденного состояний) не должна обращаться в $0$ в любой момент времени;\n",
    "2. функции $A(t)$ и $B(t)$ должны меняться достаточно медленно.\n",
    "\n",
    "Можно показать, что второе условие может быть переформулировано в виде $T \\gg \\frac{1}{\\Delta^2_{\\text{min}}}$. Именно это неравенство ответственно за наибольшую проблему, с которой можно столкнуться при практической реализации данного алгоритма. В частности, из него видно, что время алгоритма зависит от минимальной (за все время алгоритма) энергетической щели, которая не должна быть слишком маленькой, иначе время алгоритма станет слишком большим. Если же щель будет слишком большой (что соответствует быстрому отжигу), то система может перейти в возбужденное состояние. Однако, основные состояний начального и финального гамильтонианов являются, качественно, сильно разными. Основное состояние начального гамильтониана является тривиальным, в то время как основное состояние финального гамильтониана кодирует в себе решение сложной задачи оптимизации. Это наталкивает нас на мысль, что в течение процесса квантового отжига, система может пережить квантовый фазовый переход.\n",
    "\n",
    "Для квантовых фазовых переходов первого рода известно, что $\\Delta_{\\text{min}} \\propto e^{-N}$, где $N$ -- количество кубитов, что приводит к $T \\propto e^{2N}$, то есть экспоненциально большому времени алгоритма. В этом случае задача считается \"сложной\", так как алгоритм не масштабируется.\n",
    "\n",
    "В свою очередь, для квантовых фазовых переходов второго рода верно, что $\\Delta_{\\text{min}} \\propto N^{-l}$ ($l>0$), что приводит к $T \\propto N^{2l}$, то есть полиномиальному времени алгоритма и задача считается \"простой\".\n",
    "\n",
    "## Пример: задача раскраски графа\n",
    "\n",
    "Давайте теперь попробуем решить с помощью квантового отжига следующую задачу комбинаторной оптимизации -- [задачу раскраски графа](https://ru.wikipedia.org/wiki/Раскраска_графов), или, как она называется в англоязычной литературе -- `graph coloring problem`. В этой задаче необходимо с помощью заданного числа цветов присвоить цвет каждой вершине графа так, чтобы любые две вершины, имеющие общее ребро, имели разные цвета. Назовем граф $G = (E,V)$, где $E$ -- множество ребер, а $V$ -- множество вершин. Для наглядности, рассмотрим эту задачу в виде раскраски карты Канады четырьмя цветами -- необходимо каждой канадской провинции (аналогу штата в США) присвоить цвет так, чтобы все граничащие провинции имели разные цвета. Этот пример находится также в [документации](https://docs.ocean.dwavesys.com/en/latest/examples/map_coloring.html#map-coloring) `D-Wave`. Визуально, решение этой задачи будет выглядеть как на следующем графике.\n",
    "\n",
    "```{figure} /_static/dwave/ru/dwave/fig_2.png\n",
    ":width: 444px\n",
    "\n",
    "Раскрас карты Канады с помощью четырех цветов.\n",
    "```\n",
    "\n",
    "`D-Wave` предоставляют доступ к трем видам бэкендов: квантовому, классическому и гибридному. Так как курс посвящен квантовому машинному обучению, воспользуемся непосредственно квантовым отжигателем. Для этого необходимо получить токен, который генерируется в личном кабинете пользователя при регистрации в [облачном сервисе D-Wave](https://cloud.dwavesys.com/leap/).\n",
    "\n",
    "Импортируем нужные библиотеки."
   ]
  },
  {
   "cell_type": "code",
   "execution_count": 1,
   "id": "3b474d28",
   "metadata": {},
   "outputs": [],
   "source": [
    "import dwavebinarycsp\n",
    "from dwave.system import DWaveSampler, EmbeddingComposite\n",
    "import networkx as nx\n",
    "import matplotlib.pyplot as plt"
   ]
  },
  {
   "cell_type": "markdown",
   "id": "b2f7b31e",
   "metadata": {},
   "source": [
    "Отобразим задачу на граф, где провинции будут вершинами графа, а границы -- его ребрами. Например `(AB, BC)` -- ребро, соответствующее границе между провинциями Альберта и Британская Колумбия. Обозначения провинций представлены в таблице ниже.\n",
    "\n",
    "| код | провинция             | код | провинция                 | код | провинция    |\n",
    "|-----|-----------------------|-----|---------------------------|-----|--------------|\n",
    "| AB  | Alberta               | BC  | British Columbia          | MB  | Manitoba     |\n",
    "| NB  | New Brunswick         | NL  | Newfoundland and Labrador | NS  | Nova Scotia  |\n",
    "| NT  | Northwest Territories | NU  | Nunavut                   | ON  | Ontario      |\n",
    "| PE  | Prince Edward Island  | QC  | Quebec                    | SK  | Saskatchewan |\n",
    "| YT  | Yukon                 |"
   ]
  },
  {
   "cell_type": "code",
   "execution_count": 2,
   "id": "d38e0f82",
   "metadata": {},
   "outputs": [],
   "source": [
    "provinces = [\"AB\", \"BC\", \"MB\", \"NB\", \"NL\", \"NS\", \"NT\", \"NU\", \"ON\", \"PE\", \"QC\", \"SK\", \"YT\"]\n",
    "neighbors = [(\"AB\", \"BC\"), (\"AB\", \"NT\"), (\"AB\", \"SK\"), (\"BC\", \"NT\"), (\"BC\", \"YT\"),\n",
    "             (\"MB\", \"NU\"), (\"MB\", \"ON\"), (\"MB\", \"SK\"), (\"NB\", \"NS\"), (\"NB\", \"QC\"),\n",
    "             (\"NL\", \"QC\"), (\"NT\", \"NU\"), (\"NT\", \"SK\"), (\"NT\", \"YT\"), (\"ON\", \"QC\")]"
   ]
  },
  {
   "cell_type": "markdown",
   "id": "0cf5b57d",
   "metadata": {},
   "source": [
    "Чтобы \"объяснить\" отжигателю эту задачу, необходимо сформулировать ее в виде [задачи удовлетворения ограничений](https://ru.wikipedia.org/wiki/Удовлетворение_ограничений) (`Constraint Satisfaction Problem (CSP)`). В свою очередь, библиотеки `D-Wave` умеют отображать ее на модель Изинга. Математически, это выглядит следующим образом: каждой провинции (вершине графа) сопоставляется 4 бинарные переменные (каждая отвечает за один из четырех цветов) $x_i \\in \\{0,1\\}$, где одна из переменных \"выбирает\" цвет и переключается в состояние $x_i = 1$, как и остальные три переменные остаются в состоянии $0$.\n",
    "\n",
    "Теперь займемся ограничениями. Следующая функция выражает ограничение того, что соседние вершины в графе не могут быть одного и того же цвета. Область ее определения и значения -- булевы переменные."
   ]
  },
  {
   "cell_type": "code",
   "execution_count": 3,
   "id": "aa6251ba",
   "metadata": {},
   "outputs": [],
   "source": [
    "def not_both_1(v: bool, u: bool) -> bool:\n",
    "    return not (v and u)"
   ]
  },
  {
   "cell_type": "markdown",
   "id": "19b0dedc",
   "metadata": {},
   "source": [
    "Зададим конфигурации цветов."
   ]
  },
  {
   "cell_type": "code",
   "execution_count": 4,
   "id": "bf535349",
   "metadata": {},
   "outputs": [],
   "source": [
    "one_color_configurations = {(0, 0, 0, 1), (0, 0, 1, 0), (0, 1, 0, 0), (1, 0, 0, 0)}\n",
    "colors = len(one_color_configurations)"
   ]
  },
  {
   "cell_type": "markdown",
   "id": "c88b9d8e",
   "metadata": {},
   "source": [
    "Создадим объект класса `CSP` и зададим следующие ограничения:\n",
    "\n",
    "- каждая провинция имеет лишь один цвет;\n",
    "- каждая ей соседняя не может иметь такой же цвет."
   ]
  },
  {
   "cell_type": "code",
   "execution_count": 5,
   "id": "62ca9e4f",
   "metadata": {},
   "outputs": [],
   "source": [
    "csp = dwavebinarycsp.ConstraintSatisfactionProblem(dwavebinarycsp.BINARY)\n",
    "\n",
    "for province in provinces:\n",
    "    variables = [province+str(i) for i in range(colors)]\n",
    "    csp.add_constraint(one_color_configurations, variables)\n",
    "\n",
    "for neighbor in neighbors:\n",
    "    v, u = neighbor\n",
    "    for i in range(colors):\n",
    "        variables = [v+str(i), u+str(i)]\n",
    "        csp.add_constraint(not_both_1, variables)"
   ]
  },
  {
   "cell_type": "markdown",
   "id": "e5fd7fbd",
   "metadata": {},
   "source": [
    "Конвертируем модель из `CSP` в `BQM` (`Binary Quadratic Model`) -- бинарную квадратичную модель. Это модель Изинга, в которой значения спинов $\\sigma_i = 0.5 * (x_i + 1)$. Таким образом, каждая провинция Канады и ее цвет будет кодироваться четырьмя спинами, один из которых направлен вверх (вниз), пока остальные направлены вниз (вверх)."
   ]
  },
  {
   "cell_type": "code",
   "execution_count": 6,
   "id": "41c53296",
   "metadata": {},
   "outputs": [],
   "source": [
    "bqm = dwavebinarycsp.stitch(csp)"
   ]
  },
  {
   "cell_type": "markdown",
   "id": "fd748d4a",
   "metadata": {},
   "source": [
    "Создадим семплер, передав в него `API Token`, создав прежде переменное окружение `DWAVE_TOKEN`, к примеру, в терминале посредством `export DWAVE_TOKEN=insert_api_token`:"
   ]
  },
  {
   "cell_type": "code",
   "execution_count": 7,
   "id": "a9aab4ad",
   "metadata": {},
   "outputs": [],
   "source": [
    "import os\n",
    "\n",
    "base_sampler = DWaveSampler(token=os.environ[\"DWAVE_TOKEN\"])"
   ]
  },
  {
   "cell_type": "markdown",
   "id": "e00173e9",
   "metadata": {},
   "source": [
    "Дадим задание квантовому семплеру на $1000$."
   ]
  },
  {
   "cell_type": "code",
   "execution_count": 8,
   "id": "5e8deaf7",
   "metadata": {},
   "outputs": [],
   "source": [
    "sampler = EmbeddingComposite(base_sampler)\n",
    "sampleset = sampler.sample(bqm, num_reads=1000, label=\"Canada Map Coloring\")"
   ]
  },
  {
   "cell_type": "markdown",
   "id": "520f6ec0",
   "metadata": {},
   "source": [
    "Проверим, что было найдено решение задачи,"
   ]
  },
  {
   "cell_type": "code",
   "execution_count": 9,
   "id": "78e23409",
   "metadata": {},
   "outputs": [
    {
     "name": "stdout",
     "output_type": "stream",
     "text": [
      "{'AB0': 0, 'AB1': 0, 'AB2': 1, 'AB3': 0, 'BC0': 1, 'BC1': 0, 'BC2': 0, 'BC3': 0, 'MB0': 0, 'MB1': 1, 'MB2': 0, 'MB3': 0, 'NB0': 0, 'NB1': 1, 'NB2': 0, 'NB3': 0, 'NL0': 1, 'NL1': 0, 'NL2': 0, 'NL3': 0, 'NS0': 1, 'NS1': 0, 'NS2': 0, 'NS3': 0, 'NT0': 0, 'NT1': 1, 'NT2': 0, 'NT3': 0, 'NU0': 1, 'NU1': 0, 'NU2': 0, 'NU3': 0, 'ON0': 0, 'ON1': 0, 'ON2': 0, 'ON3': 1, 'PE0': 0, 'PE1': 1, 'PE2': 0, 'PE3': 0, 'QC0': 0, 'QC1': 0, 'QC2': 1, 'QC3': 0, 'SK0': 1, 'SK1': 0, 'SK2': 0, 'SK3': 0, 'YT0': 0, 'YT1': 0, 'YT2': 0, 'YT3': 1}\n"
     ]
    }
   ],
   "source": [
    "sample = sampleset.first.sample\n",
    "if not csp.check(sample):\n",
    "    print(\"Failed to color map. Try sampling again.\")\n",
    "else:\n",
    "    print(sample)"
   ]
  },
  {
   "cell_type": "markdown",
   "id": "e0f494f2",
   "metadata": {},
   "source": [
    "Мы получили словарь `sample`, который будет выглядеть следующим образом: его ключи будут кодировать провинцию и цвет, а значения -- бинарные переменные, означающие раскрашена ли провинция этим цветом. Этот словарь -- семпл из состояния, полученного при решении данной задачи методом квантового отжига. Построим визуализацию решения в виде графа с раскрашенными вершинами."
   ]
  },
  {
   "cell_type": "code",
   "execution_count": 10,
   "id": "328af064",
   "metadata": {},
   "outputs": [
    {
     "data": {
      "image/png": "[encoded data removed]",
      "text/plain": [
       "<Figure size 432x288 with 1 Axes>"
      ]
     },
     "metadata": {
      "filenames": {
       "image/png": "/home/runner/work/qmlcourse/qmlcourse/qmlcourse/_build/jupyter_execute/book/dwave/ru/dwave_19_0.png"
      }
     },
     "output_type": "display_data"
    }
   ],
   "source": [
    "from typing import List\n",
    "from typing import Tuple\n",
    "from typing import Dict\n",
    "\n",
    "\n",
    "def plot_map(sample: Dict[str, bool], provinces: List[str], neighbors: List[Tuple[str]]) -> None:\n",
    "    G = nx.Graph()\n",
    "    G.add_nodes_from(provinces)\n",
    "    G.add_edges_from(neighbors)\n",
    "    color_map = {}\n",
    "    for province in provinces:\n",
    "          for i in range(colors):\n",
    "            if sample[province+str(i)]:\n",
    "                color_map[province] = i\n",
    "    node_colors = [color_map.get(node) for node in G.nodes()]\n",
    "    nx.draw_circular(G, with_labels=True, node_color=node_colors, node_size=3000, cmap=plt.cm.rainbow)\n",
    "    plt.show()\n",
    "\n",
    "plot_map(sample, provinces, neighbors)"
   ]
  },
  {
   "cell_type": "markdown",
   "id": "af330292",
   "metadata": {},
   "source": [
    "После запуска функции `plot_map`, получим изображение графа, в котором вершины будут соответствовать провинциям и цветам, а ребра -- границам между провинциями. Вы можете сами убедиться, что ни одна провинция не будет иметь такой же цвет, как и ее сосед. Также отметим, что такая задача может иметь не одно решение, поэтому не нужно ожидать, что граф будет получаться всегда одним и тем же.\n",
    "\n",
    "Таким образом, сумели решить задачу раскраски графа с помощью квантового отжигателя.\n",
    "\n",
    "## Пример: задача электронной структуры молекулы\n",
    "\n",
    "Поскольку в курсе также имеем дело с задачами квантовой химии, давайте разберем соответствующий пример из {cite}`teplukhin2020electronic`. В данной статье авторы осуществляют точную диагонализацию физического гамильтониана с помощью квантового отжигателя `D-Wave`. Этот подход они называют `QAE` -- `Quantum Annealing Eigensolver`. Разберем эту статью гораздо менее подробно, чем предыдущую задачу.\n",
    "\n",
    "Основная проблема применения квантового отжига в квантовой химии -- найти отображение гамильтониана электронной структуры молекулы на гамильтониан Изинга (вспомним $\\mathcal{H}_{Final}$ из теории квантового отжига, описанной в начале этой лекции). Обычно такие отображения начинаются с записи электронного гамильтониана в [формализме вторичного квантования](https://en.wikipedia.org/wiki/Second_quantization), а затем используют преобразования [Жордана-Вигнера](../../problems2qml/ru/jordanwigner.html#id6) (`Jordan-Wigner transformation`) или Бравого-Китаева (`Bravyi-Kitaev transformation`). Минусы такого подхода заключаются в том, что:\n",
    "\n",
    "- растет число кубитов, необходимое для описания системы на языке (напомним, классического, а значит -- диагонального) гамильтониана Изинга\n",
    "- в гамильтониане появляются элементы вне диагонали (благодаря членам содержащим $\\sigma^x$, $\\sigma^y$).\n",
    "\n",
    "Подход авторов к задаче состоит из двух частей. Первый шаг состоит из составления электронного гамильтониана в базисе [слетеровских детерминантов](https://en.wikipedia.org/wiki/Slater_determinant), которые в свою очередь составлены из одноэлектронных самосогласованных [орбиталей Хартри-Фока](https://en.wikipedia.org/wiki/Hartree%E2%80%93Fock_method).\n",
    "\n",
    "В свою очередь, второй этап состоит из нахождения первых нескольких собственных векторов (волновых функций) и собственных значений (соответствующих энергий) этого гамильтониана. Под капотом, задача нахождения собственных значений и собственных векторов отображается на задачу квантового отжига. Это самая хитрая часть алгоритма. Это отображение построено на минимизации отношения Рэлея (`Rayleigh-Ritz quotient`, `RRQ`) $R_{\\mathcal{H}}=\\langle \\psi | \\mathcal{H} | \\psi \\rangle / \\langle \\psi | \\psi \\rangle $, где $\\mathcal{H}$ -- электронный гамильтониан, а $\\psi$ -- волновая функция. Соответствующая минимальному $R$ волновая функция кодируется в бинарный вектор с помощью `power-of-two scheme`. Подробней про это можно почитать в статьях, на которые ссылается оригинальная работа. Примечательно, что метод минимизации отношения Рэлея соответствует вариационному методу в квантовой химии.\n",
    "\n",
    "На следующей схеме (взята из оригинальной работы) изображен алгоритм `QAE` в общем виде. В нашей терминологии, $A$ соответствует $\\mathcal{H}$, $v$ -- $\\psi$. $F(v)=\\langle v, A v \\rangle + \\lambda \\cdot \\langle v, v \\rangle $ -- функция потерь в формате `QUBO` -- `Quantum Unconstrained Binary Optimization` (функция потерь на языке `QUBO` получается, если в функции потерь на языке модели Изинга, каждую спиновую переменную $\\sigma_i \\ \\in \\ \\{-1,1\\}$ преобразовать по закону $x_i = (\\sigma_i + 1)/2$, $\\sigma_i \\ \\in \\ \\{0,1\\}$), с классическим множителем лагранжа $\\lambda$.\n",
    "\n",
    "```{figure} /_static/dwave/ru/dwave/fig_4.png\n",
    ":width: 444px\n",
    "\n",
    "Схема алгоритма `QAE`.\n",
    "```\n",
    "\n",
    "```{figure} /_static/dwave/ru/dwave/fig_5.png\n",
    ":width: 444px\n",
    "\n",
    "Результаты алгоритма на примере молекулы $H_3^{+}$.\n",
    "```"
   ]
  }
 ],
 "metadata": {
  "jupytext": {
   "formats": "md:myst",
   "text_representation": {
    "extension": ".md",
    "format_name": "myst"
   }
  },
  "kernelspec": {
   "display_name": "Python 3",
   "language": "python",
   "name": "python3"
  },
  "language_info": {
   "codemirror_mode": {
    "name": "ipython",
    "version": 3
   },
   "file_extension": ".py",
   "mimetype": "text/x-python",
   "name": "python",
   "nbconvert_exporter": "python",
   "pygments_lexer": "ipython3",
   "version": "3.8.10"
  },
  "source_map": [
   11,
   106,
   111,
   123,
   128,
   134,
   137,
   141,
   144,
   151,
   163,
   167,
   169,
   173,
   177,
   181,
   184,
   188,
   194,
   198,
   218
  ]
 },
 "nbformat": 4,
 "nbformat_minor": 5
}